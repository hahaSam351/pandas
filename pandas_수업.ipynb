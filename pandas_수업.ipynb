{
 "cells": [
  {
   "cell_type": "code",
   "execution_count": 1,
   "id": "3cea388f",
   "metadata": {},
   "outputs": [],
   "source": [
    "import numpy as np\n",
    "import pandas as pd\n",
    "import matplotlib.pyplot as plt\n",
    "\n",
    "import matplotlib\n",
    "plt.style.use(['seaborn'])\n",
    "matplotlib.rcParams['font.family']='Malgun Gothic'\n",
    "matplotlib.rcParams['axes.unicode_minus'] = False\n",
    "\n",
    "import missingno as mn\n",
    "from datetime import datetime\n",
    "from pandas_datareader import data"
   ]
  },
  {
   "cell_type": "markdown",
   "id": "913f5809",
   "metadata": {},
   "source": [
    "# 목차\n",
    "## 01. 시리즈 만들기\n",
    "## 02. 시리즈 속성\n",
    "## 03. 시리즈 인덱싱, 슬라이싱\n",
    "## 04. 시리즈 연산\n",
    "## 05. 추가, 수정, 삭제, 검색\n",
    "## 06. 문자열 검색\n",
    "## 07. 시리즈 통계\n",
    "\n",
    "## 08. 데이터프레임 만들기\n",
    "## 09. 데이터프레임 속성\n",
    "## 10. 데이터프레임 인덱싱, 슬라이싱\n",
    "## 11. 데이터프레임 연산\n",
    "## 12. 추가, 수정, 삭제, 검색\n",
    "## 13. 데이터프레임 통계\n",
    "## 14. Groupby\n",
    "## 15. 병합\n",
    "## 16. 멀티인덱스\n",
    "## 17. 시계열데이터"
   ]
  },
  {
   "cell_type": "markdown",
   "id": "dd7de941",
   "metadata": {},
   "source": [
    "## 01. 시리즈 만들기\n",
    "- https://pandas.pydata.org/docs/reference/api/pandas.Series.html\n"
   ]
  },
  {
   "cell_type": "code",
   "execution_count": 2,
   "id": "663b0e07",
   "metadata": {},
   "outputs": [],
   "source": [
    "# 1차원 데이터\n",
    "myList = [10, 20, 30, 40]\n",
    "t = (10, 20, 30, 40)\n",
    "d = {'aa':10, 'bb':20, 'cc':30}\n",
    "arr = np.array( [11,22,33,44])"
   ]
  },
  {
   "cell_type": "code",
   "execution_count": 3,
   "id": "0bb4b1d9",
   "metadata": {},
   "outputs": [
    {
     "data": {
      "text/plain": [
       "aa    10\n",
       "bb    20\n",
       "cc    30\n",
       "dd    40\n",
       "Name: 국어점수, dtype: int32"
      ]
     },
     "execution_count": 3,
     "metadata": {},
     "output_type": "execute_result"
    }
   ],
   "source": [
    "# sr = pd.Series( data=myList, index=['aa','bb','cc','dd'], dtype= np.int32)\n",
    "# sr = pd.Series( data=myList, index=['aa','bb','cc','dd'], dtype= np.float32)\n",
    "# sr = pd.Series( data=myList, index=['aa','bb','cc','dd'], dtype= np.str_)\n",
    "sr = pd.Series( data=myList, index=['aa','bb','cc','dd'], dtype= np.int32, name='국어점수')\n",
    "sr"
   ]
  },
  {
   "cell_type": "code",
   "execution_count": 4,
   "id": "93e02d69",
   "metadata": {},
   "outputs": [
    {
     "name": "stdout",
     "output_type": "stream",
     "text": [
      "<class 'pandas.core.series.Series'>\n"
     ]
    }
   ],
   "source": [
    "print(type(sr))"
   ]
  },
  {
   "cell_type": "code",
   "execution_count": 5,
   "id": "e891d2f5",
   "metadata": {},
   "outputs": [
    {
     "data": {
      "text/plain": [
       "0    10\n",
       "1    20\n",
       "2    30\n",
       "3    40\n",
       "Name: 국어점수, dtype: int64"
      ]
     },
     "execution_count": 5,
     "metadata": {},
     "output_type": "execute_result"
    }
   ],
   "source": [
    "sr1 = pd.Series(t, name='국어점수')\n",
    "sr1"
   ]
  },
  {
   "cell_type": "code",
   "execution_count": 6,
   "id": "479dc435",
   "metadata": {},
   "outputs": [
    {
     "data": {
      "text/plain": [
       "aa    10\n",
       "bb    20\n",
       "cc    30\n",
       "Name: 국어점수, dtype: int64"
      ]
     },
     "execution_count": 6,
     "metadata": {},
     "output_type": "execute_result"
    }
   ],
   "source": [
    "sr2 = pd.Series(d, name='국어점수')\n",
    "sr2"
   ]
  },
  {
   "cell_type": "code",
   "execution_count": 7,
   "id": "2e9a3236",
   "metadata": {},
   "outputs": [
    {
     "data": {
      "text/plain": [
       "0    11\n",
       "1    22\n",
       "2    33\n",
       "3    44\n",
       "Name: 국어점수, dtype: int32"
      ]
     },
     "execution_count": 7,
     "metadata": {},
     "output_type": "execute_result"
    }
   ],
   "source": [
    "sr3 = pd.Series(arr, name='국어점수')\n",
    "sr3"
   ]
  },
  {
   "cell_type": "markdown",
   "id": "c556307e",
   "metadata": {},
   "source": [
    "## 02. 시리즈 속성"
   ]
  },
  {
   "cell_type": "code",
   "execution_count": 8,
   "id": "a0de70ee",
   "metadata": {},
   "outputs": [
    {
     "data": {
      "text/plain": [
       "aa    10\n",
       "bb    20\n",
       "cc    30\n",
       "dd    40\n",
       "ee    50\n",
       "Name: 국어점수, dtype: int64"
      ]
     },
     "execution_count": 8,
     "metadata": {},
     "output_type": "execute_result"
    }
   ],
   "source": [
    "data = {'aa':10,'bb':20,'cc':30,'dd':40, 'ee':50}\n",
    "sr = pd.Series(data, name='국어점수')\n",
    "sr"
   ]
  },
  {
   "cell_type": "code",
   "execution_count": 9,
   "id": "ca46a83d",
   "metadata": {},
   "outputs": [
    {
     "name": "stdout",
     "output_type": "stream",
     "text": [
      "국어점수\n",
      "int64\n",
      "1\n",
      "(5,)\n",
      "5\n",
      "Index(['aa', 'bb', 'cc', 'dd', 'ee'], dtype='object')\n",
      "[10 20 30 40 50]\n",
      "150\n"
     ]
    }
   ],
   "source": [
    "print(sr.name)\n",
    "print(sr.dtype)\n",
    "print(sr.ndim)\n",
    "print(sr.shape)\n",
    "print(sr.size)\n",
    "print(sr.index)\n",
    "print(sr.values)\n",
    "print(sr.values.sum())\n",
    "# arr = sr.values\n",
    "# arr.sum() # np.sum(arr)\n",
    "# print( type( sr.values ))"
   ]
  },
  {
   "cell_type": "markdown",
   "id": "2947955f",
   "metadata": {},
   "source": [
    "## 03. 시리즈 인덱싱, 슬라이싱"
   ]
  },
  {
   "cell_type": "code",
   "execution_count": 10,
   "id": "6a89b15a",
   "metadata": {},
   "outputs": [
    {
     "name": "stdout",
     "output_type": "stream",
     "text": [
      "aa    10\n",
      "bb    20\n",
      "cc    30\n",
      "dd    40\n",
      "ee    50\n",
      "Name: 국어점수, dtype: int64\n",
      "------------------------------\n",
      "10\n",
      "50\n",
      "10\n",
      "50\n",
      "aa    10\n",
      "cc    30\n",
      "dd    40\n",
      "Name: 국어점수, dtype: int64\n",
      "aa    10\n",
      "dd    40\n",
      "ee    50\n",
      "Name: 국어점수, dtype: int64\n"
     ]
    }
   ],
   "source": [
    "print(sr)\n",
    "print('-'*30)\n",
    "print(sr[0])\n",
    "print(sr[-1])\n",
    "print(sr['aa'])\n",
    "print(sr['ee'])\n",
    "print(sr[ [0,2,3] ])   # numpy와 달리 Series로\n",
    "# sr2 = np.array([10,20,30,40,50])\n",
    "# sr2[[0,2,3]]   # array([10, 30, 40])\n",
    "print(sr[ ['aa', 'dd', 'ee']])"
   ]
  },
  {
   "cell_type": "code",
   "execution_count": 11,
   "id": "e86fa886",
   "metadata": {},
   "outputs": [
    {
     "name": "stdout",
     "output_type": "stream",
     "text": [
      "aa    10\n",
      "bb    20\n",
      "cc    30\n",
      "dd    40\n",
      "ee    50\n",
      "Name: 국어점수, dtype: int64\n",
      "------------------------------\n",
      "bb    20\n",
      "cc    30\n",
      "dd    40\n",
      "Name: 국어점수, dtype: int64\n",
      "cc    30\n",
      "dd    40\n",
      "ee    50\n",
      "Name: 국어점수, dtype: int64\n"
     ]
    }
   ],
   "source": [
    "print(sr)\n",
    "print('-'*30)\n",
    "print(sr[1:4])\n",
    "print(sr[2:])"
   ]
  },
  {
   "cell_type": "code",
   "execution_count": 12,
   "id": "d0f910b2",
   "metadata": {},
   "outputs": [
    {
     "data": {
      "text/plain": [
       "aa    10\n",
       "bb    20\n",
       "cc    30\n",
       "Name: 국어점수, dtype: int64"
      ]
     },
     "execution_count": 12,
     "metadata": {},
     "output_type": "execute_result"
    }
   ],
   "source": [
    "# 부여된 인덱스명으로 슬라이싱하면 끝 인덱스 포함\n",
    "sr['aa':'cc']"
   ]
  },
  {
   "cell_type": "code",
   "execution_count": 13,
   "id": "5596a92b",
   "metadata": {},
   "outputs": [
    {
     "name": "stdout",
     "output_type": "stream",
     "text": [
      "10\n",
      "50\n",
      "cc    30\n",
      "dd    40\n",
      "Name: 국어점수, dtype: int64\n"
     ]
    }
   ],
   "source": [
    "# iloc: zero base indexing, slicing\n",
    "print(sr.iloc[0])\n",
    "print(sr.iloc[-1])\n",
    "print(sr.iloc[2:4])"
   ]
  },
  {
   "cell_type": "code",
   "execution_count": 14,
   "id": "d95595b2",
   "metadata": {},
   "outputs": [
    {
     "name": "stdout",
     "output_type": "stream",
     "text": [
      "10\n",
      "cc    30\n",
      "dd    40\n",
      "ee    50\n",
      "Name: 국어점수, dtype: int64\n",
      "aa    10\n",
      "ee    50\n",
      "Name: 국어점수, dtype: int64\n"
     ]
    }
   ],
   "source": [
    "# loc: 부여된 인덱스로 indexing, slicing\n",
    "print(sr.loc['aa'])\n",
    "print(sr.loc['cc':'ee'])\n",
    "print(sr.loc[['aa','ee']])"
   ]
  },
  {
   "cell_type": "code",
   "execution_count": 15,
   "id": "3cf2a849",
   "metadata": {},
   "outputs": [
    {
     "name": "stdout",
     "output_type": "stream",
     "text": [
      "2    10\n",
      "3    20\n",
      "4    30\n",
      "5    40\n",
      "6    50\n",
      "Name: 국어점수, dtype: int64\n",
      "10\n",
      "10\n",
      "50\n",
      "10\n",
      "3    20\n",
      "4    30\n",
      "5    40\n",
      "Name: 국어점수, dtype: int64\n"
     ]
    }
   ],
   "source": [
    "# iloc, loc 나눠쓰는 이유\n",
    "sr.index = [2,3,4,5,6]\n",
    "print(sr)\n",
    "print(sr[2])   # index가 숫자면 부여된 인덱스로 자동 고정됨\n",
    "# sr[-1]   => KeyError   => 인덱스 숫자면 iloc, loc 써야 안헤깔려\n",
    "print(sr.iloc[0])\n",
    "print(sr.iloc[-1])\n",
    "print(sr.loc[2])\n",
    "print(sr.loc[3:5])   # 부여된 인덱스명으로 슬라이싱하면 끝 인덱스 포함"
   ]
  },
  {
   "cell_type": "code",
   "execution_count": 16,
   "id": "4bd12e96",
   "metadata": {},
   "outputs": [
    {
     "data": {
      "text/plain": [
       "2    10\n",
       "3    20\n",
       "6    50\n",
       "Name: 국어점수, dtype: int64"
      ]
     },
     "execution_count": 16,
     "metadata": {},
     "output_type": "execute_result"
    }
   ],
   "source": [
    "### boolean indexing\n",
    "sr[[True, True, False, False, True]]"
   ]
  },
  {
   "cell_type": "markdown",
   "id": "8d596578",
   "metadata": {},
   "source": [
    "## 04. 시리즈 연산"
   ]
  },
  {
   "cell_type": "code",
   "execution_count": 17,
   "id": "143a54ef",
   "metadata": {},
   "outputs": [
    {
     "data": {
      "text/plain": [
       "aa    10\n",
       "bb    20\n",
       "cc    30\n",
       "dd    40\n",
       "ee    50\n",
       "Name: 국어점수, dtype: int64"
      ]
     },
     "execution_count": 17,
     "metadata": {},
     "output_type": "execute_result"
    }
   ],
   "source": [
    "data = {'aa':10,'bb':20,'cc':30,'dd':40, 'ee':50}\n",
    "sr = pd.Series(data, name='국어점수')\n",
    "sr"
   ]
  },
  {
   "cell_type": "code",
   "execution_count": 18,
   "id": "19cc527a",
   "metadata": {},
   "outputs": [
    {
     "name": "stdout",
     "output_type": "stream",
     "text": [
      "aa    12\n",
      "bb    22\n",
      "cc    32\n",
      "dd    42\n",
      "ee    52\n",
      "Name: 국어점수, dtype: int64\n"
     ]
    },
    {
     "data": {
      "text/plain": [
       "aa     20\n",
       "bb     40\n",
       "cc     60\n",
       "dd     80\n",
       "ee    100\n",
       "Name: 국어점수, dtype: int64"
      ]
     },
     "execution_count": 18,
     "metadata": {},
     "output_type": "execute_result"
    }
   ],
   "source": [
    "# 산술관계논리(element wise)\n",
    "print(sr + 2)\n",
    "sr * 2"
   ]
  },
  {
   "cell_type": "code",
   "execution_count": 19,
   "id": "faa47f82",
   "metadata": {},
   "outputs": [
    {
     "name": "stdout",
     "output_type": "stream",
     "text": [
      "aa    False\n",
      "bb    False\n",
      "cc    False\n",
      "dd     True\n",
      "ee     True\n",
      "Name: 국어점수, dtype: bool\n"
     ]
    },
    {
     "data": {
      "text/plain": [
       "dd    40\n",
       "ee    50\n",
       "Name: 국어점수, dtype: int64"
      ]
     },
     "execution_count": 19,
     "metadata": {},
     "output_type": "execute_result"
    }
   ],
   "source": [
    "# 관계연산자\n",
    "print(sr > 30)\n",
    "sr[ sr > 30 ]"
   ]
  },
  {
   "cell_type": "code",
   "execution_count": 20,
   "id": "c618ad95",
   "metadata": {},
   "outputs": [
    {
     "name": "stdout",
     "output_type": "stream",
     "text": [
      "bb    20\n",
      "dd    40\n",
      "Name: 국어점수, dtype: int64\n",
      "bb    20\n",
      "cc    30\n",
      "dd    40\n",
      "Name: 국어점수, dtype: int64\n",
      "aa    10\n",
      "ee    50\n",
      "Name: 국어점수, dtype: int64\n"
     ]
    }
   ],
   "source": [
    "# 논리연산자 (and, &, or, |, not, ~)\n",
    "print(sr[ (sr==20) | (sr==40) ])\n",
    "print(sr[ (sr >= 20) & (sr <= 40) ])\n",
    "print(sr[ ~((sr >= 20) & (sr <= 40)) ])"
   ]
  },
  {
   "cell_type": "code",
   "execution_count": 21,
   "id": "a778da69",
   "metadata": {},
   "outputs": [
    {
     "name": "stdout",
     "output_type": "stream",
     "text": [
      "aa    False\n",
      "bb     True\n",
      "cc    False\n",
      "dd     True\n",
      "ee     True\n",
      "Name: 국어점수, dtype: bool\n",
      "aa    False\n",
      "bb     True\n",
      "cc    False\n",
      "dd     True\n",
      "ee     True\n",
      "Name: 국어점수, dtype: bool\n"
     ]
    },
    {
     "data": {
      "text/plain": [
       "bb    20\n",
       "dd    40\n",
       "ee    50\n",
       "Name: 국어점수, dtype: int64"
      ]
     },
     "execution_count": 21,
     "metadata": {},
     "output_type": "execute_result"
    }
   ],
   "source": [
    "# SQL: select * from student where age in (20,30,40)\n",
    "print((sr==20)|(sr==40)|(sr==50))\n",
    "print(sr.isin([20,40,50]))\n",
    "sr[sr.isin([20,40,50])]"
   ]
  },
  {
   "cell_type": "code",
   "execution_count": 22,
   "id": "74fd6886",
   "metadata": {},
   "outputs": [
    {
     "name": "stdout",
     "output_type": "stream",
     "text": [
      "aa    False\n",
      "bb     True\n",
      "cc     True\n",
      "dd     True\n",
      "ee    False\n",
      "Name: 국어점수, dtype: bool\n",
      "aa    False\n",
      "bb     True\n",
      "cc     True\n",
      "dd     True\n",
      "ee    False\n",
      "Name: 국어점수, dtype: bool\n"
     ]
    },
    {
     "data": {
      "text/plain": [
       "bb    20\n",
       "cc    30\n",
       "dd    40\n",
       "Name: 국어점수, dtype: int64"
      ]
     },
     "execution_count": 22,
     "metadata": {},
     "output_type": "execute_result"
    }
   ],
   "source": [
    "# SQL: select * from student where age >= 20 and age <= 40\n",
    "# SQL: select * from student where age between 20 and 40\n",
    "print((sr>=20)&(sr<=40))\n",
    "print(sr.between(20, 40))\n",
    "sr[sr.between(20, 40)]"
   ]
  },
  {
   "cell_type": "code",
   "execution_count": 23,
   "id": "536933f8",
   "metadata": {},
   "outputs": [
    {
     "name": "stdout",
     "output_type": "stream",
     "text": [
      "aa    10\n",
      "cc    30\n",
      "ee    50\n",
      "Name: 국어점수, dtype: int64\n"
     ]
    },
    {
     "data": {
      "text/plain": [
       "aa    10\n",
       "cc    30\n",
       "ee    50\n",
       "Name: 국어점수, dtype: int64"
      ]
     },
     "execution_count": 23,
     "metadata": {},
     "output_type": "execute_result"
    }
   ],
   "source": [
    "print(sr[~((sr==20)|(sr==40))])\n",
    "sr[~sr.isin([20,40])]"
   ]
  },
  {
   "cell_type": "code",
   "execution_count": 24,
   "id": "70208ffc",
   "metadata": {},
   "outputs": [
    {
     "name": "stdout",
     "output_type": "stream",
     "text": [
      "aa    10\n",
      "Name: 국어점수, dtype: int64\n",
      "[False  True False  True False]\n",
      "bb    20\n",
      "dd    40\n",
      "Name: 국어점수, dtype: int64\n"
     ]
    }
   ],
   "source": [
    "print(sr[sr.index=='aa'])\n",
    "print(sr.index.isin(['bb','dd']))\n",
    "print(sr[sr.index.isin(['bb','dd'])])"
   ]
  },
  {
   "cell_type": "markdown",
   "id": "56a8a638",
   "metadata": {},
   "source": [
    "## 05. 추가, 수정, 삭제, 검색"
   ]
  },
  {
   "cell_type": "code",
   "execution_count": 25,
   "id": "d641f165",
   "metadata": {},
   "outputs": [
    {
     "data": {
      "text/plain": [
       "aa    10\n",
       "bb    20\n",
       "cc    30\n",
       "dd    40\n",
       "ee    50\n",
       "Name: 국어점수, dtype: int64"
      ]
     },
     "execution_count": 25,
     "metadata": {},
     "output_type": "execute_result"
    }
   ],
   "source": [
    "data = {'aa':10,'bb':20,'cc':30,'dd':40, 'ee':50}\n",
    "sr = pd.Series(data, name='국어점수')\n",
    "sr"
   ]
  },
  {
   "cell_type": "markdown",
   "id": "5a2613f7",
   "metadata": {},
   "source": [
    "- 수정"
   ]
  },
  {
   "cell_type": "code",
   "execution_count": 26,
   "id": "37878bbb",
   "metadata": {},
   "outputs": [
    {
     "data": {
      "text/plain": [
       "aa    10\n",
       "bb    20\n",
       "cc    30\n",
       "dd    40\n",
       "ee    50\n",
       "Name: 국어점수, dtype: int64"
      ]
     },
     "execution_count": 26,
     "metadata": {},
     "output_type": "execute_result"
    }
   ],
   "source": [
    "# sr[0]  = 100\n",
    "# sr['aa'] = 200\n",
    "# sr.iloc[0]= 300\n",
    "# sr.loc['aa'] = 400\n",
    "sr"
   ]
  },
  {
   "cell_type": "code",
   "execution_count": 27,
   "id": "86815939",
   "metadata": {},
   "outputs": [
    {
     "data": {
      "text/plain": [
       "aa    10\n",
       "bb    20\n",
       "cc    30\n",
       "dd    40\n",
       "ee    50\n",
       "Name: 국어점수, dtype: int64"
      ]
     },
     "execution_count": 27,
     "metadata": {},
     "output_type": "execute_result"
    }
   ],
   "source": [
    "# sr[1:4] = 11\n",
    "# sr[1:4] = [1,2,3]\n",
    "# sr['bb':'dd'] = [4,5,6]\n",
    "# sr.iloc[1:4] = [7,8,9]\n",
    "# sr.loc['bb':'cc'] = [1,2]\n",
    "sr"
   ]
  },
  {
   "cell_type": "code",
   "execution_count": 28,
   "id": "2bc03ff8",
   "metadata": {},
   "outputs": [
    {
     "data": {
      "text/plain": [
       "aa    10\n",
       "bb    20\n",
       "cc    35\n",
       "dd    45\n",
       "ee    55\n",
       "Name: 국어점수, dtype: int64"
      ]
     },
     "execution_count": 28,
     "metadata": {},
     "output_type": "execute_result"
    }
   ],
   "source": [
    "# 30이상인데이터에 5를 더한 값으로 수정하시요.\n",
    "# sr[sr>=30] = sr[sr>=30] + 5\n",
    "sr[sr>=30] += 5 \n",
    "sr"
   ]
  },
  {
   "cell_type": "markdown",
   "id": "78f29310",
   "metadata": {},
   "source": [
    "- 추가"
   ]
  },
  {
   "cell_type": "code",
   "execution_count": 29,
   "id": "00b77c33",
   "metadata": {},
   "outputs": [
    {
     "data": {
      "text/plain": [
       "aa     10\n",
       "bb     20\n",
       "cc     35\n",
       "dd     45\n",
       "ee     55\n",
       "ff    100\n",
       "Name: 국어점수, dtype: int64"
      ]
     },
     "execution_count": 29,
     "metadata": {},
     "output_type": "execute_result"
    }
   ],
   "source": [
    "sr.loc['ff'] = 100   # 해당 인덱스 있으면 수정, 없으면 끝에 추가\n",
    "sr"
   ]
  },
  {
   "cell_type": "raw",
   "id": "527a4815",
   "metadata": {},
   "source": [
    "sr.append(pd.Series([200, 300, 400], index=['gg','hh','ii']))   # sr은 그대로\n",
    "# sr\n",
    "# sr = sr.append(pd.Series([200, 300, 400], index=['gg','hh','ii']))   # sr 새로 받아줘야"
   ]
  },
  {
   "cell_type": "markdown",
   "id": "0f52ca7d",
   "metadata": {},
   "source": [
    "- 삭제"
   ]
  },
  {
   "cell_type": "code",
   "execution_count": 30,
   "id": "8d7ff454",
   "metadata": {},
   "outputs": [],
   "source": [
    "# drop(부여된 인덱스)\n",
    "# sr.drop(['aa','dd'])   # sr은 그대로\n",
    "# sr\n",
    "# sr.drop(['aa','dd'], inplace=True)   # sr 변경\n",
    "# sr"
   ]
  },
  {
   "cell_type": "code",
   "execution_count": 31,
   "id": "8efd3060",
   "metadata": {},
   "outputs": [
    {
     "data": {
      "text/plain": [
       "aa    10\n",
       "bb    20\n",
       "Name: 국어점수, dtype: int64"
      ]
     },
     "execution_count": 31,
     "metadata": {},
     "output_type": "execute_result"
    }
   ],
   "source": [
    "# 30 이상인 데이터를 삭제하시오.\n",
    "sr.drop(sr[sr>=30].index)\n",
    "# sr.drop(sr.index[sr>=30])"
   ]
  },
  {
   "cell_type": "markdown",
   "id": "0c159123",
   "metadata": {},
   "source": [
    "- 정렬"
   ]
  },
  {
   "cell_type": "code",
   "execution_count": 32,
   "id": "b89ae20a",
   "metadata": {},
   "outputs": [
    {
     "data": {
      "text/plain": [
       "aa    100\n",
       "bb     20\n",
       "cc     35\n",
       "dd     45\n",
       "ee     55\n",
       "ff    100\n",
       "Name: 국어점수, dtype: int64"
      ]
     },
     "execution_count": 32,
     "metadata": {},
     "output_type": "execute_result"
    }
   ],
   "source": [
    "sr['aa'] = 100\n",
    "sr"
   ]
  },
  {
   "cell_type": "code",
   "execution_count": 33,
   "id": "ab82fcb0",
   "metadata": {},
   "outputs": [
    {
     "data": {
      "text/plain": [
       "ff    100\n",
       "ee     55\n",
       "dd     45\n",
       "cc     35\n",
       "bb     20\n",
       "aa    100\n",
       "Name: 국어점수, dtype: int64"
      ]
     },
     "execution_count": 33,
     "metadata": {},
     "output_type": "execute_result"
    }
   ],
   "source": [
    "sr.sort_values()\n",
    "sr.sort_values(ascending=False)\n",
    "sr.sort_index()\n",
    "sr.sort_index(ascending=False)"
   ]
  },
  {
   "cell_type": "markdown",
   "id": "dc57a178",
   "metadata": {},
   "source": [
    "## 06. 문자열 검색"
   ]
  },
  {
   "cell_type": "code",
   "execution_count": 34,
   "id": "96723896",
   "metadata": {},
   "outputs": [
    {
     "data": {
      "text/plain": [
       "aa    홍길동\n",
       "bb    이순신\n",
       "cc    김철수\n",
       "dd    김순이\n",
       "ee    이홍김\n",
       "dtype: object"
      ]
     },
     "execution_count": 34,
     "metadata": {},
     "output_type": "execute_result"
    }
   ],
   "source": [
    "sr = pd.Series(['홍길동','이순신','김철수','김순이',\n",
    "               '이홍김'] )\n",
    "sr.index=['aa','bb','cc','dd','ee']\n",
    "sr"
   ]
  },
  {
   "cell_type": "code",
   "execution_count": 35,
   "id": "c7a3ff2a",
   "metadata": {},
   "outputs": [
    {
     "name": "stdout",
     "output_type": "stream",
     "text": [
      "<class 'pandas.core.strings.accessor.StringMethods'>\n",
      "aa    길동\n",
      "bb    순신\n",
      "cc    철수\n",
      "dd    순이\n",
      "ee    홍김\n",
      "dtype: object\n",
      "aa     True\n",
      "bb    False\n",
      "cc    False\n",
      "dd    False\n",
      "ee     True\n",
      "dtype: bool\n",
      "aa    홍길동\n",
      "ee    이홍김\n",
      "dtype: object\n",
      "[ True False False False False]\n",
      "aa    홍길동\n",
      "dtype: object\n"
     ]
    }
   ],
   "source": [
    "# 데이터가 문자열인 경우 str속성을 이용\n",
    "# https://pandas.pydata.org/pandas-docs/version/0.15.2/api.html\n",
    "print(type(sr.str))\n",
    "print(sr.str[1:])\n",
    "print(sr.str.contains('홍'))\n",
    "print(sr[ sr.str.contains('홍') ])\n",
    "print(sr.index.str.contains('a'))\n",
    "print(sr[ sr.index.str.contains('a') ])"
   ]
  },
  {
   "cell_type": "code",
   "execution_count": 36,
   "id": "defbed17",
   "metadata": {},
   "outputs": [
    {
     "data": {
      "text/plain": [
       "aa    홍길동\n",
       "dd    김순이\n",
       "ee    이홍김\n",
       "dtype: object"
      ]
     },
     "execution_count": 36,
     "metadata": {},
     "output_type": "execute_result"
    }
   ],
   "source": [
    "# 정규 표현식 메타기호: . ^ $ * + ? { } [ ] \\ | ( )\n",
    "# https://wikidocs.net/4308\n",
    "sr[ sr.str.contains('^김')]   # 시작 메타기호\n",
    "sr[ sr.str.contains('김$')]   # 종료 메타기호\n",
    "sr[ sr.str.contains('[홍이]')]   # 문자의 집합\n",
    "sr[ sr.str.contains('[홍이]순')] \n",
    "sr[ sr.str.contains('길동|순이|이홍')]"
   ]
  },
  {
   "cell_type": "code",
   "execution_count": 37,
   "id": "acd3277e",
   "metadata": {},
   "outputs": [
    {
     "data": {
      "text/plain": [
       "aa    홍길동\n",
       "bb    이순신\n",
       "cc    김철수\n",
       "dd    김순이\n",
       "ee    이홍김\n",
       "dtype: object"
      ]
     },
     "execution_count": 37,
     "metadata": {},
     "output_type": "execute_result"
    }
   ],
   "source": [
    "sr.str.replace('^김','황', regex=True)\n",
    "sr.str.replace('김[철이]', '황', regex=True)\n",
    "sr.str.extract('(^김)')   # () 필수\n",
    "sr"
   ]
  },
  {
   "cell_type": "code",
   "execution_count": 38,
   "id": "6dce0106",
   "metadata": {},
   "outputs": [
    {
     "data": {
      "text/html": [
       "<div>\n",
       "<style scoped>\n",
       "    .dataframe tbody tr th:only-of-type {\n",
       "        vertical-align: middle;\n",
       "    }\n",
       "\n",
       "    .dataframe tbody tr th {\n",
       "        vertical-align: top;\n",
       "    }\n",
       "\n",
       "    .dataframe thead th {\n",
       "        text-align: right;\n",
       "    }\n",
       "</style>\n",
       "<table border=\"1\" class=\"dataframe\">\n",
       "  <thead>\n",
       "    <tr style=\"text-align: right;\">\n",
       "      <th></th>\n",
       "      <th>0</th>\n",
       "      <th>1</th>\n",
       "    </tr>\n",
       "  </thead>\n",
       "  <tbody>\n",
       "    <tr>\n",
       "      <th>aa</th>\n",
       "      <td>홍길</td>\n",
       "      <td>동</td>\n",
       "    </tr>\n",
       "    <tr>\n",
       "      <th>bb</th>\n",
       "      <td>이순</td>\n",
       "      <td>신</td>\n",
       "    </tr>\n",
       "    <tr>\n",
       "      <th>cc</th>\n",
       "      <td>김철</td>\n",
       "      <td>수</td>\n",
       "    </tr>\n",
       "    <tr>\n",
       "      <th>dd</th>\n",
       "      <td>김순</td>\n",
       "      <td>이</td>\n",
       "    </tr>\n",
       "    <tr>\n",
       "      <th>ee</th>\n",
       "      <td>이홍</td>\n",
       "      <td>김</td>\n",
       "    </tr>\n",
       "  </tbody>\n",
       "</table>\n",
       "</div>"
      ],
      "text/plain": [
       "     0  1\n",
       "aa  홍길  동\n",
       "bb  이순  신\n",
       "cc  김철  수\n",
       "dd  김순  이\n",
       "ee  이홍  김"
      ]
     },
     "execution_count": 38,
     "metadata": {},
     "output_type": "execute_result"
    }
   ],
   "source": [
    "sr.str.extract('(^김)([가-힣]+)')\n",
    "sr.str.extract('([가-힝])([가-힣]+)')\n",
    "sr.str.extract('([가-힝]{2})([가-힣]+)')"
   ]
  },
  {
   "cell_type": "markdown",
   "id": "66582017",
   "metadata": {},
   "source": [
    "## 07. 시리즈 통계"
   ]
  },
  {
   "cell_type": "code",
   "execution_count": 39,
   "id": "f5710cef",
   "metadata": {},
   "outputs": [
    {
     "data": {
      "text/plain": [
       "aa    10\n",
       "bb    20\n",
       "cc    30\n",
       "dd    40\n",
       "ee    50\n",
       "Name: 국어점수, dtype: int64"
      ]
     },
     "execution_count": 39,
     "metadata": {},
     "output_type": "execute_result"
    }
   ],
   "source": [
    "data = {'aa':10,'bb':20,'cc':30,'dd':40,'ee':50}\n",
    "sr = pd.Series(data, name='국어점수')\n",
    "sr"
   ]
  },
  {
   "cell_type": "code",
   "execution_count": 40,
   "id": "8290e06e",
   "metadata": {},
   "outputs": [
    {
     "data": {
      "text/plain": [
       "30.0"
      ]
     },
     "execution_count": 40,
     "metadata": {},
     "output_type": "execute_result"
    }
   ],
   "source": [
    "sr.sum()\n",
    "sr.min()\n",
    "sr.max()\n",
    "sr.idxmax()\n",
    "sr.idxmin()\n",
    "sr.mean()"
   ]
  },
  {
   "cell_type": "code",
   "execution_count": 41,
   "id": "48c5c69f",
   "metadata": {},
   "outputs": [
    {
     "data": {
      "text/plain": [
       "40"
      ]
     },
     "execution_count": 41,
     "metadata": {},
     "output_type": "execute_result"
    }
   ],
   "source": [
    "# 45이하인 데이터의 가장 큰 값을 구하시오.\n",
    "sr[sr<=45].max()"
   ]
  },
  {
   "cell_type": "code",
   "execution_count": 42,
   "id": "43b9cda1",
   "metadata": {},
   "outputs": [
    {
     "data": {
      "text/plain": [
       "ee    50\n",
       "cc    40\n",
       "dd    40\n",
       "Name: 국어점수, dtype: int64"
      ]
     },
     "execution_count": 42,
     "metadata": {},
     "output_type": "execute_result"
    }
   ],
   "source": [
    "sr['cc'] = 40\n",
    "sr.nlargest()   # defalut: n = 5\n",
    "sr.nlargest(2)\n",
    "sr.nlargest(n=2, keep='last')\n",
    "sr.nlargest(n=2, keep='all')"
   ]
  },
  {
   "cell_type": "code",
   "execution_count": 43,
   "id": "271b1140",
   "metadata": {},
   "outputs": [
    {
     "data": {
      "text/plain": [
       "dd    40\n",
       "ee    50\n",
       "Name: 국어점수, dtype: int64"
      ]
     },
     "execution_count": 43,
     "metadata": {},
     "output_type": "execute_result"
    }
   ],
   "source": [
    "sr.nsmallest()   # defalut: n = 5\n",
    "sr.head(2)   # defalut: n = 5\n",
    "sr.tail(n=2)"
   ]
  },
  {
   "cell_type": "code",
   "execution_count": 44,
   "id": "9e945917",
   "metadata": {},
   "outputs": [
    {
     "data": {
      "text/plain": [
       "40    2\n",
       "10    1\n",
       "20    1\n",
       "50    1\n",
       "Name: 국어점수, dtype: int64"
      ]
     },
     "execution_count": 44,
     "metadata": {},
     "output_type": "execute_result"
    }
   ],
   "source": [
    "sr.var()\n",
    "sr.std()\n",
    "sr.median()\n",
    "sr.quantile(q=[0.25, 0.5, 0.75])\n",
    "sr.unique()\n",
    "sr.value_counts()"
   ]
  },
  {
   "cell_type": "code",
   "execution_count": 45,
   "id": "f23c0d8e",
   "metadata": {},
   "outputs": [
    {
     "name": "stdout",
     "output_type": "stream",
     "text": [
      "====================\n",
      "10\n",
      "====================\n",
      "====================\n",
      "20\n",
      "====================\n",
      "====================\n",
      "40\n",
      "====================\n",
      "====================\n",
      "40\n",
      "====================\n",
      "====================\n",
      "50\n",
      "====================\n"
     ]
    },
    {
     "data": {
      "text/plain": [
       "aa    12\n",
       "bb    22\n",
       "cc    42\n",
       "dd    42\n",
       "ee    52\n",
       "Name: 국어점수, dtype: int64"
      ]
     },
     "execution_count": 45,
     "metadata": {},
     "output_type": "execute_result"
    }
   ],
   "source": [
    "def fn(v) : \n",
    "    print('='*20)\n",
    "    print(v)\n",
    "    print('='*20)\n",
    "    return v+2\n",
    "\n",
    "# sr.map\n",
    "sr.apply(fn)"
   ]
  },
  {
   "cell_type": "code",
   "execution_count": 46,
   "id": "f5845125",
   "metadata": {},
   "outputs": [
    {
     "data": {
      "text/plain": [
       "aa    12\n",
       "bb    22\n",
       "cc    41\n",
       "dd    41\n",
       "ee    51\n",
       "Name: 국어점수, dtype: int64"
      ]
     },
     "execution_count": 46,
     "metadata": {},
     "output_type": "execute_result"
    }
   ],
   "source": [
    "def fn2(v):\n",
    "    if v <= 30:\n",
    "        return v+2\n",
    "    else:\n",
    "        return v+1\n",
    "\n",
    "sr.apply(fn2)"
   ]
  },
  {
   "cell_type": "code",
   "execution_count": 47,
   "id": "8230e967",
   "metadata": {},
   "outputs": [
    {
     "data": {
      "text/plain": [
       "aa    13\n",
       "bb    23\n",
       "cc    42\n",
       "dd    42\n",
       "ee    52\n",
       "Name: 국어점수, dtype: int64"
      ]
     },
     "execution_count": 47,
     "metadata": {},
     "output_type": "execute_result"
    }
   ],
   "source": [
    "def fn3(v):\n",
    "    return v+3 if v<=30 else v+2\n",
    "\n",
    "sr.apply(fn3)"
   ]
  },
  {
   "cell_type": "code",
   "execution_count": 48,
   "id": "6f740662",
   "metadata": {},
   "outputs": [
    {
     "data": {
      "text/plain": [
       "aa    13\n",
       "bb    23\n",
       "cc    42\n",
       "dd    42\n",
       "ee    52\n",
       "Name: 국어점수, dtype: int64"
      ]
     },
     "execution_count": 48,
     "metadata": {},
     "output_type": "execute_result"
    }
   ],
   "source": [
    "sr.apply(lambda v: v+3 if v<=30 else v+2)   # lambda: 임시 함수 => 메모리 측면에서 좋음"
   ]
  },
  {
   "cell_type": "code",
   "execution_count": 49,
   "id": "f1748f4e",
   "metadata": {},
   "outputs": [
    {
     "data": {
      "text/plain": [
       "C    2\n",
       "B    2\n",
       "A    1\n",
       "Name: 국어점수, dtype: int64"
      ]
     },
     "execution_count": 49,
     "metadata": {},
     "output_type": "execute_result"
    }
   ],
   "source": [
    "pd.cut(sr, bins=5)   # 5개의 계급으로 나누기 / dtype: category / 10포함을 위해 aa (9.96, \n",
    "pd.cut(sr, bins=[0, 20, 40, 60])   # 입력 sequence에 따라 분류 / 최저값 < 범위 <= 최대값\n",
    "pd.cut(sr, bins=[0, 20, 40, 60], labels=['C','B','A'])\n",
    "pd.cut(sr, bins=[0, 20, 40, 60], labels=['C','B','A']).value_counts()"
   ]
  },
  {
   "cell_type": "code",
   "execution_count": 50,
   "id": "87bd44b5",
   "metadata": {},
   "outputs": [
    {
     "data": {
      "text/plain": [
       "aa    C\n",
       "bb    C\n",
       "cc    B\n",
       "dd    B\n",
       "ee    A\n",
       "Name: 국어점수, dtype: category\n",
       "Categories (3, object): ['C' < 'B' < 'A']"
      ]
     },
     "execution_count": 50,
     "metadata": {},
     "output_type": "execute_result"
    }
   ],
   "source": [
    "pd.cut(sr, bins=[0, 20, 40, 60], labels=['C','B','A'])"
   ]
  },
  {
   "cell_type": "code",
   "execution_count": 51,
   "id": "8d41460a",
   "metadata": {},
   "outputs": [],
   "source": [
    "# sr.to_csv('a.csv')"
   ]
  },
  {
   "cell_type": "code",
   "execution_count": 52,
   "id": "cbcae4be",
   "metadata": {},
   "outputs": [
    {
     "name": "stdout",
     "output_type": "stream",
     "text": [
      "('aa', 10)\n",
      "('bb', 20)\n",
      "('cc', 40)\n",
      "('dd', 40)\n",
      "('ee', 50)\n"
     ]
    }
   ],
   "source": [
    "# for n in sr:\n",
    "#     print(n)\n",
    "\n",
    "# for n in sr.index:\n",
    "#     print(n)\n",
    "\n",
    "for n in sr.items():\n",
    "    print(n)"
   ]
  },
  {
   "cell_type": "code",
   "execution_count": 53,
   "id": "41d3853c",
   "metadata": {},
   "outputs": [
    {
     "data": {
      "image/png": "[encoded data removed]",
      "text/plain": [
       "<Figure size 360x360 with 1 Axes>"
      ]
     },
     "metadata": {},
     "output_type": "display_data"
    }
   ],
   "source": [
    "# 시각화\n",
    "sr.plot(kind='bar', figsize=(5, 5), title='국어점수', grid=True,\n",
    "        legend=True, ylim=(0,100), xlabel='이름', ylabel='점수',\n",
    "        rot=45)\n",
    "plt.show()"
   ]
  },
  {
   "cell_type": "code",
   "execution_count": 54,
   "id": "a03a5644",
   "metadata": {},
   "outputs": [
    {
     "data": {
      "image/png": "[encoded data removed]",
      "text/plain": [
       "<Figure size 576x396 with 1 Axes>"
      ]
     },
     "metadata": {},
     "output_type": "display_data"
    }
   ],
   "source": [
    "sr.plot(style='r-o', alpha=0.5)\n",
    "for i in range(sr.size):\n",
    "    plt.text(i, sr.iloc[i]+2, f'{sr.iloc[i]}점')\n",
    "plt.show()"
   ]
  },
  {
   "cell_type": "code",
   "execution_count": 55,
   "id": "e4e2b543",
   "metadata": {},
   "outputs": [
    {
     "data": {
      "image/png": "[encoded data removed]",
      "text/plain": [
       "<Figure size 576x396 with 1 Axes>"
      ]
     },
     "metadata": {},
     "output_type": "display_data"
    }
   ],
   "source": [
    "sr.plot(kind='pie', autopct='%.2f%%', shadow=True, explode=[0, 0, 0, 0.1, 0.2])\n",
    "plt.show()"
   ]
  },
  {
   "cell_type": "markdown",
   "id": "79fa5a8f",
   "metadata": {},
   "source": [
    "## 08. 데이터프레임 만들기"
   ]
  },
  {
   "cell_type": "code",
   "execution_count": 56,
   "id": "1e0c9bed",
   "metadata": {},
   "outputs": [],
   "source": [
    "d1 = [[1,2],[3,4],[5,6]]\n",
    "d2 = [(1,2),(3,4),(5,6)]\n",
    "d3 = [{'kor':1, 'eng':2},\n",
    "      {'kor':3, 'eng':4},\n",
    "      {'kor':5, 'eng':6}]\n",
    "d4 ={'kor':[1,3,5],'eng':[2,4,6]}\n",
    "# d5 = [시리즈, 시리즈, 시리즈]"
   ]
  },
  {
   "cell_type": "code",
   "execution_count": 57,
   "id": "0c483233",
   "metadata": {},
   "outputs": [
    {
     "data": {
      "text/html": [
       "<div>\n",
       "<style scoped>\n",
       "    .dataframe tbody tr th:only-of-type {\n",
       "        vertical-align: middle;\n",
       "    }\n",
       "\n",
       "    .dataframe tbody tr th {\n",
       "        vertical-align: top;\n",
       "    }\n",
       "\n",
       "    .dataframe thead th {\n",
       "        text-align: right;\n",
       "    }\n",
       "</style>\n",
       "<table border=\"1\" class=\"dataframe\">\n",
       "  <thead>\n",
       "    <tr style=\"text-align: right;\">\n",
       "      <th></th>\n",
       "      <th>eng</th>\n",
       "      <th>kor</th>\n",
       "    </tr>\n",
       "  </thead>\n",
       "  <tbody>\n",
       "    <tr>\n",
       "      <th>aa</th>\n",
       "      <td>1</td>\n",
       "      <td>2</td>\n",
       "    </tr>\n",
       "    <tr>\n",
       "      <th>bb</th>\n",
       "      <td>3</td>\n",
       "      <td>4</td>\n",
       "    </tr>\n",
       "    <tr>\n",
       "      <th>cc</th>\n",
       "      <td>5</td>\n",
       "      <td>6</td>\n",
       "    </tr>\n",
       "  </tbody>\n",
       "</table>\n",
       "</div>"
      ],
      "text/plain": [
       "    eng  kor\n",
       "aa    1    2\n",
       "bb    3    4\n",
       "cc    5    6"
      ]
     },
     "execution_count": 57,
     "metadata": {},
     "output_type": "execute_result"
    }
   ],
   "source": [
    "df1 = pd.DataFrame(data=d1)\n",
    "df1 = pd.DataFrame(data=d1, index=['aa','bb','cc'])\n",
    "df1 = pd.DataFrame(data=d1, index=['aa','bb','cc'], columns=['eng','kor'])\n",
    "df1"
   ]
  },
  {
   "cell_type": "code",
   "execution_count": 58,
   "id": "c1c4cf84",
   "metadata": {},
   "outputs": [
    {
     "data": {
      "text/html": [
       "<div>\n",
       "<style scoped>\n",
       "    .dataframe tbody tr th:only-of-type {\n",
       "        vertical-align: middle;\n",
       "    }\n",
       "\n",
       "    .dataframe tbody tr th {\n",
       "        vertical-align: top;\n",
       "    }\n",
       "\n",
       "    .dataframe thead th {\n",
       "        text-align: right;\n",
       "    }\n",
       "</style>\n",
       "<table border=\"1\" class=\"dataframe\">\n",
       "  <thead>\n",
       "    <tr style=\"text-align: right;\">\n",
       "      <th></th>\n",
       "      <th>0</th>\n",
       "      <th>1</th>\n",
       "    </tr>\n",
       "  </thead>\n",
       "  <tbody>\n",
       "    <tr>\n",
       "      <th>0</th>\n",
       "      <td>1</td>\n",
       "      <td>2</td>\n",
       "    </tr>\n",
       "    <tr>\n",
       "      <th>1</th>\n",
       "      <td>3</td>\n",
       "      <td>4</td>\n",
       "    </tr>\n",
       "    <tr>\n",
       "      <th>2</th>\n",
       "      <td>5</td>\n",
       "      <td>6</td>\n",
       "    </tr>\n",
       "  </tbody>\n",
       "</table>\n",
       "</div>"
      ],
      "text/plain": [
       "   0  1\n",
       "0  1  2\n",
       "1  3  4\n",
       "2  5  6"
      ]
     },
     "execution_count": 58,
     "metadata": {},
     "output_type": "execute_result"
    }
   ],
   "source": [
    "df2 = pd.DataFrame(data=d2)\n",
    "df2"
   ]
  },
  {
   "cell_type": "code",
   "execution_count": 59,
   "id": "385dde3e",
   "metadata": {},
   "outputs": [
    {
     "data": {
      "text/html": [
       "<div>\n",
       "<style scoped>\n",
       "    .dataframe tbody tr th:only-of-type {\n",
       "        vertical-align: middle;\n",
       "    }\n",
       "\n",
       "    .dataframe tbody tr th {\n",
       "        vertical-align: top;\n",
       "    }\n",
       "\n",
       "    .dataframe thead th {\n",
       "        text-align: right;\n",
       "    }\n",
       "</style>\n",
       "<table border=\"1\" class=\"dataframe\">\n",
       "  <thead>\n",
       "    <tr style=\"text-align: right;\">\n",
       "      <th></th>\n",
       "      <th>kor</th>\n",
       "      <th>eng</th>\n",
       "    </tr>\n",
       "  </thead>\n",
       "  <tbody>\n",
       "    <tr>\n",
       "      <th>0</th>\n",
       "      <td>1</td>\n",
       "      <td>2</td>\n",
       "    </tr>\n",
       "    <tr>\n",
       "      <th>1</th>\n",
       "      <td>3</td>\n",
       "      <td>4</td>\n",
       "    </tr>\n",
       "    <tr>\n",
       "      <th>2</th>\n",
       "      <td>5</td>\n",
       "      <td>6</td>\n",
       "    </tr>\n",
       "  </tbody>\n",
       "</table>\n",
       "</div>"
      ],
      "text/plain": [
       "   kor  eng\n",
       "0    1    2\n",
       "1    3    4\n",
       "2    5    6"
      ]
     },
     "execution_count": 59,
     "metadata": {},
     "output_type": "execute_result"
    }
   ],
   "source": [
    "df3 = pd.DataFrame(data=d3)\n",
    "df3"
   ]
  },
  {
   "cell_type": "code",
   "execution_count": 60,
   "id": "c1e517b9",
   "metadata": {},
   "outputs": [
    {
     "data": {
      "text/html": [
       "<div>\n",
       "<style scoped>\n",
       "    .dataframe tbody tr th:only-of-type {\n",
       "        vertical-align: middle;\n",
       "    }\n",
       "\n",
       "    .dataframe tbody tr th {\n",
       "        vertical-align: top;\n",
       "    }\n",
       "\n",
       "    .dataframe thead th {\n",
       "        text-align: right;\n",
       "    }\n",
       "</style>\n",
       "<table border=\"1\" class=\"dataframe\">\n",
       "  <thead>\n",
       "    <tr style=\"text-align: right;\">\n",
       "      <th></th>\n",
       "      <th>kor</th>\n",
       "      <th>eng</th>\n",
       "    </tr>\n",
       "  </thead>\n",
       "  <tbody>\n",
       "    <tr>\n",
       "      <th>0</th>\n",
       "      <td>1</td>\n",
       "      <td>2</td>\n",
       "    </tr>\n",
       "    <tr>\n",
       "      <th>1</th>\n",
       "      <td>3</td>\n",
       "      <td>4</td>\n",
       "    </tr>\n",
       "    <tr>\n",
       "      <th>2</th>\n",
       "      <td>5</td>\n",
       "      <td>6</td>\n",
       "    </tr>\n",
       "  </tbody>\n",
       "</table>\n",
       "</div>"
      ],
      "text/plain": [
       "   kor  eng\n",
       "0    1    2\n",
       "1    3    4\n",
       "2    5    6"
      ]
     },
     "execution_count": 60,
     "metadata": {},
     "output_type": "execute_result"
    }
   ],
   "source": [
    "df4 = pd.DataFrame(data=d4)\n",
    "df4"
   ]
  },
  {
   "cell_type": "markdown",
   "id": "6aafa1ea",
   "metadata": {},
   "source": [
    "## 09. 데이터프레임 속성"
   ]
  },
  {
   "cell_type": "code",
   "execution_count": 61,
   "id": "cfb7332f",
   "metadata": {},
   "outputs": [
    {
     "data": {
      "text/html": [
       "<div>\n",
       "<style scoped>\n",
       "    .dataframe tbody tr th:only-of-type {\n",
       "        vertical-align: middle;\n",
       "    }\n",
       "\n",
       "    .dataframe tbody tr th {\n",
       "        vertical-align: top;\n",
       "    }\n",
       "\n",
       "    .dataframe thead th {\n",
       "        text-align: right;\n",
       "    }\n",
       "</style>\n",
       "<table border=\"1\" class=\"dataframe\">\n",
       "  <thead>\n",
       "    <tr style=\"text-align: right;\">\n",
       "      <th></th>\n",
       "      <th>eng</th>\n",
       "      <th>kor</th>\n",
       "      <th>math</th>\n",
       "    </tr>\n",
       "  </thead>\n",
       "  <tbody>\n",
       "    <tr>\n",
       "      <th>a</th>\n",
       "      <td>10</td>\n",
       "      <td>20</td>\n",
       "      <td>90</td>\n",
       "    </tr>\n",
       "    <tr>\n",
       "      <th>b</th>\n",
       "      <td>30</td>\n",
       "      <td>40</td>\n",
       "      <td>50</td>\n",
       "    </tr>\n",
       "    <tr>\n",
       "      <th>c</th>\n",
       "      <td>50</td>\n",
       "      <td>60</td>\n",
       "      <td>20</td>\n",
       "    </tr>\n",
       "    <tr>\n",
       "      <th>d</th>\n",
       "      <td>70</td>\n",
       "      <td>80</td>\n",
       "      <td>70</td>\n",
       "    </tr>\n",
       "  </tbody>\n",
       "</table>\n",
       "</div>"
      ],
      "text/plain": [
       "   eng  kor  math\n",
       "a   10   20    90\n",
       "b   30   40    50\n",
       "c   50   60    20\n",
       "d   70   80    70"
      ]
     },
     "execution_count": 61,
     "metadata": {},
     "output_type": "execute_result"
    }
   ],
   "source": [
    "data =  {'eng':[10,30,50,70],\n",
    "         'kor':[20,40,60,80],\n",
    "         'math':[90,50,20,70]}\n",
    "df = pd.DataFrame(data, index=['a','b','c','d'] )\n",
    "df"
   ]
  },
  {
   "cell_type": "code",
   "execution_count": 62,
   "id": "2d878480",
   "metadata": {},
   "outputs": [
    {
     "name": "stdout",
     "output_type": "stream",
     "text": [
      "df.ndim:  2\n",
      "df.shape:  (4, 3)\n",
      "df.shape[0]:  4\n",
      "len(df):  4\n",
      "df.size:  12\n",
      "df.T:  \n",
      "        a   b   c   d\n",
      "eng   10  30  50  70\n",
      "kor   20  40  60  80\n",
      "math  90  50  20  70\n",
      "df.index:  Index(['a', 'b', 'c', 'd'], dtype='object')\n",
      "df.columns:  Index(['eng', 'kor', 'math'], dtype='object')\n",
      "df.dtypes:  \n",
      " eng     int64\n",
      "kor     int64\n",
      "math    int64\n",
      "dtype: object\n",
      "df.dtypes[\"eng\"]:  int64\n"
     ]
    }
   ],
   "source": [
    "print('df.ndim: ', df.ndim)\n",
    "print('df.shape: ', df.shape)\n",
    "print('df.shape[0]: ', df.shape[0])   # 행의 개수\n",
    "print('len(df): ', len(df))\n",
    "print('df.size: ', df.size)\n",
    "print('df.T: ', '\\n', df.T)\n",
    "print('df.index: ', df.index)\n",
    "print('df.columns: ', df.columns)\n",
    "print('df.dtypes: ', '\\n', df.dtypes)   # 시리즈 객체\n",
    "print('df.dtypes[\"eng\"]: ', df.dtypes['eng'])   # 시리즈 객체"
   ]
  },
  {
   "cell_type": "code",
   "execution_count": 63,
   "id": "9b189110",
   "metadata": {},
   "outputs": [
    {
     "name": "stdout",
     "output_type": "stream",
     "text": [
      "<class 'pandas.core.frame.DataFrame'>\n",
      "Index: 4 entries, a to d\n",
      "Data columns (total 3 columns):\n",
      " #   Column  Non-Null Count  Dtype\n",
      "---  ------  --------------  -----\n",
      " 0   eng     4 non-null      int64\n",
      " 1   kor     4 non-null      int64\n",
      " 2   math    4 non-null      int64\n",
      "dtypes: int64(3)\n",
      "memory usage: 300.0+ bytes\n"
     ]
    }
   ],
   "source": [
    "df.info()"
   ]
  },
  {
   "cell_type": "markdown",
   "id": "aa3d60bb",
   "metadata": {},
   "source": [
    "## 10. 데이터프레임 인덱싱, 슬라이싱"
   ]
  },
  {
   "cell_type": "code",
   "execution_count": 64,
   "id": "4a8e3243",
   "metadata": {},
   "outputs": [
    {
     "name": "stdout",
     "output_type": "stream",
     "text": [
      "   eng  kor  math\n",
      "a   10   20    90\n",
      "b   30   40    50\n",
      "c   50   60    20\n",
      "d   70   80    70\n",
      "a    10\n",
      "b    30\n",
      "c    50\n",
      "d    70\n",
      "Name: eng, dtype: int64\n",
      "<class 'pandas.core.series.Series'>\n",
      "   eng\n",
      "a   10\n",
      "b   30\n",
      "c   50\n",
      "d   70\n",
      "<class 'pandas.core.frame.DataFrame'>\n",
      "160\n"
     ]
    }
   ],
   "source": [
    "# 인덱싱: df['컬럼명']\n",
    "# NumPy: structured array\n",
    "print(df)\n",
    "print(df['eng'])   # 시리즈\n",
    "print(type(df['eng']))   # <class 'pandas.core.series.Series'>\n",
    "print(df[['eng']])   # 데이터프레임\n",
    "print(type(df[['eng']]))   # <class 'pandas.core.frame.DataFrame'>\n",
    "print(df['eng'].sum())   # 시리즈 객체의 속성 메소드"
   ]
  },
  {
   "cell_type": "code",
   "execution_count": 65,
   "id": "45cc599d",
   "metadata": {},
   "outputs": [
    {
     "name": "stdout",
     "output_type": "stream",
     "text": [
      "   eng  math\n",
      "a   10    90\n",
      "b   30    50\n",
      "c   50    20\n",
      "d   70    70\n",
      "a    10\n",
      "b    30\n",
      "c    50\n",
      "Name: eng, dtype: int64\n"
     ]
    }
   ],
   "source": [
    "print(df[['eng','math']])   # 데이터프레임 / NumPy 불편, 그러나 인공지능에서 많이 쓰임 / 둘다 잘 기억해 ㅎㅎ\n",
    "print(df['eng']['a':'c'])\n",
    "\n",
    "# df.eng   # 권장 사항 X\n",
    "# df.eng['a':'c']"
   ]
  },
  {
   "cell_type": "code",
   "execution_count": 66,
   "id": "d4539fcc",
   "metadata": {},
   "outputs": [
    {
     "name": "stdout",
     "output_type": "stream",
     "text": [
      "   eng  kor  math\n",
      "a   10   20    90\n",
      "b   30   40    50\n",
      "c   50   60    20\n",
      "d   70   80    70\n",
      "   eng  kor  math\n",
      "b   30   40    50\n",
      "c   50   60    20\n",
      "   eng  kor  math\n",
      "b   30   40    50\n",
      "c   50   60    20\n"
     ]
    }
   ],
   "source": [
    "# 슬라이싱: 익덱스(행, row단위)\n",
    "print(df)\n",
    "print(df[1:3])\n",
    "print(df['b':'c'])"
   ]
  },
  {
   "cell_type": "code",
   "execution_count": 67,
   "id": "7088b200",
   "metadata": {},
   "outputs": [
    {
     "name": "stdout",
     "output_type": "stream",
     "text": [
      "   0  1\n",
      "0  1  2\n",
      "1  3  4\n",
      "[1 2]\n",
      "[3 4]\n"
     ]
    }
   ],
   "source": [
    "df_prac = pd.DataFrame([[1,2],[3,4]])\n",
    "print(df_prac)\n",
    "\n",
    "a, b = df_prac.values\n",
    "print(a)\n",
    "print(b)"
   ]
  },
  {
   "cell_type": "code",
   "execution_count": 68,
   "id": "091051f0",
   "metadata": {},
   "outputs": [
    {
     "name": "stdout",
     "output_type": "stream",
     "text": [
      "   eng  kor  math\n",
      "a   10   20    90\n",
      "b   30   40    50\n",
      "c   50   60    20\n",
      "d   70   80    70\n",
      "eng     10\n",
      "kor     20\n",
      "math    90\n",
      "Name: a, dtype: int64\n",
      "10\n",
      "10\n",
      "   eng  kor  math\n",
      "b   30   40    50\n",
      "c   50   60    20\n",
      "d   70   80    70\n",
      "   eng  kor  math\n",
      "a   10   20    90\n",
      "c   50   60    20\n",
      "d   70   80    70\n"
     ]
    }
   ],
   "source": [
    "# iloc 속성 (zero-base): iloc[행, 열]\n",
    "print(df)\n",
    "print(df.iloc[0])   # 0행 => <class 'pandas.core.series.Series'>\n",
    "print(df.iloc[0,0])   # 10 => <class 'numpy.int64'>\n",
    "print(df.iloc[0]['eng'])   # 10\n",
    "print(df.iloc[1:4])   # =><class 'pandas.core.frame.DataFrame'>\n",
    "print(df.iloc[[0,2,3]])   # =><class 'pandas.core.frame.DataFrame'>"
   ]
  },
  {
   "cell_type": "code",
   "execution_count": 69,
   "id": "e23aaed7",
   "metadata": {},
   "outputs": [
    {
     "name": "stdout",
     "output_type": "stream",
     "text": [
      "b    40\n",
      "c    60\n",
      "d    80\n",
      "Name: kor, dtype: int64\n",
      "   kor  math\n",
      "b   40    50\n",
      "c   60    20\n",
      "d   80    70\n",
      "   eng  math\n",
      "a   10    90\n",
      "b   30    50\n",
      "d   70    70\n",
      "   eng  kor\n",
      "a   10   20\n",
      "b   30   40\n",
      "c   50   60\n",
      "d   70   80\n"
     ]
    }
   ],
   "source": [
    "print(df.iloc[1:, 1])\n",
    "print(df.iloc[1:, 1:])\n",
    "print(df.iloc[[0,1,3],[0,2]])\n",
    "print(df.iloc[:,:-1])   # 마지막 칼럼 제외하고 선택"
   ]
  },
  {
   "cell_type": "code",
   "execution_count": 70,
   "id": "d5ecfb59",
   "metadata": {},
   "outputs": [
    {
     "name": "stdout",
     "output_type": "stream",
     "text": [
      "   eng  kor  math\n",
      "a   10   20    90\n",
      "b   30   40    50\n",
      "c   50   60    20\n",
      "d   70   80    70\n",
      "eng     10\n",
      "kor     20\n",
      "math    90\n",
      "Name: a, dtype: int64\n",
      "10\n",
      "   eng  kor  math\n",
      "a   10   20    90\n",
      "b   30   40    50\n",
      "c   50   60    20\n",
      "   kor  math\n",
      "a   20    90\n",
      "b   40    50\n",
      "c   60    20\n",
      "   eng  math\n",
      "a   10    90\n",
      "b   30    50\n",
      "d   70    70\n"
     ]
    }
   ],
   "source": [
    "# loc 속성 (부여된 인덱스명, 컬렴명): loc[행, ]\n",
    "print(df)\n",
    "print(df.loc['a'])\n",
    "print(df.loc['a','eng'])\n",
    "print(df.loc['a':'c'])\n",
    "print(df.loc['a':'c','kor':])\n",
    "print(df.loc[['a','b','d'],['eng','math']])"
   ]
  },
  {
   "cell_type": "markdown",
   "id": "a0bccd65",
   "metadata": {},
   "source": [
    "## 11. 데이터프레임 연산"
   ]
  },
  {
   "cell_type": "code",
   "execution_count": 71,
   "id": "0ed31139",
   "metadata": {},
   "outputs": [
    {
     "data": {
      "text/html": [
       "<div>\n",
       "<style scoped>\n",
       "    .dataframe tbody tr th:only-of-type {\n",
       "        vertical-align: middle;\n",
       "    }\n",
       "\n",
       "    .dataframe tbody tr th {\n",
       "        vertical-align: top;\n",
       "    }\n",
       "\n",
       "    .dataframe thead th {\n",
       "        text-align: right;\n",
       "    }\n",
       "</style>\n",
       "<table border=\"1\" class=\"dataframe\">\n",
       "  <thead>\n",
       "    <tr style=\"text-align: right;\">\n",
       "      <th></th>\n",
       "      <th>eng</th>\n",
       "      <th>kor</th>\n",
       "      <th>math</th>\n",
       "    </tr>\n",
       "  </thead>\n",
       "  <tbody>\n",
       "    <tr>\n",
       "      <th>a</th>\n",
       "      <td>2</td>\n",
       "      <td>3</td>\n",
       "      <td>4</td>\n",
       "    </tr>\n",
       "    <tr>\n",
       "      <th>b</th>\n",
       "      <td>4</td>\n",
       "      <td>9</td>\n",
       "      <td>8</td>\n",
       "    </tr>\n",
       "    <tr>\n",
       "      <th>c</th>\n",
       "      <td>6</td>\n",
       "      <td>12</td>\n",
       "      <td>12</td>\n",
       "    </tr>\n",
       "    <tr>\n",
       "      <th>d</th>\n",
       "      <td>8</td>\n",
       "      <td>15</td>\n",
       "      <td>16</td>\n",
       "    </tr>\n",
       "  </tbody>\n",
       "</table>\n",
       "</div>"
      ],
      "text/plain": [
       "   eng  kor  math\n",
       "a    2    3     4\n",
       "b    4    9     8\n",
       "c    6   12    12\n",
       "d    8   15    16"
      ]
     },
     "execution_count": 71,
     "metadata": {},
     "output_type": "execute_result"
    }
   ],
   "source": [
    "data =  {'eng':[2,4,6,8],\n",
    "         'kor':[3,9,12,15],\n",
    "         'math':[4,8,12,16]}\n",
    "df = pd.DataFrame(data, index=['a','b','c','d'] )\n",
    "df"
   ]
  },
  {
   "cell_type": "code",
   "execution_count": 72,
   "id": "a0b7bd1f",
   "metadata": {},
   "outputs": [
    {
     "name": "stdout",
     "output_type": "stream",
     "text": [
      "   eng  kor  math\n",
      "a    4    5     6\n",
      "b    6   11    10\n",
      "c    8   14    14\n",
      "d   10   17    18\n",
      "   eng  kor  math\n",
      "a    0    1     2\n",
      "b    2    7     6\n",
      "c    4   10    10\n",
      "d    6   13    14\n",
      "   eng  kor  math\n",
      "a    4    6     8\n",
      "b    8   18    16\n",
      "c   12   24    24\n",
      "d   16   30    32\n",
      "   eng  kor  math\n",
      "a  1.0  1.5   2.0\n",
      "b  2.0  4.5   4.0\n",
      "c  3.0  6.0   6.0\n",
      "d  4.0  7.5   8.0\n"
     ]
    }
   ],
   "source": [
    "# 요소별 연산(element wise)\n",
    "print(df + 2)\n",
    "print(df - 2)\n",
    "print(df * 2)\n",
    "print(df / 2)"
   ]
  },
  {
   "cell_type": "code",
   "execution_count": 73,
   "id": "dd438565",
   "metadata": {
    "scrolled": true
   },
   "outputs": [
    {
     "name": "stdout",
     "output_type": "stream",
     "text": [
      "   eng  kor  math\n",
      "a   10    3     4\n",
      "b   30    9     8\n",
      "c   50   12    12\n",
      "d   70   15    16\n"
     ]
    }
   ],
   "source": [
    "df['eng'] + 2\n",
    "df['eng'] = 11   # 수정 => df 변경\n",
    "df['eng'] = [10,30,50,70] \n",
    "print(df)"
   ]
  },
  {
   "cell_type": "code",
   "execution_count": 74,
   "id": "3fd75bb7",
   "metadata": {},
   "outputs": [
    {
     "name": "stdout",
     "output_type": "stream",
     "text": [
      "   eng  kor  math\n",
      "a   10    3     4\n",
      "b   30    9     8\n",
      "c   50   12    12\n",
      "d   70   15    16\n",
      "   eng  kor  math\n",
      "a   12    5     6\n",
      "b   30    9     8\n",
      "c   50   12    12\n",
      "d   70   15    16\n"
     ]
    }
   ],
   "source": [
    "print(df)\n",
    "df.loc['a'] = df.loc['a'] + 2\n",
    "print(df)\n",
    "\n",
    "# df.loc['b':'c','kor':] = df.loc['b':'c','kor':] + 2\n",
    "# df.loc['b':'c','kor':'math'] = [[1,2],[3,4]]"
   ]
  },
  {
   "cell_type": "code",
   "execution_count": 75,
   "id": "ee218c83",
   "metadata": {},
   "outputs": [
    {
     "name": "stdout",
     "output_type": "stream",
     "text": [
      "   eng  kor  math\n",
      "a   12    5     6\n",
      "b   30    9     8\n",
      "c   50   12    12\n",
      "d   70   15    16\n",
      "   eng  kor  math\n",
      "a   12    5     6\n",
      "c   50   12    12\n",
      "d   70   15    16\n"
     ]
    }
   ],
   "source": [
    "# boolean 인덱싱\n",
    "print(df)\n",
    "print(df[[True,False,True,True]])   # NumPy처럼 행 단위"
   ]
  },
  {
   "cell_type": "code",
   "execution_count": 76,
   "id": "f456a931",
   "metadata": {},
   "outputs": [
    {
     "data": {
      "text/html": [
       "<div>\n",
       "<style scoped>\n",
       "    .dataframe tbody tr th:only-of-type {\n",
       "        vertical-align: middle;\n",
       "    }\n",
       "\n",
       "    .dataframe tbody tr th {\n",
       "        vertical-align: top;\n",
       "    }\n",
       "\n",
       "    .dataframe thead th {\n",
       "        text-align: right;\n",
       "    }\n",
       "</style>\n",
       "<table border=\"1\" class=\"dataframe\">\n",
       "  <thead>\n",
       "    <tr style=\"text-align: right;\">\n",
       "      <th></th>\n",
       "      <th>eng</th>\n",
       "      <th>kor</th>\n",
       "      <th>math</th>\n",
       "    </tr>\n",
       "  </thead>\n",
       "  <tbody>\n",
       "  </tbody>\n",
       "</table>\n",
       "</div>"
      ],
      "text/plain": [
       "Empty DataFrame\n",
       "Columns: [eng, kor, math]\n",
       "Index: []"
      ]
     },
     "execution_count": 76,
     "metadata": {},
     "output_type": "execute_result"
    }
   ],
   "source": [
    "# 관계 연산자 : row X , column O\n",
    "df[ df['kor'] > 40 ]"
   ]
  },
  {
   "cell_type": "code",
   "execution_count": 77,
   "id": "8a1d10f9",
   "metadata": {},
   "outputs": [
    {
     "data": {
      "text/html": [
       "<div>\n",
       "<style scoped>\n",
       "    .dataframe tbody tr th:only-of-type {\n",
       "        vertical-align: middle;\n",
       "    }\n",
       "\n",
       "    .dataframe tbody tr th {\n",
       "        vertical-align: top;\n",
       "    }\n",
       "\n",
       "    .dataframe thead th {\n",
       "        text-align: right;\n",
       "    }\n",
       "</style>\n",
       "<table border=\"1\" class=\"dataframe\">\n",
       "  <thead>\n",
       "    <tr style=\"text-align: right;\">\n",
       "      <th></th>\n",
       "      <th>eng</th>\n",
       "      <th>kor</th>\n",
       "      <th>math</th>\n",
       "    </tr>\n",
       "  </thead>\n",
       "  <tbody>\n",
       "    <tr>\n",
       "      <th>b</th>\n",
       "      <td>30</td>\n",
       "      <td>9</td>\n",
       "      <td>8</td>\n",
       "    </tr>\n",
       "    <tr>\n",
       "      <th>c</th>\n",
       "      <td>50</td>\n",
       "      <td>12</td>\n",
       "      <td>12</td>\n",
       "    </tr>\n",
       "  </tbody>\n",
       "</table>\n",
       "</div>"
      ],
      "text/plain": [
       "   eng  kor  math\n",
       "b   30    9     8\n",
       "c   50   12    12"
      ]
     },
     "execution_count": 77,
     "metadata": {},
     "output_type": "execute_result"
    }
   ],
   "source": [
    "# 논리 연산자 (&, |, ~)\n",
    "df[ (df['eng'] == 30) | (df['eng'] == 70) ]\n",
    "# df[ df['eng'].isin([30, 70]) ]\n",
    "df[ (df['eng'] >= 20) & (df['eng'] <= 50) ]\n",
    "# df[ df['eng'].between(20, 50) ]"
   ]
  },
  {
   "cell_type": "code",
   "execution_count": 78,
   "id": "3e499cd1",
   "metadata": {},
   "outputs": [
    {
     "data": {
      "text/html": [
       "<div>\n",
       "<style scoped>\n",
       "    .dataframe tbody tr th:only-of-type {\n",
       "        vertical-align: middle;\n",
       "    }\n",
       "\n",
       "    .dataframe tbody tr th {\n",
       "        vertical-align: top;\n",
       "    }\n",
       "\n",
       "    .dataframe thead th {\n",
       "        text-align: right;\n",
       "    }\n",
       "</style>\n",
       "<table border=\"1\" class=\"dataframe\">\n",
       "  <thead>\n",
       "    <tr style=\"text-align: right;\">\n",
       "      <th></th>\n",
       "      <th>eng</th>\n",
       "      <th>kor</th>\n",
       "      <th>math</th>\n",
       "    </tr>\n",
       "  </thead>\n",
       "  <tbody>\n",
       "    <tr>\n",
       "      <th>c</th>\n",
       "      <td>50</td>\n",
       "      <td>12</td>\n",
       "      <td>12</td>\n",
       "    </tr>\n",
       "    <tr>\n",
       "      <th>d</th>\n",
       "      <td>70</td>\n",
       "      <td>15</td>\n",
       "      <td>16</td>\n",
       "    </tr>\n",
       "  </tbody>\n",
       "</table>\n",
       "</div>"
      ],
      "text/plain": [
       "   eng  kor  math\n",
       "c   50   12    12\n",
       "d   70   15    16"
      ]
     },
     "execution_count": 78,
     "metadata": {},
     "output_type": "execute_result"
    }
   ],
   "source": [
    "# query 함수\n",
    "# SQL: select * from grade where eng>40;    \n",
    "df[ df['kor']>40 ]\n",
    "df.query('eng>40')"
   ]
  },
  {
   "cell_type": "code",
   "execution_count": 79,
   "id": "4b8721b3",
   "metadata": {},
   "outputs": [
    {
     "data": {
      "text/html": [
       "<div>\n",
       "<style scoped>\n",
       "    .dataframe tbody tr th:only-of-type {\n",
       "        vertical-align: middle;\n",
       "    }\n",
       "\n",
       "    .dataframe tbody tr th {\n",
       "        vertical-align: top;\n",
       "    }\n",
       "\n",
       "    .dataframe thead th {\n",
       "        text-align: right;\n",
       "    }\n",
       "</style>\n",
       "<table border=\"1\" class=\"dataframe\">\n",
       "  <thead>\n",
       "    <tr style=\"text-align: right;\">\n",
       "      <th></th>\n",
       "      <th>eng</th>\n",
       "      <th>kor</th>\n",
       "      <th>math</th>\n",
       "    </tr>\n",
       "  </thead>\n",
       "  <tbody>\n",
       "    <tr>\n",
       "      <th>c</th>\n",
       "      <td>50</td>\n",
       "      <td>12</td>\n",
       "      <td>12</td>\n",
       "    </tr>\n",
       "    <tr>\n",
       "      <th>d</th>\n",
       "      <td>70</td>\n",
       "      <td>15</td>\n",
       "      <td>16</td>\n",
       "    </tr>\n",
       "  </tbody>\n",
       "</table>\n",
       "</div>"
      ],
      "text/plain": [
       "   eng  kor  math\n",
       "c   50   12    12\n",
       "d   70   15    16"
      ]
     },
     "execution_count": 79,
     "metadata": {},
     "output_type": "execute_result"
    }
   ],
   "source": [
    "n=40\n",
    "df[df[ 'kor']>n ]\n",
    "df.query( f'eng>{n}' )"
   ]
  },
  {
   "cell_type": "code",
   "execution_count": 80,
   "id": "f378c6e3",
   "metadata": {},
   "outputs": [
    {
     "data": {
      "text/html": [
       "<div>\n",
       "<style scoped>\n",
       "    .dataframe tbody tr th:only-of-type {\n",
       "        vertical-align: middle;\n",
       "    }\n",
       "\n",
       "    .dataframe tbody tr th {\n",
       "        vertical-align: top;\n",
       "    }\n",
       "\n",
       "    .dataframe thead th {\n",
       "        text-align: right;\n",
       "    }\n",
       "</style>\n",
       "<table border=\"1\" class=\"dataframe\">\n",
       "  <thead>\n",
       "    <tr style=\"text-align: right;\">\n",
       "      <th></th>\n",
       "      <th>eng</th>\n",
       "      <th>kor</th>\n",
       "      <th>math</th>\n",
       "    </tr>\n",
       "  </thead>\n",
       "  <tbody>\n",
       "    <tr>\n",
       "      <th>c</th>\n",
       "      <td>50</td>\n",
       "      <td>12</td>\n",
       "      <td>12</td>\n",
       "    </tr>\n",
       "    <tr>\n",
       "      <th>d</th>\n",
       "      <td>70</td>\n",
       "      <td>15</td>\n",
       "      <td>16</td>\n",
       "    </tr>\n",
       "  </tbody>\n",
       "</table>\n",
       "</div>"
      ],
      "text/plain": [
       "   eng  kor  math\n",
       "c   50   12    12\n",
       "d   70   15    16"
      ]
     },
     "execution_count": 80,
     "metadata": {},
     "output_type": "execute_result"
    }
   ],
   "source": [
    "# SQL: select * from grade where eng=40 or eng=70\n",
    "df[ (df['eng'] == 30) | (df['eng'] == 70) ]\n",
    "df.query( 'eng==30 or eng==70' )\n",
    "\n",
    "# SQL: select * from grade where eng>=40 and eng<=70\n",
    "df[ (df['eng'] >= 20) & (df['eng'] <= 50) ]\n",
    "df.query( 'eng>=40 and eng<=70')\n",
    "df.query( '40<=eng<=70')"
   ]
  },
  {
   "cell_type": "markdown",
   "id": "d5de07dc",
   "metadata": {},
   "source": [
    "## 12. 추가, 수정, 삭제, 검색"
   ]
  },
  {
   "cell_type": "code",
   "execution_count": 81,
   "id": "ad609ea7",
   "metadata": {},
   "outputs": [
    {
     "data": {
      "text/html": [
       "<div>\n",
       "<style scoped>\n",
       "    .dataframe tbody tr th:only-of-type {\n",
       "        vertical-align: middle;\n",
       "    }\n",
       "\n",
       "    .dataframe tbody tr th {\n",
       "        vertical-align: top;\n",
       "    }\n",
       "\n",
       "    .dataframe thead th {\n",
       "        text-align: right;\n",
       "    }\n",
       "</style>\n",
       "<table border=\"1\" class=\"dataframe\">\n",
       "  <thead>\n",
       "    <tr style=\"text-align: right;\">\n",
       "      <th></th>\n",
       "      <th>eng</th>\n",
       "      <th>kor</th>\n",
       "      <th>math</th>\n",
       "    </tr>\n",
       "  </thead>\n",
       "  <tbody>\n",
       "    <tr>\n",
       "      <th>a</th>\n",
       "      <td>12</td>\n",
       "      <td>5</td>\n",
       "      <td>6</td>\n",
       "    </tr>\n",
       "    <tr>\n",
       "      <th>b</th>\n",
       "      <td>30</td>\n",
       "      <td>9</td>\n",
       "      <td>8</td>\n",
       "    </tr>\n",
       "    <tr>\n",
       "      <th>c</th>\n",
       "      <td>50</td>\n",
       "      <td>12</td>\n",
       "      <td>12</td>\n",
       "    </tr>\n",
       "    <tr>\n",
       "      <th>d</th>\n",
       "      <td>70</td>\n",
       "      <td>15</td>\n",
       "      <td>16</td>\n",
       "    </tr>\n",
       "  </tbody>\n",
       "</table>\n",
       "</div>"
      ],
      "text/plain": [
       "   eng  kor  math\n",
       "a   12    5     6\n",
       "b   30    9     8\n",
       "c   50   12    12\n",
       "d   70   15    16"
      ]
     },
     "execution_count": 81,
     "metadata": {},
     "output_type": "execute_result"
    }
   ],
   "source": [
    "df"
   ]
  },
  {
   "cell_type": "code",
   "execution_count": 82,
   "id": "5dc3cf2b",
   "metadata": {},
   "outputs": [
    {
     "data": {
      "text/html": [
       "<div>\n",
       "<style scoped>\n",
       "    .dataframe tbody tr th:only-of-type {\n",
       "        vertical-align: middle;\n",
       "    }\n",
       "\n",
       "    .dataframe tbody tr th {\n",
       "        vertical-align: top;\n",
       "    }\n",
       "\n",
       "    .dataframe thead th {\n",
       "        text-align: right;\n",
       "    }\n",
       "</style>\n",
       "<table border=\"1\" class=\"dataframe\">\n",
       "  <thead>\n",
       "    <tr style=\"text-align: right;\">\n",
       "      <th></th>\n",
       "      <th>eng</th>\n",
       "      <th>kor</th>\n",
       "      <th>math</th>\n",
       "      <th>sum</th>\n",
       "    </tr>\n",
       "  </thead>\n",
       "  <tbody>\n",
       "    <tr>\n",
       "      <th>a</th>\n",
       "      <td>12</td>\n",
       "      <td>5</td>\n",
       "      <td>6</td>\n",
       "      <td>17</td>\n",
       "    </tr>\n",
       "    <tr>\n",
       "      <th>b</th>\n",
       "      <td>30</td>\n",
       "      <td>9</td>\n",
       "      <td>8</td>\n",
       "      <td>39</td>\n",
       "    </tr>\n",
       "    <tr>\n",
       "      <th>c</th>\n",
       "      <td>50</td>\n",
       "      <td>12</td>\n",
       "      <td>12</td>\n",
       "      <td>62</td>\n",
       "    </tr>\n",
       "    <tr>\n",
       "      <th>d</th>\n",
       "      <td>70</td>\n",
       "      <td>15</td>\n",
       "      <td>16</td>\n",
       "      <td>85</td>\n",
       "    </tr>\n",
       "  </tbody>\n",
       "</table>\n",
       "</div>"
      ],
      "text/plain": [
       "   eng  kor  math  sum\n",
       "a   12    5     6   17\n",
       "b   30    9     8   39\n",
       "c   50   12    12   62\n",
       "d   70   15    16   85"
      ]
     },
     "execution_count": 82,
     "metadata": {},
     "output_type": "execute_result"
    }
   ],
   "source": [
    "# 추가\n",
    "# df.loc['e'] = [1,2,3]   # 있으면 수정 없으면 추가\n",
    "# df\n",
    "# df['test'] = [1,2,3,4,5]   # 있으면 수정 없으면 추가\n",
    "# df\n",
    "df['sum'] = df['eng'] + df['kor']\n",
    "df"
   ]
  },
  {
   "cell_type": "code",
   "execution_count": 83,
   "id": "31980cc6",
   "metadata": {},
   "outputs": [],
   "source": [
    "# 삭제\n",
    "# df.drop( index=['a','d','e'] )\n",
    "# df.drop( columns=['test','sum'])\n",
    "# df.drop( index=['a','e'], columns=['test', 'sum'])"
   ]
  },
  {
   "cell_type": "code",
   "execution_count": 84,
   "id": "0777d477",
   "metadata": {},
   "outputs": [
    {
     "data": {
      "text/plain": [
       "Index(['a', 'b', 'c', 'd'], dtype='object')"
      ]
     },
     "execution_count": 84,
     "metadata": {},
     "output_type": "execute_result"
    }
   ],
   "source": [
    "df = pd.DataFrame( data , index=['a','b','c','d'])\n",
    "df\n",
    "\n",
    "df.columns   # Index Class\n",
    "type(df.columns)\n",
    "df.columns.difference( ['kor'] )   # 해당 칼럼 제외한 칼럼 인덱스\n",
    "# df[['eng', 'math']].columns\n",
    "\n",
    "df.index   # Index Class\n",
    "# type(df.index)\n",
    "# df.index.difference( ['a'])"
   ]
  },
  {
   "cell_type": "markdown",
   "id": "e9b39340",
   "metadata": {},
   "source": [
    "### 결측데이터 처리 (삭제, 특정값(대표값)으로 채운다)"
   ]
  },
  {
   "cell_type": "code",
   "execution_count": 85,
   "id": "298a769f",
   "metadata": {},
   "outputs": [
    {
     "data": {
      "text/html": [
       "<div>\n",
       "<style scoped>\n",
       "    .dataframe tbody tr th:only-of-type {\n",
       "        vertical-align: middle;\n",
       "    }\n",
       "\n",
       "    .dataframe tbody tr th {\n",
       "        vertical-align: top;\n",
       "    }\n",
       "\n",
       "    .dataframe thead th {\n",
       "        text-align: right;\n",
       "    }\n",
       "</style>\n",
       "<table border=\"1\" class=\"dataframe\">\n",
       "  <thead>\n",
       "    <tr style=\"text-align: right;\">\n",
       "      <th></th>\n",
       "      <th>eng</th>\n",
       "      <th>kor</th>\n",
       "      <th>math</th>\n",
       "    </tr>\n",
       "  </thead>\n",
       "  <tbody>\n",
       "    <tr>\n",
       "      <th>a</th>\n",
       "      <td>2</td>\n",
       "      <td>3.0</td>\n",
       "      <td>4.0</td>\n",
       "    </tr>\n",
       "    <tr>\n",
       "      <th>b</th>\n",
       "      <td>4</td>\n",
       "      <td>NaN</td>\n",
       "      <td>NaN</td>\n",
       "    </tr>\n",
       "    <tr>\n",
       "      <th>c</th>\n",
       "      <td>6</td>\n",
       "      <td>12.0</td>\n",
       "      <td>NaN</td>\n",
       "    </tr>\n",
       "    <tr>\n",
       "      <th>d</th>\n",
       "      <td>8</td>\n",
       "      <td>15.0</td>\n",
       "      <td>16.0</td>\n",
       "    </tr>\n",
       "  </tbody>\n",
       "</table>\n",
       "</div>"
      ],
      "text/plain": [
       "   eng   kor  math\n",
       "a    2   3.0   4.0\n",
       "b    4   NaN   NaN\n",
       "c    6  12.0   NaN\n",
       "d    8  15.0  16.0"
      ]
     },
     "execution_count": 85,
     "metadata": {},
     "output_type": "execute_result"
    }
   ],
   "source": [
    "df.loc['b','kor'] = np.nan\n",
    "df.loc['b':'c','math'] = np.nan\n",
    "df"
   ]
  },
  {
   "cell_type": "code",
   "execution_count": 86,
   "id": "34fbc897",
   "metadata": {},
   "outputs": [
    {
     "data": {
      "text/plain": [
       "eng     0\n",
       "kor     1\n",
       "math    2\n",
       "dtype: int64"
      ]
     },
     "execution_count": 86,
     "metadata": {},
     "output_type": "execute_result"
    }
   ],
   "source": [
    "# 결측데이터 확인\n",
    "df.isna()   # Nan => True\n",
    "df.isna().sum()   # defalut: column 값"
   ]
  },
  {
   "cell_type": "code",
   "execution_count": 87,
   "id": "78d0b620",
   "metadata": {},
   "outputs": [
    {
     "data": {
      "text/plain": [
       "<AxesSubplot:>"
      ]
     },
     "execution_count": 87,
     "metadata": {},
     "output_type": "execute_result"
    },
    {
     "data": {
      "image/png": "[encoded data removed]",
      "text/plain": [
       "<Figure size 1800x720 with 2 Axes>"
      ]
     },
     "metadata": {},
     "output_type": "display_data"
    }
   ],
   "source": [
    "import missingno as mn\n",
    "mn.matrix(df, color=(1,0,0))"
   ]
  },
  {
   "cell_type": "code",
   "execution_count": 88,
   "id": "f85ab795",
   "metadata": {},
   "outputs": [
    {
     "data": {
      "text/html": [
       "<div>\n",
       "<style scoped>\n",
       "    .dataframe tbody tr th:only-of-type {\n",
       "        vertical-align: middle;\n",
       "    }\n",
       "\n",
       "    .dataframe tbody tr th {\n",
       "        vertical-align: top;\n",
       "    }\n",
       "\n",
       "    .dataframe thead th {\n",
       "        text-align: right;\n",
       "    }\n",
       "</style>\n",
       "<table border=\"1\" class=\"dataframe\">\n",
       "  <thead>\n",
       "    <tr style=\"text-align: right;\">\n",
       "      <th></th>\n",
       "      <th>eng</th>\n",
       "      <th>kor</th>\n",
       "      <th>math</th>\n",
       "    </tr>\n",
       "  </thead>\n",
       "  <tbody>\n",
       "    <tr>\n",
       "      <th>a</th>\n",
       "      <td>2</td>\n",
       "      <td>3.0</td>\n",
       "      <td>4.0</td>\n",
       "    </tr>\n",
       "    <tr>\n",
       "      <th>b</th>\n",
       "      <td>4</td>\n",
       "      <td>11.0</td>\n",
       "      <td>11.0</td>\n",
       "    </tr>\n",
       "    <tr>\n",
       "      <th>c</th>\n",
       "      <td>6</td>\n",
       "      <td>12.0</td>\n",
       "      <td>11.0</td>\n",
       "    </tr>\n",
       "    <tr>\n",
       "      <th>d</th>\n",
       "      <td>8</td>\n",
       "      <td>15.0</td>\n",
       "      <td>16.0</td>\n",
       "    </tr>\n",
       "  </tbody>\n",
       "</table>\n",
       "</div>"
      ],
      "text/plain": [
       "   eng   kor  math\n",
       "a    2   3.0   4.0\n",
       "b    4  11.0  11.0\n",
       "c    6  12.0  11.0\n",
       "d    8  15.0  16.0"
      ]
     },
     "execution_count": 88,
     "metadata": {},
     "output_type": "execute_result"
    }
   ],
   "source": [
    "# NaN 값 채우기\n",
    "df.fillna(11)"
   ]
  },
  {
   "cell_type": "code",
   "execution_count": 89,
   "id": "2a794f1a",
   "metadata": {},
   "outputs": [
    {
     "data": {
      "text/plain": [
       "a     3.0\n",
       "b    11.0\n",
       "c    12.0\n",
       "d    15.0\n",
       "Name: kor, dtype: float64"
      ]
     },
     "execution_count": 89,
     "metadata": {},
     "output_type": "execute_result"
    }
   ],
   "source": [
    "df['kor'].fillna(11)\n",
    "# df['kor'] = df['kor'].fillna(11)\n",
    "# df['kor'].fillna(11, inplace=True)"
   ]
  },
  {
   "cell_type": "code",
   "execution_count": 90,
   "id": "f6fb45f1",
   "metadata": {},
   "outputs": [
    {
     "data": {
      "text/html": [
       "<div>\n",
       "<style scoped>\n",
       "    .dataframe tbody tr th:only-of-type {\n",
       "        vertical-align: middle;\n",
       "    }\n",
       "\n",
       "    .dataframe tbody tr th {\n",
       "        vertical-align: top;\n",
       "    }\n",
       "\n",
       "    .dataframe thead th {\n",
       "        text-align: right;\n",
       "    }\n",
       "</style>\n",
       "<table border=\"1\" class=\"dataframe\">\n",
       "  <thead>\n",
       "    <tr style=\"text-align: right;\">\n",
       "      <th></th>\n",
       "      <th>eng</th>\n",
       "      <th>kor</th>\n",
       "      <th>math</th>\n",
       "    </tr>\n",
       "  </thead>\n",
       "  <tbody>\n",
       "    <tr>\n",
       "      <th>a</th>\n",
       "      <td>2</td>\n",
       "      <td>3.0</td>\n",
       "      <td>4.0</td>\n",
       "    </tr>\n",
       "    <tr>\n",
       "      <th>b</th>\n",
       "      <td>4</td>\n",
       "      <td>NaN</td>\n",
       "      <td>NaN</td>\n",
       "    </tr>\n",
       "    <tr>\n",
       "      <th>c</th>\n",
       "      <td>6</td>\n",
       "      <td>12.0</td>\n",
       "      <td>NaN</td>\n",
       "    </tr>\n",
       "    <tr>\n",
       "      <th>d</th>\n",
       "      <td>8</td>\n",
       "      <td>15.0</td>\n",
       "      <td>16.0</td>\n",
       "    </tr>\n",
       "  </tbody>\n",
       "</table>\n",
       "</div>"
      ],
      "text/plain": [
       "   eng   kor  math\n",
       "a    2   3.0   4.0\n",
       "b    4   NaN   NaN\n",
       "c    6  12.0   NaN\n",
       "d    8  15.0  16.0"
      ]
     },
     "execution_count": 90,
     "metadata": {},
     "output_type": "execute_result"
    }
   ],
   "source": [
    "# NaN 삭제\n",
    "df.dropna()   # NaN이 있는 행 삭제\n",
    "df\n",
    "df.dropna(axis=1)   # NaN이 있는 컬럼 삭제\n",
    "df"
   ]
  },
  {
   "cell_type": "code",
   "execution_count": 91,
   "id": "2c72cb6c",
   "metadata": {},
   "outputs": [
    {
     "data": {
      "text/html": [
       "<div>\n",
       "<style scoped>\n",
       "    .dataframe tbody tr th:only-of-type {\n",
       "        vertical-align: middle;\n",
       "    }\n",
       "\n",
       "    .dataframe tbody tr th {\n",
       "        vertical-align: top;\n",
       "    }\n",
       "\n",
       "    .dataframe thead th {\n",
       "        text-align: right;\n",
       "    }\n",
       "</style>\n",
       "<table border=\"1\" class=\"dataframe\">\n",
       "  <thead>\n",
       "    <tr style=\"text-align: right;\">\n",
       "      <th></th>\n",
       "      <th>eng</th>\n",
       "      <th>kor</th>\n",
       "      <th>math</th>\n",
       "    </tr>\n",
       "  </thead>\n",
       "  <tbody>\n",
       "    <tr>\n",
       "      <th>a</th>\n",
       "      <td>2</td>\n",
       "      <td>3.0</td>\n",
       "      <td>4.0</td>\n",
       "    </tr>\n",
       "    <tr>\n",
       "      <th>c</th>\n",
       "      <td>6</td>\n",
       "      <td>12.0</td>\n",
       "      <td>NaN</td>\n",
       "    </tr>\n",
       "    <tr>\n",
       "      <th>d</th>\n",
       "      <td>8</td>\n",
       "      <td>15.0</td>\n",
       "      <td>16.0</td>\n",
       "    </tr>\n",
       "  </tbody>\n",
       "</table>\n",
       "</div>"
      ],
      "text/plain": [
       "   eng   kor  math\n",
       "a    2   3.0   4.0\n",
       "c    6  12.0   NaN\n",
       "d    8  15.0  16.0"
      ]
     },
     "execution_count": 91,
     "metadata": {},
     "output_type": "execute_result"
    }
   ],
   "source": [
    "df.dropna(subset=['kor'])   # subset에 적힌 column값에 대해서만\n",
    "# df['kor'].dropna(inplace=True)\n",
    "# df"
   ]
  },
  {
   "cell_type": "code",
   "execution_count": 92,
   "id": "dda2b604",
   "metadata": {},
   "outputs": [
    {
     "data": {
      "text/html": [
       "<div>\n",
       "<style scoped>\n",
       "    .dataframe tbody tr th:only-of-type {\n",
       "        vertical-align: middle;\n",
       "    }\n",
       "\n",
       "    .dataframe tbody tr th {\n",
       "        vertical-align: top;\n",
       "    }\n",
       "\n",
       "    .dataframe thead th {\n",
       "        text-align: right;\n",
       "    }\n",
       "</style>\n",
       "<table border=\"1\" class=\"dataframe\">\n",
       "  <thead>\n",
       "    <tr style=\"text-align: right;\">\n",
       "      <th></th>\n",
       "      <th>eng</th>\n",
       "      <th>kor</th>\n",
       "      <th>math</th>\n",
       "    </tr>\n",
       "  </thead>\n",
       "  <tbody>\n",
       "    <tr>\n",
       "      <th>d</th>\n",
       "      <td>8</td>\n",
       "      <td>15.0</td>\n",
       "      <td>16.0</td>\n",
       "    </tr>\n",
       "    <tr>\n",
       "      <th>c</th>\n",
       "      <td>6</td>\n",
       "      <td>12.0</td>\n",
       "      <td>NaN</td>\n",
       "    </tr>\n",
       "    <tr>\n",
       "      <th>b</th>\n",
       "      <td>4</td>\n",
       "      <td>NaN</td>\n",
       "      <td>NaN</td>\n",
       "    </tr>\n",
       "    <tr>\n",
       "      <th>a</th>\n",
       "      <td>2</td>\n",
       "      <td>3.0</td>\n",
       "      <td>4.0</td>\n",
       "    </tr>\n",
       "  </tbody>\n",
       "</table>\n",
       "</div>"
      ],
      "text/plain": [
       "   eng   kor  math\n",
       "d    8  15.0  16.0\n",
       "c    6  12.0   NaN\n",
       "b    4   NaN   NaN\n",
       "a    2   3.0   4.0"
      ]
     },
     "execution_count": 92,
     "metadata": {},
     "output_type": "execute_result"
    }
   ],
   "source": [
    "# 정렬\n",
    "df.sort_values(by='eng')   # defalut: True / 오름차순\n",
    "df.sort_values(by='eng', ascending=False)   # 내림차순"
   ]
  },
  {
   "cell_type": "code",
   "execution_count": 93,
   "id": "58e578a6",
   "metadata": {},
   "outputs": [
    {
     "data": {
      "text/html": [
       "<div>\n",
       "<style scoped>\n",
       "    .dataframe tbody tr th:only-of-type {\n",
       "        vertical-align: middle;\n",
       "    }\n",
       "\n",
       "    .dataframe tbody tr th {\n",
       "        vertical-align: top;\n",
       "    }\n",
       "\n",
       "    .dataframe thead th {\n",
       "        text-align: right;\n",
       "    }\n",
       "</style>\n",
       "<table border=\"1\" class=\"dataframe\">\n",
       "  <thead>\n",
       "    <tr style=\"text-align: right;\">\n",
       "      <th></th>\n",
       "      <th>eng</th>\n",
       "      <th>kor</th>\n",
       "      <th>math</th>\n",
       "    </tr>\n",
       "  </thead>\n",
       "  <tbody>\n",
       "    <tr>\n",
       "      <th>a</th>\n",
       "      <td>2</td>\n",
       "      <td>3.0</td>\n",
       "      <td>4.0</td>\n",
       "    </tr>\n",
       "    <tr>\n",
       "      <th>b</th>\n",
       "      <td>4</td>\n",
       "      <td>NaN</td>\n",
       "      <td>NaN</td>\n",
       "    </tr>\n",
       "    <tr>\n",
       "      <th>c</th>\n",
       "      <td>6</td>\n",
       "      <td>40.0</td>\n",
       "      <td>NaN</td>\n",
       "    </tr>\n",
       "    <tr>\n",
       "      <th>d</th>\n",
       "      <td>8</td>\n",
       "      <td>15.0</td>\n",
       "      <td>16.0</td>\n",
       "    </tr>\n",
       "  </tbody>\n",
       "</table>\n",
       "</div>"
      ],
      "text/plain": [
       "   eng   kor  math\n",
       "a    2   3.0   4.0\n",
       "b    4   NaN   NaN\n",
       "c    6  40.0   NaN\n",
       "d    8  15.0  16.0"
      ]
     },
     "execution_count": 93,
     "metadata": {},
     "output_type": "execute_result"
    }
   ],
   "source": [
    "df.loc['c','kor'] = 40\n",
    "df.sort_values(by=['kor','math'])\n",
    "df.sort_index()"
   ]
  },
  {
   "cell_type": "markdown",
   "id": "6582059c",
   "metadata": {},
   "source": [
    "## 13. 데이터프레임 통계"
   ]
  },
  {
   "cell_type": "code",
   "execution_count": 94,
   "id": "eda08387",
   "metadata": {},
   "outputs": [
    {
     "data": {
      "text/plain": [
       "nan"
      ]
     },
     "execution_count": 94,
     "metadata": {},
     "output_type": "execute_result"
    }
   ],
   "source": [
    "df.sum()   # defalut: 컬럼별\n",
    "df.sum(axis=1)   # row별\n",
    "df.sum().sum()   # 전체합\n",
    "df.values.sum()   # 전체합"
   ]
  },
  {
   "cell_type": "code",
   "execution_count": 95,
   "id": "5f133a83",
   "metadata": {},
   "outputs": [
    {
     "data": {
      "text/plain": [
       "40.0"
      ]
     },
     "execution_count": 95,
     "metadata": {},
     "output_type": "execute_result"
    }
   ],
   "source": [
    "df.mean()\n",
    "df.mean(axis=1)\n",
    "df.max()\n",
    "df.max(axis=1)\n",
    "df.max().max()   # 전체 최대값"
   ]
  },
  {
   "cell_type": "code",
   "execution_count": 96,
   "id": "fbbc3396",
   "metadata": {},
   "outputs": [
    {
     "data": {
      "text/plain": [
       "40.0"
      ]
     },
     "execution_count": 96,
     "metadata": {},
     "output_type": "execute_result"
    }
   ],
   "source": [
    "# unstack: df -> series로 변환 \n",
    "sr = df.unstack()\n",
    "sr\n",
    "sr.index\n",
    "sr.values\n",
    "df\n",
    "df.unstack().max()   # df.max().max()   # df.values.max()  "
   ]
  },
  {
   "cell_type": "code",
   "execution_count": 97,
   "id": "7617841b",
   "metadata": {},
   "outputs": [
    {
     "data": {
      "text/plain": [
       "0.25    3.5\n",
       "0.50    5.0\n",
       "0.75    6.5\n",
       "Name: eng, dtype: float64"
      ]
     },
     "execution_count": 97,
     "metadata": {},
     "output_type": "execute_result"
    }
   ],
   "source": [
    "df.median()\n",
    "df.median(axis=1)\n",
    "# df.unstack().median()   # 45.0   # 전체 중간값\n",
    "# np.median(df.values)   # 45.0   # 전체 중간값\n",
    "# df.median().median()   # 40.0   # 전체 중간값 X\n",
    "df.min()\n",
    "df.idxmax()\n",
    "df.idxmax(axis=1)\n",
    "df.std()\n",
    "df['eng'].quantile(q=[0.25,0.5,0.75])\n",
    "# df.count()"
   ]
  },
  {
   "cell_type": "code",
   "execution_count": 98,
   "id": "e0731557",
   "metadata": {},
   "outputs": [
    {
     "data": {
      "text/html": [
       "<div>\n",
       "<style scoped>\n",
       "    .dataframe tbody tr th:only-of-type {\n",
       "        vertical-align: middle;\n",
       "    }\n",
       "\n",
       "    .dataframe tbody tr th {\n",
       "        vertical-align: top;\n",
       "    }\n",
       "\n",
       "    .dataframe thead th {\n",
       "        text-align: right;\n",
       "    }\n",
       "</style>\n",
       "<table border=\"1\" class=\"dataframe\">\n",
       "  <thead>\n",
       "    <tr style=\"text-align: right;\">\n",
       "      <th></th>\n",
       "      <th>eng</th>\n",
       "      <th>kor</th>\n",
       "      <th>math</th>\n",
       "    </tr>\n",
       "  </thead>\n",
       "  <tbody>\n",
       "    <tr>\n",
       "      <th>eng</th>\n",
       "      <td>1.000000</td>\n",
       "      <td>0.491305</td>\n",
       "      <td>1.0</td>\n",
       "    </tr>\n",
       "    <tr>\n",
       "      <th>kor</th>\n",
       "      <td>0.491305</td>\n",
       "      <td>1.000000</td>\n",
       "      <td>1.0</td>\n",
       "    </tr>\n",
       "    <tr>\n",
       "      <th>math</th>\n",
       "      <td>1.000000</td>\n",
       "      <td>1.000000</td>\n",
       "      <td>1.0</td>\n",
       "    </tr>\n",
       "  </tbody>\n",
       "</table>\n",
       "</div>"
      ],
      "text/plain": [
       "           eng       kor  math\n",
       "eng   1.000000  0.491305   1.0\n",
       "kor   0.491305  1.000000   1.0\n",
       "math  1.000000  1.000000   1.0"
      ]
     },
     "execution_count": 98,
     "metadata": {},
     "output_type": "execute_result"
    }
   ],
   "source": [
    "# 상관관계\n",
    "df.corr()  \n",
    "# r이 -1.0과 -0.7 사이이면, 강한 음적 선형관계,\n",
    "# r이 -0.7과 -0.3 사이이면, 뚜렷한 음적 선형관계,\n",
    "# r이 -0.3과 -0.1 사이이면, 약한 음적 선형관계,\n",
    "# r이 -0.1과 +0.1 사이이면, 거의 무시될 수 있는 선형관계,\n",
    "# r이 +0.1과 +0.3 사이이면, 약한 양적 선형관계,\n",
    "# r이 +0.3과 +0.7 사이이면, 뚜렷한 양적 선형관계,\n",
    "# r이 +0.7과 +1.0 사이이면, 강한 양적 선형관계\n",
    "\n",
    "# np.corrcoef(df['eng'].values, df['math'].values)"
   ]
  },
  {
   "cell_type": "code",
   "execution_count": 99,
   "id": "52e71345",
   "metadata": {},
   "outputs": [
    {
     "data": {
      "text/html": [
       "<div>\n",
       "<style scoped>\n",
       "    .dataframe tbody tr th:only-of-type {\n",
       "        vertical-align: middle;\n",
       "    }\n",
       "\n",
       "    .dataframe tbody tr th {\n",
       "        vertical-align: top;\n",
       "    }\n",
       "\n",
       "    .dataframe thead th {\n",
       "        text-align: right;\n",
       "    }\n",
       "</style>\n",
       "<table border=\"1\" class=\"dataframe\">\n",
       "  <thead>\n",
       "    <tr style=\"text-align: right;\">\n",
       "      <th></th>\n",
       "      <th>eng</th>\n",
       "      <th>kor</th>\n",
       "      <th>math</th>\n",
       "    </tr>\n",
       "  </thead>\n",
       "  <tbody>\n",
       "    <tr>\n",
       "      <th>count</th>\n",
       "      <td>4.000000</td>\n",
       "      <td>3.000000</td>\n",
       "      <td>2.000000</td>\n",
       "    </tr>\n",
       "    <tr>\n",
       "      <th>mean</th>\n",
       "      <td>5.000000</td>\n",
       "      <td>19.333333</td>\n",
       "      <td>10.000000</td>\n",
       "    </tr>\n",
       "    <tr>\n",
       "      <th>std</th>\n",
       "      <td>2.581989</td>\n",
       "      <td>18.876794</td>\n",
       "      <td>8.485281</td>\n",
       "    </tr>\n",
       "    <tr>\n",
       "      <th>min</th>\n",
       "      <td>2.000000</td>\n",
       "      <td>3.000000</td>\n",
       "      <td>4.000000</td>\n",
       "    </tr>\n",
       "    <tr>\n",
       "      <th>25%</th>\n",
       "      <td>3.500000</td>\n",
       "      <td>9.000000</td>\n",
       "      <td>7.000000</td>\n",
       "    </tr>\n",
       "    <tr>\n",
       "      <th>50%</th>\n",
       "      <td>5.000000</td>\n",
       "      <td>15.000000</td>\n",
       "      <td>10.000000</td>\n",
       "    </tr>\n",
       "    <tr>\n",
       "      <th>75%</th>\n",
       "      <td>6.500000</td>\n",
       "      <td>27.500000</td>\n",
       "      <td>13.000000</td>\n",
       "    </tr>\n",
       "    <tr>\n",
       "      <th>max</th>\n",
       "      <td>8.000000</td>\n",
       "      <td>40.000000</td>\n",
       "      <td>16.000000</td>\n",
       "    </tr>\n",
       "  </tbody>\n",
       "</table>\n",
       "</div>"
      ],
      "text/plain": [
       "            eng        kor       math\n",
       "count  4.000000   3.000000   2.000000\n",
       "mean   5.000000  19.333333  10.000000\n",
       "std    2.581989  18.876794   8.485281\n",
       "min    2.000000   3.000000   4.000000\n",
       "25%    3.500000   9.000000   7.000000\n",
       "50%    5.000000  15.000000  10.000000\n",
       "75%    6.500000  27.500000  13.000000\n",
       "max    8.000000  40.000000  16.000000"
      ]
     },
     "execution_count": 99,
     "metadata": {},
     "output_type": "execute_result"
    }
   ],
   "source": [
    "df.describe()"
   ]
  },
  {
   "cell_type": "code",
   "execution_count": 100,
   "id": "d6c57f79",
   "metadata": {},
   "outputs": [
    {
     "name": "stdout",
     "output_type": "stream",
     "text": [
      "================\n",
      "a    2\n",
      "b    4\n",
      "c    6\n",
      "d    8\n",
      "Name: eng, dtype: int64\n",
      "================\n",
      "================\n",
      "a     3.0\n",
      "b     NaN\n",
      "c    40.0\n",
      "d    15.0\n",
      "Name: kor, dtype: float64\n",
      "================\n",
      "================\n",
      "a     4.0\n",
      "b     NaN\n",
      "c     NaN\n",
      "d    16.0\n",
      "Name: math, dtype: float64\n",
      "================\n",
      "================\n",
      "eng     2.0\n",
      "kor     3.0\n",
      "math    4.0\n",
      "Name: a, dtype: float64\n",
      "================\n",
      "================\n",
      "eng     4.0\n",
      "kor     NaN\n",
      "math    NaN\n",
      "Name: b, dtype: float64\n",
      "================\n",
      "================\n",
      "eng      6.0\n",
      "kor     40.0\n",
      "math     NaN\n",
      "Name: c, dtype: float64\n",
      "================\n",
      "================\n",
      "eng      8.0\n",
      "kor     15.0\n",
      "math    16.0\n",
      "Name: d, dtype: float64\n",
      "================\n"
     ]
    },
    {
     "data": {
      "text/plain": [
       "a     9.0\n",
       "b     4.0\n",
       "c    46.0\n",
       "d    39.0\n",
       "dtype: float64"
      ]
     },
     "execution_count": 100,
     "metadata": {},
     "output_type": "execute_result"
    }
   ],
   "source": [
    "def fn( v ):\n",
    "    print('================')\n",
    "    print( v )\n",
    "    print('================')\n",
    "    return v.sum()\n",
    "df.apply(fn)\n",
    "df.apply(fn, axis=1)"
   ]
  },
  {
   "cell_type": "code",
   "execution_count": 101,
   "id": "15e4f78e",
   "metadata": {},
   "outputs": [
    {
     "data": {
      "text/html": [
       "<div>\n",
       "<style scoped>\n",
       "    .dataframe tbody tr th:only-of-type {\n",
       "        vertical-align: middle;\n",
       "    }\n",
       "\n",
       "    .dataframe tbody tr th {\n",
       "        vertical-align: top;\n",
       "    }\n",
       "\n",
       "    .dataframe thead th {\n",
       "        text-align: right;\n",
       "    }\n",
       "</style>\n",
       "<table border=\"1\" class=\"dataframe\">\n",
       "  <thead>\n",
       "    <tr style=\"text-align: right;\">\n",
       "      <th></th>\n",
       "      <th>eng</th>\n",
       "      <th>kor</th>\n",
       "      <th>math</th>\n",
       "    </tr>\n",
       "  </thead>\n",
       "  <tbody>\n",
       "    <tr>\n",
       "      <th>a</th>\n",
       "      <td>2</td>\n",
       "      <td>3.0</td>\n",
       "      <td>4.0</td>\n",
       "    </tr>\n",
       "    <tr>\n",
       "      <th>b</th>\n",
       "      <td>4</td>\n",
       "      <td>NaN</td>\n",
       "      <td>NaN</td>\n",
       "    </tr>\n",
       "    <tr>\n",
       "      <th>c</th>\n",
       "      <td>6</td>\n",
       "      <td>40.0</td>\n",
       "      <td>NaN</td>\n",
       "    </tr>\n",
       "    <tr>\n",
       "      <th>d</th>\n",
       "      <td>8</td>\n",
       "      <td>15.0</td>\n",
       "      <td>16.0</td>\n",
       "    </tr>\n",
       "  </tbody>\n",
       "</table>\n",
       "</div>"
      ],
      "text/plain": [
       "   eng   kor  math\n",
       "a    2   3.0   4.0\n",
       "b    4   NaN   NaN\n",
       "c    6  40.0   NaN\n",
       "d    8  15.0  16.0"
      ]
     },
     "execution_count": 101,
     "metadata": {},
     "output_type": "execute_result"
    }
   ],
   "source": [
    "#  국어,영어,수학 점수의 평균이 70점 이상이면 '합격' 아니면 '불합격' 인 시리즈를 구하시요\n",
    "df\n",
    "# df.apply(lambda v: '합격' if v.mean()>=70 else '불합격', axis=1)\n",
    "# df.mean(axis = 1).apply(lambda v: '합격' if v>= 70 else '불합격')"
   ]
  },
  {
   "cell_type": "code",
   "execution_count": 102,
   "id": "a9365500",
   "metadata": {},
   "outputs": [
    {
     "data": {
      "text/html": [
       "<div>\n",
       "<style scoped>\n",
       "    .dataframe tbody tr th:only-of-type {\n",
       "        vertical-align: middle;\n",
       "    }\n",
       "\n",
       "    .dataframe tbody tr th {\n",
       "        vertical-align: top;\n",
       "    }\n",
       "\n",
       "    .dataframe thead th {\n",
       "        text-align: right;\n",
       "    }\n",
       "</style>\n",
       "<table border=\"1\" class=\"dataframe\">\n",
       "  <thead>\n",
       "    <tr style=\"text-align: right;\">\n",
       "      <th></th>\n",
       "      <th>eng</th>\n",
       "      <th>kor</th>\n",
       "      <th>math</th>\n",
       "    </tr>\n",
       "  </thead>\n",
       "  <tbody>\n",
       "    <tr>\n",
       "      <th>d</th>\n",
       "      <td>8</td>\n",
       "      <td>15.0</td>\n",
       "      <td>16.0</td>\n",
       "    </tr>\n",
       "    <tr>\n",
       "      <th>c</th>\n",
       "      <td>6</td>\n",
       "      <td>40.0</td>\n",
       "      <td>NaN</td>\n",
       "    </tr>\n",
       "  </tbody>\n",
       "</table>\n",
       "</div>"
      ],
      "text/plain": [
       "   eng   kor  math\n",
       "d    8  15.0  16.0\n",
       "c    6  40.0   NaN"
      ]
     },
     "execution_count": 102,
     "metadata": {},
     "output_type": "execute_result"
    }
   ],
   "source": [
    "df.nlargest(n=2, columns='eng')"
   ]
  },
  {
   "cell_type": "code",
   "execution_count": 103,
   "id": "5b7eacca",
   "metadata": {},
   "outputs": [
    {
     "data": {
      "image/png": "[encoded data removed]",
      "text/plain": [
       "<Figure size 576x396 with 1 Axes>"
      ]
     },
     "metadata": {},
     "output_type": "display_data"
    }
   ],
   "source": [
    "df = pd.DataFrame(data, index=['a','b','c','d'] )\n",
    "df.plot(style=['ro--','b<-','gs-.' ])\n",
    "plt.show()"
   ]
  },
  {
   "cell_type": "code",
   "execution_count": 104,
   "id": "4ae948f9",
   "metadata": {},
   "outputs": [
    {
     "data": {
      "image/png": "[encoded data removed]",
      "text/plain": [
       "<Figure size 576x396 with 1 Axes>"
      ]
     },
     "metadata": {},
     "output_type": "display_data"
    }
   ],
   "source": [
    "df.plot(kind='bar')\n",
    "plt.show()"
   ]
  },
  {
   "cell_type": "code",
   "execution_count": 105,
   "id": "502a6dac",
   "metadata": {},
   "outputs": [
    {
     "data": {
      "image/png": "[encoded data removed]",
      "text/plain": [
       "<Figure size 576x396 with 1 Axes>"
      ]
     },
     "metadata": {},
     "output_type": "display_data"
    }
   ],
   "source": [
    "df.plot(y=['eng','kor'], kind='bar')\n",
    "plt.show()"
   ]
  },
  {
   "cell_type": "code",
   "execution_count": 106,
   "id": "81d35602",
   "metadata": {},
   "outputs": [
    {
     "data": {
      "image/png": "[encoded data removed]",
      "text/plain": [
       "<Figure size 576x396 with 1 Axes>"
      ]
     },
     "metadata": {},
     "output_type": "display_data"
    }
   ],
   "source": [
    "# 1\n",
    "df.plot(kind='bar', stacked=True)\n",
    "\n",
    "idx = 0\n",
    "for i, sr in df.iterrows():\n",
    "    e, k, m = sr['eng'], sr['kor'], sr['math']\n",
    "    plt.text(idx, e/2, f'{e}점', va='center', ha='center')\n",
    "    plt.text(idx, k/2+e, f'{k}점', va='center', ha='center')\n",
    "    plt.text(idx, m/2+e+k, f'{m}점', va='center', ha='center')\n",
    "    idx += 1\n",
    "\n",
    "plt.show()\n",
    "\n",
    "# 2\n",
    "# df.plot(kind='bar', stacked=True)\n",
    "\n",
    "# for i in range(len(df)):\n",
    "#     plt.text(i, df.iloc[i][0]/2, f'{df.iloc[i][0]}점', va='center', ha='center')\n",
    "#     plt.text(i, df.iloc[i][1]/2 + df.iloc[i][0], f'{df.iloc[i][1]}점', va='center', ha='center')\n",
    "#     plt.text(i, df.iloc[i][2]/2 + df.iloc[i][0] + df.iloc[i][1], f'{df.iloc[i][2]}점', va='center', ha='center')    \n",
    "\n",
    "# plt.show()"
   ]
  },
  {
   "cell_type": "code",
   "execution_count": 107,
   "id": "b059709a",
   "metadata": {},
   "outputs": [
    {
     "data": {
      "image/png": "[encoded data removed]",
      "text/plain": [
       "<Figure size 576x396 with 1 Axes>"
      ]
     },
     "metadata": {},
     "output_type": "display_data"
    }
   ],
   "source": [
    "df.loc['d','eng'] = 100\n",
    "df.loc['c','eng'] = 20\n",
    "df.plot(kind='box')\n",
    "plt.show()"
   ]
  },
  {
   "cell_type": "code",
   "execution_count": 108,
   "id": "9d88106c",
   "metadata": {},
   "outputs": [
    {
     "data": {
      "image/png": "[encoded data removed]",
      "text/plain": [
       "<Figure size 576x396 with 1 Axes>"
      ]
     },
     "metadata": {},
     "output_type": "display_data"
    }
   ],
   "source": [
    "df.plot(kind='scatter', x='kor', y='eng', s=100)\n",
    "plt.show()"
   ]
  },
  {
   "cell_type": "code",
   "execution_count": 109,
   "id": "48dbd87a",
   "metadata": {},
   "outputs": [
    {
     "name": "stdout",
     "output_type": "stream",
     "text": [
      "eng\n",
      "kor\n",
      "math\n",
      "a\n",
      "b\n",
      "c\n",
      "d\n"
     ]
    }
   ],
   "source": [
    "for n in df:   #df.columns\n",
    "    print(n)\n",
    "    \n",
    "for n in df.index:\n",
    "    print(n)"
   ]
  },
  {
   "cell_type": "code",
   "execution_count": 110,
   "id": "d83f4db6",
   "metadata": {},
   "outputs": [
    {
     "name": "stdout",
     "output_type": "stream",
     "text": [
      "('eng', a      2\n",
      "b      4\n",
      "c     20\n",
      "d    100\n",
      "Name: eng, dtype: int64)\n",
      "('kor', a     3\n",
      "b     9\n",
      "c    12\n",
      "d    15\n",
      "Name: kor, dtype: int64)\n",
      "('math', a     4\n",
      "b     8\n",
      "c    12\n",
      "d    16\n",
      "Name: math, dtype: int64)\n",
      "==================================================\n",
      "eng\n",
      "a      2\n",
      "b      4\n",
      "c     20\n",
      "d    100\n",
      "Name: eng, dtype: int64\n",
      "====================\n",
      "kor\n",
      "a     3\n",
      "b     9\n",
      "c    12\n",
      "d    15\n",
      "Name: kor, dtype: int64\n",
      "====================\n",
      "math\n",
      "a     4\n",
      "b     8\n",
      "c    12\n",
      "d    16\n",
      "Name: math, dtype: int64\n",
      "====================\n",
      "==================================================\n",
      "eng\n",
      "2 4 20 100\n",
      "kor\n",
      "3 9 12 15\n",
      "math\n",
      "4 8 12 16\n"
     ]
    }
   ],
   "source": [
    "for n in df.items():\n",
    "    print(n)\n",
    "  \n",
    "print('='*50)\n",
    "\n",
    "for c, sr in df.items():\n",
    "    print(c)\n",
    "    print(sr)\n",
    "    print('='*20)\n",
    "\n",
    "print('='*50)\n",
    "    \n",
    "for c, sr in df.items():\n",
    "    print(c)\n",
    "    print( sr['a'],sr['b'],sr['c'],sr['d']  ) "
   ]
  },
  {
   "cell_type": "code",
   "execution_count": 111,
   "id": "3f5c9a0f",
   "metadata": {},
   "outputs": [
    {
     "name": "stdout",
     "output_type": "stream",
     "text": [
      "a\n",
      "2 3 4\n",
      "====================\n",
      "b\n",
      "4 9 8\n",
      "====================\n",
      "c\n",
      "20 12 12\n",
      "====================\n",
      "d\n",
      "100 15 16\n",
      "====================\n"
     ]
    }
   ],
   "source": [
    "for i, sr in df.iterrows():\n",
    "    print(i)\n",
    "    print(sr['eng'], sr['kor'], sr['math'])\n",
    "    print('='*20)"
   ]
  },
  {
   "cell_type": "markdown",
   "id": "0f167998",
   "metadata": {},
   "source": [
    "## 14. Groupby"
   ]
  },
  {
   "cell_type": "code",
   "execution_count": 112,
   "id": "38283179",
   "metadata": {},
   "outputs": [
    {
     "data": {
      "text/html": [
       "<div>\n",
       "<style scoped>\n",
       "    .dataframe tbody tr th:only-of-type {\n",
       "        vertical-align: middle;\n",
       "    }\n",
       "\n",
       "    .dataframe tbody tr th {\n",
       "        vertical-align: top;\n",
       "    }\n",
       "\n",
       "    .dataframe thead th {\n",
       "        text-align: right;\n",
       "    }\n",
       "</style>\n",
       "<table border=\"1\" class=\"dataframe\">\n",
       "  <thead>\n",
       "    <tr style=\"text-align: right;\">\n",
       "      <th></th>\n",
       "      <th>학년</th>\n",
       "      <th>과목</th>\n",
       "      <th>결과</th>\n",
       "      <th>중간</th>\n",
       "      <th>기말</th>\n",
       "    </tr>\n",
       "  </thead>\n",
       "  <tbody>\n",
       "    <tr>\n",
       "      <th>0</th>\n",
       "      <td>1학년</td>\n",
       "      <td>국어</td>\n",
       "      <td>좋음</td>\n",
       "      <td>80</td>\n",
       "      <td>90</td>\n",
       "    </tr>\n",
       "    <tr>\n",
       "      <th>1</th>\n",
       "      <td>1학년</td>\n",
       "      <td>국어</td>\n",
       "      <td>나쁨</td>\n",
       "      <td>50</td>\n",
       "      <td>40</td>\n",
       "    </tr>\n",
       "    <tr>\n",
       "      <th>2</th>\n",
       "      <td>1학년</td>\n",
       "      <td>국어</td>\n",
       "      <td>나쁨</td>\n",
       "      <td>20</td>\n",
       "      <td>50</td>\n",
       "    </tr>\n",
       "    <tr>\n",
       "      <th>3</th>\n",
       "      <td>1학년</td>\n",
       "      <td>수학</td>\n",
       "      <td>좋음</td>\n",
       "      <td>83</td>\n",
       "      <td>95</td>\n",
       "    </tr>\n",
       "    <tr>\n",
       "      <th>4</th>\n",
       "      <td>1학년</td>\n",
       "      <td>수학</td>\n",
       "      <td>좋음</td>\n",
       "      <td>93</td>\n",
       "      <td>86</td>\n",
       "    </tr>\n",
       "    <tr>\n",
       "      <th>5</th>\n",
       "      <td>2학년</td>\n",
       "      <td>국어</td>\n",
       "      <td>나쁨</td>\n",
       "      <td>44</td>\n",
       "      <td>65</td>\n",
       "    </tr>\n",
       "    <tr>\n",
       "      <th>6</th>\n",
       "      <td>2학년</td>\n",
       "      <td>국어</td>\n",
       "      <td>좋음</td>\n",
       "      <td>95</td>\n",
       "      <td>98</td>\n",
       "    </tr>\n",
       "    <tr>\n",
       "      <th>7</th>\n",
       "      <td>2학년</td>\n",
       "      <td>수학</td>\n",
       "      <td>좋음</td>\n",
       "      <td>96</td>\n",
       "      <td>99</td>\n",
       "    </tr>\n",
       "    <tr>\n",
       "      <th>8</th>\n",
       "      <td>2학년</td>\n",
       "      <td>수학</td>\n",
       "      <td>나쁨</td>\n",
       "      <td>57</td>\n",
       "      <td>69</td>\n",
       "    </tr>\n",
       "  </tbody>\n",
       "</table>\n",
       "</div>"
      ],
      "text/plain": [
       "    학년  과목   결과  중간  기말\n",
       "0  1학년  국어   좋음  80  90\n",
       "1  1학년  국어   나쁨  50  40\n",
       "2  1학년  국어   나쁨  20  50\n",
       "3  1학년  수학   좋음  83  95\n",
       "4  1학년  수학   좋음  93  86\n",
       "5  2학년  국어   나쁨  44  65\n",
       "6  2학년  국어   좋음  95  98\n",
       "7  2학년  수학   좋음  96  99\n",
       "8  2학년  수학   나쁨  57  69"
      ]
     },
     "execution_count": 112,
     "metadata": {},
     "output_type": "execute_result"
    }
   ],
   "source": [
    "df = pd.read_csv('../data/grade.csv')\n",
    "df"
   ]
  },
  {
   "cell_type": "code",
   "execution_count": 113,
   "id": "51a1e682",
   "metadata": {},
   "outputs": [
    {
     "data": {
      "text/plain": [
       "중간    618\n",
       "기말    692\n",
       "dtype: int64"
      ]
     },
     "execution_count": 113,
     "metadata": {},
     "output_type": "execute_result"
    }
   ],
   "source": [
    "df[['중간','기말']].sum()"
   ]
  },
  {
   "cell_type": "code",
   "execution_count": 114,
   "id": "a1aab261",
   "metadata": {},
   "outputs": [
    {
     "data": {
      "text/html": [
       "<div>\n",
       "<style scoped>\n",
       "    .dataframe tbody tr th:only-of-type {\n",
       "        vertical-align: middle;\n",
       "    }\n",
       "\n",
       "    .dataframe tbody tr th {\n",
       "        vertical-align: top;\n",
       "    }\n",
       "\n",
       "    .dataframe thead tr th {\n",
       "        text-align: left;\n",
       "    }\n",
       "\n",
       "    .dataframe thead tr:last-of-type th {\n",
       "        text-align: right;\n",
       "    }\n",
       "</style>\n",
       "<table border=\"1\" class=\"dataframe\">\n",
       "  <thead>\n",
       "    <tr>\n",
       "      <th></th>\n",
       "      <th colspan=\"2\" halign=\"left\">중간</th>\n",
       "      <th colspan=\"2\" halign=\"left\">기말</th>\n",
       "    </tr>\n",
       "    <tr>\n",
       "      <th></th>\n",
       "      <th>sum</th>\n",
       "      <th>mean</th>\n",
       "      <th>sum</th>\n",
       "      <th>mean</th>\n",
       "    </tr>\n",
       "    <tr>\n",
       "      <th>학년</th>\n",
       "      <th></th>\n",
       "      <th></th>\n",
       "      <th></th>\n",
       "      <th></th>\n",
       "    </tr>\n",
       "  </thead>\n",
       "  <tbody>\n",
       "    <tr>\n",
       "      <th>1학년</th>\n",
       "      <td>326</td>\n",
       "      <td>65.2</td>\n",
       "      <td>361</td>\n",
       "      <td>72.20</td>\n",
       "    </tr>\n",
       "    <tr>\n",
       "      <th>2학년</th>\n",
       "      <td>292</td>\n",
       "      <td>73.0</td>\n",
       "      <td>331</td>\n",
       "      <td>82.75</td>\n",
       "    </tr>\n",
       "  </tbody>\n",
       "</table>\n",
       "</div>"
      ],
      "text/plain": [
       "      중간         기말       \n",
       "     sum  mean  sum   mean\n",
       "학년                        \n",
       "1학년  326  65.2  361  72.20\n",
       "2학년  292  73.0  331  82.75"
      ]
     },
     "execution_count": 114,
     "metadata": {},
     "output_type": "execute_result"
    }
   ],
   "source": [
    "g = df.groupby('학년')\n",
    "g   # <pandas.core.groupby.generic.DataFrameGroupBy object at 0x000001D021A0E7C0>\n",
    "g.mean()   # 숫자만\n",
    "g.max()   # 문자도\n",
    "g.min()   # 문자도\n",
    "g.count()\n",
    "g.agg(['sum','mean'])"
   ]
  },
  {
   "cell_type": "code",
   "execution_count": 115,
   "id": "6dc7890b",
   "metadata": {},
   "outputs": [
    {
     "data": {
      "text/html": [
       "<div>\n",
       "<style scoped>\n",
       "    .dataframe tbody tr th:only-of-type {\n",
       "        vertical-align: middle;\n",
       "    }\n",
       "\n",
       "    .dataframe tbody tr th {\n",
       "        vertical-align: top;\n",
       "    }\n",
       "\n",
       "    .dataframe thead th {\n",
       "        text-align: right;\n",
       "    }\n",
       "</style>\n",
       "<table border=\"1\" class=\"dataframe\">\n",
       "  <thead>\n",
       "    <tr style=\"text-align: right;\">\n",
       "      <th></th>\n",
       "      <th></th>\n",
       "      <th>중간</th>\n",
       "      <th>기말</th>\n",
       "    </tr>\n",
       "    <tr>\n",
       "      <th>학년</th>\n",
       "      <th>과목</th>\n",
       "      <th></th>\n",
       "      <th></th>\n",
       "    </tr>\n",
       "  </thead>\n",
       "  <tbody>\n",
       "    <tr>\n",
       "      <th rowspan=\"2\" valign=\"top\">1학년</th>\n",
       "      <th>국어</th>\n",
       "      <td>50.0</td>\n",
       "      <td>60.0</td>\n",
       "    </tr>\n",
       "    <tr>\n",
       "      <th>수학</th>\n",
       "      <td>88.0</td>\n",
       "      <td>90.5</td>\n",
       "    </tr>\n",
       "    <tr>\n",
       "      <th rowspan=\"2\" valign=\"top\">2학년</th>\n",
       "      <th>국어</th>\n",
       "      <td>69.5</td>\n",
       "      <td>81.5</td>\n",
       "    </tr>\n",
       "    <tr>\n",
       "      <th>수학</th>\n",
       "      <td>76.5</td>\n",
       "      <td>84.0</td>\n",
       "    </tr>\n",
       "  </tbody>\n",
       "</table>\n",
       "</div>"
      ],
      "text/plain": [
       "          중간    기말\n",
       "학년  과목            \n",
       "1학년 국어  50.0  60.0\n",
       "    수학  88.0  90.5\n",
       "2학년 국어  69.5  81.5\n",
       "    수학  76.5  84.0"
      ]
     },
     "execution_count": 115,
     "metadata": {},
     "output_type": "execute_result"
    }
   ],
   "source": [
    "g = df.groupby(['학년','과목'])\n",
    "g.mean()"
   ]
  },
  {
   "cell_type": "markdown",
   "id": "0326bbbe",
   "metadata": {},
   "source": [
    "- pivot_table, pd.pivot"
   ]
  },
  {
   "cell_type": "code",
   "execution_count": 116,
   "id": "70699049",
   "metadata": {},
   "outputs": [
    {
     "data": {
      "text/html": [
       "<div>\n",
       "<style scoped>\n",
       "    .dataframe tbody tr th:only-of-type {\n",
       "        vertical-align: middle;\n",
       "    }\n",
       "\n",
       "    .dataframe tbody tr th {\n",
       "        vertical-align: top;\n",
       "    }\n",
       "\n",
       "    .dataframe thead th {\n",
       "        text-align: right;\n",
       "    }\n",
       "</style>\n",
       "<table border=\"1\" class=\"dataframe\">\n",
       "  <thead>\n",
       "    <tr style=\"text-align: right;\">\n",
       "      <th></th>\n",
       "      <th>학년</th>\n",
       "      <th>과목</th>\n",
       "      <th>결과</th>\n",
       "      <th>중간</th>\n",
       "      <th>기말</th>\n",
       "    </tr>\n",
       "  </thead>\n",
       "  <tbody>\n",
       "    <tr>\n",
       "      <th>0</th>\n",
       "      <td>1학년</td>\n",
       "      <td>국어</td>\n",
       "      <td>좋음</td>\n",
       "      <td>80</td>\n",
       "      <td>90</td>\n",
       "    </tr>\n",
       "    <tr>\n",
       "      <th>1</th>\n",
       "      <td>1학년</td>\n",
       "      <td>국어</td>\n",
       "      <td>나쁨</td>\n",
       "      <td>50</td>\n",
       "      <td>40</td>\n",
       "    </tr>\n",
       "    <tr>\n",
       "      <th>2</th>\n",
       "      <td>1학년</td>\n",
       "      <td>국어</td>\n",
       "      <td>나쁨</td>\n",
       "      <td>20</td>\n",
       "      <td>50</td>\n",
       "    </tr>\n",
       "    <tr>\n",
       "      <th>3</th>\n",
       "      <td>1학년</td>\n",
       "      <td>수학</td>\n",
       "      <td>좋음</td>\n",
       "      <td>83</td>\n",
       "      <td>95</td>\n",
       "    </tr>\n",
       "    <tr>\n",
       "      <th>4</th>\n",
       "      <td>1학년</td>\n",
       "      <td>수학</td>\n",
       "      <td>좋음</td>\n",
       "      <td>93</td>\n",
       "      <td>86</td>\n",
       "    </tr>\n",
       "    <tr>\n",
       "      <th>5</th>\n",
       "      <td>2학년</td>\n",
       "      <td>국어</td>\n",
       "      <td>나쁨</td>\n",
       "      <td>44</td>\n",
       "      <td>65</td>\n",
       "    </tr>\n",
       "    <tr>\n",
       "      <th>6</th>\n",
       "      <td>2학년</td>\n",
       "      <td>국어</td>\n",
       "      <td>좋음</td>\n",
       "      <td>95</td>\n",
       "      <td>98</td>\n",
       "    </tr>\n",
       "    <tr>\n",
       "      <th>7</th>\n",
       "      <td>2학년</td>\n",
       "      <td>수학</td>\n",
       "      <td>좋음</td>\n",
       "      <td>96</td>\n",
       "      <td>99</td>\n",
       "    </tr>\n",
       "    <tr>\n",
       "      <th>8</th>\n",
       "      <td>2학년</td>\n",
       "      <td>수학</td>\n",
       "      <td>나쁨</td>\n",
       "      <td>57</td>\n",
       "      <td>69</td>\n",
       "    </tr>\n",
       "  </tbody>\n",
       "</table>\n",
       "</div>"
      ],
      "text/plain": [
       "    학년  과목   결과  중간  기말\n",
       "0  1학년  국어   좋음  80  90\n",
       "1  1학년  국어   나쁨  50  40\n",
       "2  1학년  국어   나쁨  20  50\n",
       "3  1학년  수학   좋음  83  95\n",
       "4  1학년  수학   좋음  93  86\n",
       "5  2학년  국어   나쁨  44  65\n",
       "6  2학년  국어   좋음  95  98\n",
       "7  2학년  수학   좋음  96  99\n",
       "8  2학년  수학   나쁨  57  69"
      ]
     },
     "execution_count": 116,
     "metadata": {},
     "output_type": "execute_result"
    }
   ],
   "source": [
    "df\n",
    "# df.pivot_table( index='학년' )   # defalut: aggfunc='mean'\n",
    "# df.pivot_table( index='학년' ,aggfunc='sum')\n",
    "# df.pivot_table( index=['학년','과목'] )\n",
    "# df.pivot_table( index=['학년','과목'] , values='중간')\n",
    "# df.pivot_table( index=['학년','과목'] , values=['중간','기말'] )\n",
    "# df.pivot_table( index=['학년','과목'] , values='중간', columns='결과')"
   ]
  },
  {
   "cell_type": "code",
   "execution_count": 117,
   "id": "c44eb693",
   "metadata": {},
   "outputs": [],
   "source": [
    "# 학년별로 중간고사평균이 70점이상이면 '합격', 아니면 '불합격'으로 표시하시요"
   ]
  },
  {
   "cell_type": "code",
   "execution_count": 118,
   "id": "e214522d",
   "metadata": {},
   "outputs": [
    {
     "data": {
      "text/html": [
       "<div>\n",
       "<style scoped>\n",
       "    .dataframe tbody tr th:only-of-type {\n",
       "        vertical-align: middle;\n",
       "    }\n",
       "\n",
       "    .dataframe tbody tr th {\n",
       "        vertical-align: top;\n",
       "    }\n",
       "\n",
       "    .dataframe thead th {\n",
       "        text-align: right;\n",
       "    }\n",
       "</style>\n",
       "<table border=\"1\" class=\"dataframe\">\n",
       "  <thead>\n",
       "    <tr style=\"text-align: right;\">\n",
       "      <th></th>\n",
       "      <th>중간</th>\n",
       "      <th>기말</th>\n",
       "    </tr>\n",
       "    <tr>\n",
       "      <th>학년</th>\n",
       "      <th></th>\n",
       "      <th></th>\n",
       "    </tr>\n",
       "  </thead>\n",
       "  <tbody>\n",
       "    <tr>\n",
       "      <th>1학년</th>\n",
       "      <td>불합격</td>\n",
       "      <td>합격</td>\n",
       "    </tr>\n",
       "    <tr>\n",
       "      <th>2학년</th>\n",
       "      <td>합격</td>\n",
       "      <td>합격</td>\n",
       "    </tr>\n",
       "  </tbody>\n",
       "</table>\n",
       "</div>"
      ],
      "text/plain": [
       "      중간  기말\n",
       "학년          \n",
       "1학년  불합격  합격\n",
       "2학년   합격  합격"
      ]
     },
     "execution_count": 118,
     "metadata": {},
     "output_type": "execute_result"
    }
   ],
   "source": [
    "df.pivot_table(index='학년', aggfunc=lambda v:'합격' if v.mean()>=70 else '불합격',\n",
    "              values=['중간','기말'])[['중간','기말']]"
   ]
  },
  {
   "cell_type": "markdown",
   "id": "12e11507",
   "metadata": {},
   "source": [
    "## 15. 병합"
   ]
  },
  {
   "cell_type": "code",
   "execution_count": 119,
   "id": "e3dae006",
   "metadata": {},
   "outputs": [],
   "source": [
    "employee = [{'empno':1, 'ename':'kim', 'dept':1},\n",
    "            {'empno':2, 'ename':'lee', 'dept':2},\n",
    "            {'empno':3, 'ename':'park', 'dept':1},\n",
    "            {'empno':4, 'ename':'song', 'dept':3},\n",
    "            {'empno':5, 'ename':'min', 'dept':2}\n",
    "           ]\n",
    "\n",
    "dept=[{'dept':1, 'deptname':'관리직'},\n",
    "      {'dept':2, 'deptname':'영업직'},\n",
    "      {'dept':3, 'deptname':'개발직'}\n",
    "     ]\n",
    "\n",
    "info =[{'empno':1, 'addr':'서울시','phone':'010-1111-1111'},\n",
    "       {'empno':3, 'addr':'부산시','phone':'010-2222-2222'},\n",
    "       {'empno':2, 'addr':'광주시','phone':'010-3333-3333'},\n",
    "       {'empno':5, 'addr':'광주시','phone':'010-4444-4444'},\n",
    "       {'empno':4, 'addr':'광주시','phone':'010-5555-5555'}\n",
    "      ]"
   ]
  },
  {
   "cell_type": "code",
   "execution_count": 120,
   "id": "c2a0658a",
   "metadata": {},
   "outputs": [],
   "source": [
    "emp = pd.DataFrame(employee)\n",
    "dept = pd.DataFrame(dept)\n",
    "info = pd.DataFrame(info)"
   ]
  },
  {
   "cell_type": "code",
   "execution_count": 121,
   "id": "244f6f6c",
   "metadata": {},
   "outputs": [
    {
     "data": {
      "text/html": [
       "<div>\n",
       "<style scoped>\n",
       "    .dataframe tbody tr th:only-of-type {\n",
       "        vertical-align: middle;\n",
       "    }\n",
       "\n",
       "    .dataframe tbody tr th {\n",
       "        vertical-align: top;\n",
       "    }\n",
       "\n",
       "    .dataframe thead th {\n",
       "        text-align: right;\n",
       "    }\n",
       "</style>\n",
       "<table border=\"1\" class=\"dataframe\">\n",
       "  <thead>\n",
       "    <tr style=\"text-align: right;\">\n",
       "      <th></th>\n",
       "      <th>empno</th>\n",
       "      <th>ename</th>\n",
       "      <th>dept</th>\n",
       "    </tr>\n",
       "  </thead>\n",
       "  <tbody>\n",
       "    <tr>\n",
       "      <th>0</th>\n",
       "      <td>1</td>\n",
       "      <td>kim</td>\n",
       "      <td>1</td>\n",
       "    </tr>\n",
       "    <tr>\n",
       "      <th>1</th>\n",
       "      <td>2</td>\n",
       "      <td>lee</td>\n",
       "      <td>2</td>\n",
       "    </tr>\n",
       "    <tr>\n",
       "      <th>2</th>\n",
       "      <td>3</td>\n",
       "      <td>park</td>\n",
       "      <td>1</td>\n",
       "    </tr>\n",
       "    <tr>\n",
       "      <th>3</th>\n",
       "      <td>4</td>\n",
       "      <td>song</td>\n",
       "      <td>3</td>\n",
       "    </tr>\n",
       "    <tr>\n",
       "      <th>4</th>\n",
       "      <td>5</td>\n",
       "      <td>min</td>\n",
       "      <td>2</td>\n",
       "    </tr>\n",
       "  </tbody>\n",
       "</table>\n",
       "</div>"
      ],
      "text/plain": [
       "   empno ename  dept\n",
       "0      1   kim     1\n",
       "1      2   lee     2\n",
       "2      3  park     1\n",
       "3      4  song     3\n",
       "4      5   min     2"
      ]
     },
     "execution_count": 121,
     "metadata": {},
     "output_type": "execute_result"
    }
   ],
   "source": [
    "emp"
   ]
  },
  {
   "cell_type": "code",
   "execution_count": 122,
   "id": "8e884be3",
   "metadata": {},
   "outputs": [
    {
     "data": {
      "text/html": [
       "<div>\n",
       "<style scoped>\n",
       "    .dataframe tbody tr th:only-of-type {\n",
       "        vertical-align: middle;\n",
       "    }\n",
       "\n",
       "    .dataframe tbody tr th {\n",
       "        vertical-align: top;\n",
       "    }\n",
       "\n",
       "    .dataframe thead th {\n",
       "        text-align: right;\n",
       "    }\n",
       "</style>\n",
       "<table border=\"1\" class=\"dataframe\">\n",
       "  <thead>\n",
       "    <tr style=\"text-align: right;\">\n",
       "      <th></th>\n",
       "      <th>dept</th>\n",
       "      <th>deptname</th>\n",
       "    </tr>\n",
       "  </thead>\n",
       "  <tbody>\n",
       "    <tr>\n",
       "      <th>0</th>\n",
       "      <td>1</td>\n",
       "      <td>관리직</td>\n",
       "    </tr>\n",
       "    <tr>\n",
       "      <th>1</th>\n",
       "      <td>2</td>\n",
       "      <td>영업직</td>\n",
       "    </tr>\n",
       "    <tr>\n",
       "      <th>2</th>\n",
       "      <td>3</td>\n",
       "      <td>개발직</td>\n",
       "    </tr>\n",
       "  </tbody>\n",
       "</table>\n",
       "</div>"
      ],
      "text/plain": [
       "   dept deptname\n",
       "0     1      관리직\n",
       "1     2      영업직\n",
       "2     3      개발직"
      ]
     },
     "execution_count": 122,
     "metadata": {},
     "output_type": "execute_result"
    }
   ],
   "source": [
    "dept"
   ]
  },
  {
   "cell_type": "code",
   "execution_count": 123,
   "id": "a5415203",
   "metadata": {},
   "outputs": [
    {
     "data": {
      "text/html": [
       "<div>\n",
       "<style scoped>\n",
       "    .dataframe tbody tr th:only-of-type {\n",
       "        vertical-align: middle;\n",
       "    }\n",
       "\n",
       "    .dataframe tbody tr th {\n",
       "        vertical-align: top;\n",
       "    }\n",
       "\n",
       "    .dataframe thead th {\n",
       "        text-align: right;\n",
       "    }\n",
       "</style>\n",
       "<table border=\"1\" class=\"dataframe\">\n",
       "  <thead>\n",
       "    <tr style=\"text-align: right;\">\n",
       "      <th></th>\n",
       "      <th>empno</th>\n",
       "      <th>addr</th>\n",
       "      <th>phone</th>\n",
       "    </tr>\n",
       "  </thead>\n",
       "  <tbody>\n",
       "    <tr>\n",
       "      <th>0</th>\n",
       "      <td>1</td>\n",
       "      <td>서울시</td>\n",
       "      <td>010-1111-1111</td>\n",
       "    </tr>\n",
       "    <tr>\n",
       "      <th>1</th>\n",
       "      <td>3</td>\n",
       "      <td>부산시</td>\n",
       "      <td>010-2222-2222</td>\n",
       "    </tr>\n",
       "    <tr>\n",
       "      <th>2</th>\n",
       "      <td>2</td>\n",
       "      <td>광주시</td>\n",
       "      <td>010-3333-3333</td>\n",
       "    </tr>\n",
       "    <tr>\n",
       "      <th>3</th>\n",
       "      <td>5</td>\n",
       "      <td>광주시</td>\n",
       "      <td>010-4444-4444</td>\n",
       "    </tr>\n",
       "    <tr>\n",
       "      <th>4</th>\n",
       "      <td>4</td>\n",
       "      <td>광주시</td>\n",
       "      <td>010-5555-5555</td>\n",
       "    </tr>\n",
       "  </tbody>\n",
       "</table>\n",
       "</div>"
      ],
      "text/plain": [
       "   empno addr          phone\n",
       "0      1  서울시  010-1111-1111\n",
       "1      3  부산시  010-2222-2222\n",
       "2      2  광주시  010-3333-3333\n",
       "3      5  광주시  010-4444-4444\n",
       "4      4  광주시  010-5555-5555"
      ]
     },
     "execution_count": 123,
     "metadata": {},
     "output_type": "execute_result"
    }
   ],
   "source": [
    "info"
   ]
  },
  {
   "cell_type": "code",
   "execution_count": 124,
   "id": "cd19eda1",
   "metadata": {},
   "outputs": [
    {
     "data": {
      "text/html": [
       "<div>\n",
       "<style scoped>\n",
       "    .dataframe tbody tr th:only-of-type {\n",
       "        vertical-align: middle;\n",
       "    }\n",
       "\n",
       "    .dataframe tbody tr th {\n",
       "        vertical-align: top;\n",
       "    }\n",
       "\n",
       "    .dataframe thead th {\n",
       "        text-align: right;\n",
       "    }\n",
       "</style>\n",
       "<table border=\"1\" class=\"dataframe\">\n",
       "  <thead>\n",
       "    <tr style=\"text-align: right;\">\n",
       "      <th></th>\n",
       "      <th>empno</th>\n",
       "      <th>ename</th>\n",
       "      <th>dept</th>\n",
       "      <th>deptname</th>\n",
       "    </tr>\n",
       "  </thead>\n",
       "  <tbody>\n",
       "    <tr>\n",
       "      <th>0</th>\n",
       "      <td>1</td>\n",
       "      <td>kim</td>\n",
       "      <td>1</td>\n",
       "      <td>관리직</td>\n",
       "    </tr>\n",
       "    <tr>\n",
       "      <th>1</th>\n",
       "      <td>3</td>\n",
       "      <td>park</td>\n",
       "      <td>1</td>\n",
       "      <td>관리직</td>\n",
       "    </tr>\n",
       "    <tr>\n",
       "      <th>2</th>\n",
       "      <td>2</td>\n",
       "      <td>lee</td>\n",
       "      <td>2</td>\n",
       "      <td>영업직</td>\n",
       "    </tr>\n",
       "    <tr>\n",
       "      <th>3</th>\n",
       "      <td>5</td>\n",
       "      <td>min</td>\n",
       "      <td>2</td>\n",
       "      <td>영업직</td>\n",
       "    </tr>\n",
       "    <tr>\n",
       "      <th>4</th>\n",
       "      <td>4</td>\n",
       "      <td>song</td>\n",
       "      <td>3</td>\n",
       "      <td>개발직</td>\n",
       "    </tr>\n",
       "  </tbody>\n",
       "</table>\n",
       "</div>"
      ],
      "text/plain": [
       "   empno ename  dept deptname\n",
       "0      1   kim     1      관리직\n",
       "1      3  park     1      관리직\n",
       "2      2   lee     2      영업직\n",
       "3      5   min     2      영업직\n",
       "4      4  song     3      개발직"
      ]
     },
     "execution_count": 124,
     "metadata": {},
     "output_type": "execute_result"
    }
   ],
   "source": [
    "# merge(병합) 반드시 공통 컬럼이 있어야 함\n",
    "mdf = pd.merge(emp, dept, on='dept')\n",
    "mdf"
   ]
  },
  {
   "cell_type": "code",
   "execution_count": 125,
   "id": "d5195216",
   "metadata": {},
   "outputs": [
    {
     "data": {
      "text/html": [
       "<div>\n",
       "<style scoped>\n",
       "    .dataframe tbody tr th:only-of-type {\n",
       "        vertical-align: middle;\n",
       "    }\n",
       "\n",
       "    .dataframe tbody tr th {\n",
       "        vertical-align: top;\n",
       "    }\n",
       "\n",
       "    .dataframe thead th {\n",
       "        text-align: right;\n",
       "    }\n",
       "</style>\n",
       "<table border=\"1\" class=\"dataframe\">\n",
       "  <thead>\n",
       "    <tr style=\"text-align: right;\">\n",
       "      <th></th>\n",
       "      <th>empno</th>\n",
       "      <th>ename</th>\n",
       "      <th>deptname</th>\n",
       "    </tr>\n",
       "  </thead>\n",
       "  <tbody>\n",
       "    <tr>\n",
       "      <th>0</th>\n",
       "      <td>1</td>\n",
       "      <td>kim</td>\n",
       "      <td>관리직</td>\n",
       "    </tr>\n",
       "    <tr>\n",
       "      <th>1</th>\n",
       "      <td>3</td>\n",
       "      <td>park</td>\n",
       "      <td>관리직</td>\n",
       "    </tr>\n",
       "    <tr>\n",
       "      <th>2</th>\n",
       "      <td>2</td>\n",
       "      <td>lee</td>\n",
       "      <td>영업직</td>\n",
       "    </tr>\n",
       "    <tr>\n",
       "      <th>3</th>\n",
       "      <td>5</td>\n",
       "      <td>min</td>\n",
       "      <td>영업직</td>\n",
       "    </tr>\n",
       "    <tr>\n",
       "      <th>4</th>\n",
       "      <td>4</td>\n",
       "      <td>song</td>\n",
       "      <td>개발직</td>\n",
       "    </tr>\n",
       "  </tbody>\n",
       "</table>\n",
       "</div>"
      ],
      "text/plain": [
       "   empno ename deptname\n",
       "0      1   kim      관리직\n",
       "1      3  park      관리직\n",
       "2      2   lee      영업직\n",
       "3      5   min      영업직\n",
       "4      4  song      개발직"
      ]
     },
     "execution_count": 125,
     "metadata": {},
     "output_type": "execute_result"
    }
   ],
   "source": [
    "mdf.drop(columns='dept', inplace=True)\n",
    "mdf"
   ]
  },
  {
   "cell_type": "code",
   "execution_count": 126,
   "id": "332f5dfb",
   "metadata": {},
   "outputs": [
    {
     "data": {
      "text/html": [
       "<div>\n",
       "<style scoped>\n",
       "    .dataframe tbody tr th:only-of-type {\n",
       "        vertical-align: middle;\n",
       "    }\n",
       "\n",
       "    .dataframe tbody tr th {\n",
       "        vertical-align: top;\n",
       "    }\n",
       "\n",
       "    .dataframe thead th {\n",
       "        text-align: right;\n",
       "    }\n",
       "</style>\n",
       "<table border=\"1\" class=\"dataframe\">\n",
       "  <thead>\n",
       "    <tr style=\"text-align: right;\">\n",
       "      <th></th>\n",
       "      <th>empno</th>\n",
       "      <th>ename</th>\n",
       "      <th>deptname</th>\n",
       "      <th>addr</th>\n",
       "      <th>phone</th>\n",
       "    </tr>\n",
       "  </thead>\n",
       "  <tbody>\n",
       "    <tr>\n",
       "      <th>0</th>\n",
       "      <td>1</td>\n",
       "      <td>kim</td>\n",
       "      <td>관리직</td>\n",
       "      <td>서울시</td>\n",
       "      <td>010-1111-1111</td>\n",
       "    </tr>\n",
       "    <tr>\n",
       "      <th>1</th>\n",
       "      <td>3</td>\n",
       "      <td>park</td>\n",
       "      <td>관리직</td>\n",
       "      <td>부산시</td>\n",
       "      <td>010-2222-2222</td>\n",
       "    </tr>\n",
       "    <tr>\n",
       "      <th>2</th>\n",
       "      <td>2</td>\n",
       "      <td>lee</td>\n",
       "      <td>영업직</td>\n",
       "      <td>광주시</td>\n",
       "      <td>010-3333-3333</td>\n",
       "    </tr>\n",
       "    <tr>\n",
       "      <th>3</th>\n",
       "      <td>5</td>\n",
       "      <td>min</td>\n",
       "      <td>영업직</td>\n",
       "      <td>광주시</td>\n",
       "      <td>010-4444-4444</td>\n",
       "    </tr>\n",
       "    <tr>\n",
       "      <th>4</th>\n",
       "      <td>4</td>\n",
       "      <td>song</td>\n",
       "      <td>개발직</td>\n",
       "      <td>광주시</td>\n",
       "      <td>010-5555-5555</td>\n",
       "    </tr>\n",
       "  </tbody>\n",
       "</table>\n",
       "</div>"
      ],
      "text/plain": [
       "   empno ename deptname addr          phone\n",
       "0      1   kim      관리직  서울시  010-1111-1111\n",
       "1      3  park      관리직  부산시  010-2222-2222\n",
       "2      2   lee      영업직  광주시  010-3333-3333\n",
       "3      5   min      영업직  광주시  010-4444-4444\n",
       "4      4  song      개발직  광주시  010-5555-5555"
      ]
     },
     "execution_count": 126,
     "metadata": {},
     "output_type": "execute_result"
    }
   ],
   "source": [
    "resultDF = pd.merge(mdf, info, on='empno')\n",
    "resultDF"
   ]
  },
  {
   "cell_type": "code",
   "execution_count": 127,
   "id": "4231fbe0",
   "metadata": {},
   "outputs": [
    {
     "data": {
      "text/html": [
       "<div>\n",
       "<style scoped>\n",
       "    .dataframe tbody tr th:only-of-type {\n",
       "        vertical-align: middle;\n",
       "    }\n",
       "\n",
       "    .dataframe tbody tr th {\n",
       "        vertical-align: top;\n",
       "    }\n",
       "\n",
       "    .dataframe thead th {\n",
       "        text-align: right;\n",
       "    }\n",
       "</style>\n",
       "<table border=\"1\" class=\"dataframe\">\n",
       "  <thead>\n",
       "    <tr style=\"text-align: right;\">\n",
       "      <th></th>\n",
       "      <th>ename</th>\n",
       "      <th>deptname</th>\n",
       "      <th>addr</th>\n",
       "      <th>phone</th>\n",
       "    </tr>\n",
       "  </thead>\n",
       "  <tbody>\n",
       "    <tr>\n",
       "      <th>0</th>\n",
       "      <td>kim</td>\n",
       "      <td>관리직</td>\n",
       "      <td>서울시</td>\n",
       "      <td>010-1111-1111</td>\n",
       "    </tr>\n",
       "    <tr>\n",
       "      <th>1</th>\n",
       "      <td>park</td>\n",
       "      <td>관리직</td>\n",
       "      <td>부산시</td>\n",
       "      <td>010-2222-2222</td>\n",
       "    </tr>\n",
       "    <tr>\n",
       "      <th>2</th>\n",
       "      <td>lee</td>\n",
       "      <td>영업직</td>\n",
       "      <td>광주시</td>\n",
       "      <td>010-3333-3333</td>\n",
       "    </tr>\n",
       "    <tr>\n",
       "      <th>3</th>\n",
       "      <td>min</td>\n",
       "      <td>영업직</td>\n",
       "      <td>광주시</td>\n",
       "      <td>010-4444-4444</td>\n",
       "    </tr>\n",
       "    <tr>\n",
       "      <th>4</th>\n",
       "      <td>song</td>\n",
       "      <td>개발직</td>\n",
       "      <td>광주시</td>\n",
       "      <td>010-5555-5555</td>\n",
       "    </tr>\n",
       "  </tbody>\n",
       "</table>\n",
       "</div>"
      ],
      "text/plain": [
       "  ename deptname addr          phone\n",
       "0   kim      관리직  서울시  010-1111-1111\n",
       "1  park      관리직  부산시  010-2222-2222\n",
       "2   lee      영업직  광주시  010-3333-3333\n",
       "3   min      영업직  광주시  010-4444-4444\n",
       "4  song      개발직  광주시  010-5555-5555"
      ]
     },
     "execution_count": 127,
     "metadata": {},
     "output_type": "execute_result"
    }
   ],
   "source": [
    "resultDF.drop(columns=['empno'], inplace=True)\n",
    "resultDF"
   ]
  },
  {
   "cell_type": "code",
   "execution_count": 128,
   "id": "c12403ce",
   "metadata": {},
   "outputs": [
    {
     "data": {
      "text/html": [
       "<div>\n",
       "<style scoped>\n",
       "    .dataframe tbody tr th:only-of-type {\n",
       "        vertical-align: middle;\n",
       "    }\n",
       "\n",
       "    .dataframe tbody tr th {\n",
       "        vertical-align: top;\n",
       "    }\n",
       "\n",
       "    .dataframe thead th {\n",
       "        text-align: right;\n",
       "    }\n",
       "</style>\n",
       "<table border=\"1\" class=\"dataframe\">\n",
       "  <thead>\n",
       "    <tr style=\"text-align: right;\">\n",
       "      <th></th>\n",
       "      <th>empno</th>\n",
       "      <th>ename</th>\n",
       "      <th>dept</th>\n",
       "      <th>deptname</th>\n",
       "    </tr>\n",
       "  </thead>\n",
       "  <tbody>\n",
       "    <tr>\n",
       "      <th>0</th>\n",
       "      <td>1.0</td>\n",
       "      <td>kim</td>\n",
       "      <td>1</td>\n",
       "      <td>NaN</td>\n",
       "    </tr>\n",
       "    <tr>\n",
       "      <th>1</th>\n",
       "      <td>2.0</td>\n",
       "      <td>lee</td>\n",
       "      <td>2</td>\n",
       "      <td>NaN</td>\n",
       "    </tr>\n",
       "    <tr>\n",
       "      <th>2</th>\n",
       "      <td>3.0</td>\n",
       "      <td>park</td>\n",
       "      <td>1</td>\n",
       "      <td>NaN</td>\n",
       "    </tr>\n",
       "    <tr>\n",
       "      <th>3</th>\n",
       "      <td>4.0</td>\n",
       "      <td>song</td>\n",
       "      <td>3</td>\n",
       "      <td>NaN</td>\n",
       "    </tr>\n",
       "    <tr>\n",
       "      <th>4</th>\n",
       "      <td>5.0</td>\n",
       "      <td>min</td>\n",
       "      <td>2</td>\n",
       "      <td>NaN</td>\n",
       "    </tr>\n",
       "    <tr>\n",
       "      <th>0</th>\n",
       "      <td>NaN</td>\n",
       "      <td>NaN</td>\n",
       "      <td>1</td>\n",
       "      <td>관리직</td>\n",
       "    </tr>\n",
       "    <tr>\n",
       "      <th>1</th>\n",
       "      <td>NaN</td>\n",
       "      <td>NaN</td>\n",
       "      <td>2</td>\n",
       "      <td>영업직</td>\n",
       "    </tr>\n",
       "    <tr>\n",
       "      <th>2</th>\n",
       "      <td>NaN</td>\n",
       "      <td>NaN</td>\n",
       "      <td>3</td>\n",
       "      <td>개발직</td>\n",
       "    </tr>\n",
       "  </tbody>\n",
       "</table>\n",
       "</div>"
      ],
      "text/plain": [
       "   empno ename  dept deptname\n",
       "0    1.0   kim     1      NaN\n",
       "1    2.0   lee     2      NaN\n",
       "2    3.0  park     1      NaN\n",
       "3    4.0  song     3      NaN\n",
       "4    5.0   min     2      NaN\n",
       "0    NaN   NaN     1      관리직\n",
       "1    NaN   NaN     2      영업직\n",
       "2    NaN   NaN     3      개발직"
      ]
     },
     "execution_count": 128,
     "metadata": {},
     "output_type": "execute_result"
    }
   ],
   "source": [
    "# concat 결합: 공통 컬럼 없어도 가능\n",
    "pd.concat([emp,dept])"
   ]
  },
  {
   "cell_type": "code",
   "execution_count": 129,
   "id": "35cf188b",
   "metadata": {},
   "outputs": [
    {
     "data": {
      "text/html": [
       "<div>\n",
       "<style scoped>\n",
       "    .dataframe tbody tr th:only-of-type {\n",
       "        vertical-align: middle;\n",
       "    }\n",
       "\n",
       "    .dataframe tbody tr th {\n",
       "        vertical-align: top;\n",
       "    }\n",
       "\n",
       "    .dataframe thead th {\n",
       "        text-align: right;\n",
       "    }\n",
       "</style>\n",
       "<table border=\"1\" class=\"dataframe\">\n",
       "  <thead>\n",
       "    <tr style=\"text-align: right;\">\n",
       "      <th></th>\n",
       "      <th>empno</th>\n",
       "      <th>ename</th>\n",
       "      <th>dept</th>\n",
       "      <th>dept</th>\n",
       "      <th>deptname</th>\n",
       "    </tr>\n",
       "  </thead>\n",
       "  <tbody>\n",
       "    <tr>\n",
       "      <th>0</th>\n",
       "      <td>1</td>\n",
       "      <td>kim</td>\n",
       "      <td>1</td>\n",
       "      <td>1.0</td>\n",
       "      <td>관리직</td>\n",
       "    </tr>\n",
       "    <tr>\n",
       "      <th>1</th>\n",
       "      <td>2</td>\n",
       "      <td>lee</td>\n",
       "      <td>2</td>\n",
       "      <td>2.0</td>\n",
       "      <td>영업직</td>\n",
       "    </tr>\n",
       "    <tr>\n",
       "      <th>2</th>\n",
       "      <td>3</td>\n",
       "      <td>park</td>\n",
       "      <td>1</td>\n",
       "      <td>3.0</td>\n",
       "      <td>개발직</td>\n",
       "    </tr>\n",
       "    <tr>\n",
       "      <th>3</th>\n",
       "      <td>4</td>\n",
       "      <td>song</td>\n",
       "      <td>3</td>\n",
       "      <td>NaN</td>\n",
       "      <td>NaN</td>\n",
       "    </tr>\n",
       "    <tr>\n",
       "      <th>4</th>\n",
       "      <td>5</td>\n",
       "      <td>min</td>\n",
       "      <td>2</td>\n",
       "      <td>NaN</td>\n",
       "      <td>NaN</td>\n",
       "    </tr>\n",
       "  </tbody>\n",
       "</table>\n",
       "</div>"
      ],
      "text/plain": [
       "   empno ename  dept  dept deptname\n",
       "0      1   kim     1   1.0      관리직\n",
       "1      2   lee     2   2.0      영업직\n",
       "2      3  park     1   3.0      개발직\n",
       "3      4  song     3   NaN      NaN\n",
       "4      5   min     2   NaN      NaN"
      ]
     },
     "execution_count": 129,
     "metadata": {},
     "output_type": "execute_result"
    }
   ],
   "source": [
    "pd.concat([emp,dept], axis=1)"
   ]
  },
  {
   "cell_type": "markdown",
   "id": "233b12a9",
   "metadata": {},
   "source": [
    "## 16. 멀티인덱스"
   ]
  },
  {
   "cell_type": "code",
   "execution_count": 130,
   "id": "6484137d",
   "metadata": {},
   "outputs": [
    {
     "data": {
      "text/plain": [
       "array([[67, 42, 39, 35, 94, 46],\n",
       "       [31, 36, 55, 80, 50, 48],\n",
       "       [41, 58, 59, 44, 80, 98],\n",
       "       [43, 39, 37, 93, 91, 52]])"
      ]
     },
     "execution_count": 130,
     "metadata": {},
     "output_type": "execute_result"
    }
   ],
   "source": [
    "np.random.seed(1)\n",
    "data = np.random.randint(30, 101, size=(4,6))\n",
    "data"
   ]
  },
  {
   "cell_type": "code",
   "execution_count": 131,
   "id": "64714a5c",
   "metadata": {},
   "outputs": [
    {
     "data": {
      "text/html": [
       "<div>\n",
       "<style scoped>\n",
       "    .dataframe tbody tr th:only-of-type {\n",
       "        vertical-align: middle;\n",
       "    }\n",
       "\n",
       "    .dataframe tbody tr th {\n",
       "        vertical-align: top;\n",
       "    }\n",
       "\n",
       "    .dataframe thead th {\n",
       "        text-align: right;\n",
       "    }\n",
       "</style>\n",
       "<table border=\"1\" class=\"dataframe\">\n",
       "  <thead>\n",
       "    <tr style=\"text-align: right;\">\n",
       "      <th></th>\n",
       "      <th>0</th>\n",
       "      <th>1</th>\n",
       "      <th>2</th>\n",
       "      <th>3</th>\n",
       "      <th>4</th>\n",
       "      <th>5</th>\n",
       "    </tr>\n",
       "  </thead>\n",
       "  <tbody>\n",
       "    <tr>\n",
       "      <th>0</th>\n",
       "      <td>67</td>\n",
       "      <td>42</td>\n",
       "      <td>39</td>\n",
       "      <td>35</td>\n",
       "      <td>94</td>\n",
       "      <td>46</td>\n",
       "    </tr>\n",
       "    <tr>\n",
       "      <th>1</th>\n",
       "      <td>31</td>\n",
       "      <td>36</td>\n",
       "      <td>55</td>\n",
       "      <td>80</td>\n",
       "      <td>50</td>\n",
       "      <td>48</td>\n",
       "    </tr>\n",
       "    <tr>\n",
       "      <th>2</th>\n",
       "      <td>41</td>\n",
       "      <td>58</td>\n",
       "      <td>59</td>\n",
       "      <td>44</td>\n",
       "      <td>80</td>\n",
       "      <td>98</td>\n",
       "    </tr>\n",
       "    <tr>\n",
       "      <th>3</th>\n",
       "      <td>43</td>\n",
       "      <td>39</td>\n",
       "      <td>37</td>\n",
       "      <td>93</td>\n",
       "      <td>91</td>\n",
       "      <td>52</td>\n",
       "    </tr>\n",
       "  </tbody>\n",
       "</table>\n",
       "</div>"
      ],
      "text/plain": [
       "    0   1   2   3   4   5\n",
       "0  67  42  39  35  94  46\n",
       "1  31  36  55  80  50  48\n",
       "2  41  58  59  44  80  98\n",
       "3  43  39  37  93  91  52"
      ]
     },
     "execution_count": 131,
     "metadata": {},
     "output_type": "execute_result"
    }
   ],
   "source": [
    "df = pd.DataFrame(data)\n",
    "df"
   ]
  },
  {
   "cell_type": "code",
   "execution_count": 132,
   "id": "5092f859",
   "metadata": {},
   "outputs": [
    {
     "data": {
      "text/html": [
       "<div>\n",
       "<style scoped>\n",
       "    .dataframe tbody tr th:only-of-type {\n",
       "        vertical-align: middle;\n",
       "    }\n",
       "\n",
       "    .dataframe tbody tr th {\n",
       "        vertical-align: top;\n",
       "    }\n",
       "\n",
       "    .dataframe thead th {\n",
       "        text-align: right;\n",
       "    }\n",
       "</style>\n",
       "<table border=\"1\" class=\"dataframe\">\n",
       "  <thead>\n",
       "    <tr style=\"text-align: right;\">\n",
       "      <th></th>\n",
       "      <th>0</th>\n",
       "      <th>1</th>\n",
       "      <th>2</th>\n",
       "      <th>3</th>\n",
       "      <th>4</th>\n",
       "      <th>5</th>\n",
       "      <th>년도</th>\n",
       "      <th>학년</th>\n",
       "    </tr>\n",
       "  </thead>\n",
       "  <tbody>\n",
       "    <tr>\n",
       "      <th>0</th>\n",
       "      <td>67</td>\n",
       "      <td>42</td>\n",
       "      <td>39</td>\n",
       "      <td>35</td>\n",
       "      <td>94</td>\n",
       "      <td>46</td>\n",
       "      <td>2020</td>\n",
       "      <td>1학년</td>\n",
       "    </tr>\n",
       "    <tr>\n",
       "      <th>1</th>\n",
       "      <td>31</td>\n",
       "      <td>36</td>\n",
       "      <td>55</td>\n",
       "      <td>80</td>\n",
       "      <td>50</td>\n",
       "      <td>48</td>\n",
       "      <td>2020</td>\n",
       "      <td>2학년</td>\n",
       "    </tr>\n",
       "    <tr>\n",
       "      <th>2</th>\n",
       "      <td>41</td>\n",
       "      <td>58</td>\n",
       "      <td>59</td>\n",
       "      <td>44</td>\n",
       "      <td>80</td>\n",
       "      <td>98</td>\n",
       "      <td>2021</td>\n",
       "      <td>1학년</td>\n",
       "    </tr>\n",
       "    <tr>\n",
       "      <th>3</th>\n",
       "      <td>43</td>\n",
       "      <td>39</td>\n",
       "      <td>37</td>\n",
       "      <td>93</td>\n",
       "      <td>91</td>\n",
       "      <td>52</td>\n",
       "      <td>2021</td>\n",
       "      <td>2학년</td>\n",
       "    </tr>\n",
       "  </tbody>\n",
       "</table>\n",
       "</div>"
      ],
      "text/plain": [
       "    0   1   2   3   4   5    년도   학년\n",
       "0  67  42  39  35  94  46  2020  1학년\n",
       "1  31  36  55  80  50  48  2020  2학년\n",
       "2  41  58  59  44  80  98  2021  1학년\n",
       "3  43  39  37  93  91  52  2021  2학년"
      ]
     },
     "execution_count": 132,
     "metadata": {},
     "output_type": "execute_result"
    }
   ],
   "source": [
    "df['년도'] = [2020,2020,2021,2021]\n",
    "df['학년'] = ['1학년','2학년','1학년','2학년']\n",
    "df"
   ]
  },
  {
   "cell_type": "code",
   "execution_count": 133,
   "id": "0dd9af31",
   "metadata": {},
   "outputs": [
    {
     "data": {
      "text/html": [
       "<div>\n",
       "<style scoped>\n",
       "    .dataframe tbody tr th:only-of-type {\n",
       "        vertical-align: middle;\n",
       "    }\n",
       "\n",
       "    .dataframe tbody tr th {\n",
       "        vertical-align: top;\n",
       "    }\n",
       "\n",
       "    .dataframe thead th {\n",
       "        text-align: right;\n",
       "    }\n",
       "</style>\n",
       "<table border=\"1\" class=\"dataframe\">\n",
       "  <thead>\n",
       "    <tr style=\"text-align: right;\">\n",
       "      <th></th>\n",
       "      <th></th>\n",
       "      <th>0</th>\n",
       "      <th>1</th>\n",
       "      <th>2</th>\n",
       "      <th>3</th>\n",
       "      <th>4</th>\n",
       "      <th>5</th>\n",
       "    </tr>\n",
       "    <tr>\n",
       "      <th>년도</th>\n",
       "      <th>학년</th>\n",
       "      <th></th>\n",
       "      <th></th>\n",
       "      <th></th>\n",
       "      <th></th>\n",
       "      <th></th>\n",
       "      <th></th>\n",
       "    </tr>\n",
       "  </thead>\n",
       "  <tbody>\n",
       "    <tr>\n",
       "      <th rowspan=\"2\" valign=\"top\">2020</th>\n",
       "      <th>1학년</th>\n",
       "      <td>67</td>\n",
       "      <td>42</td>\n",
       "      <td>39</td>\n",
       "      <td>35</td>\n",
       "      <td>94</td>\n",
       "      <td>46</td>\n",
       "    </tr>\n",
       "    <tr>\n",
       "      <th>2학년</th>\n",
       "      <td>31</td>\n",
       "      <td>36</td>\n",
       "      <td>55</td>\n",
       "      <td>80</td>\n",
       "      <td>50</td>\n",
       "      <td>48</td>\n",
       "    </tr>\n",
       "    <tr>\n",
       "      <th rowspan=\"2\" valign=\"top\">2021</th>\n",
       "      <th>1학년</th>\n",
       "      <td>41</td>\n",
       "      <td>58</td>\n",
       "      <td>59</td>\n",
       "      <td>44</td>\n",
       "      <td>80</td>\n",
       "      <td>98</td>\n",
       "    </tr>\n",
       "    <tr>\n",
       "      <th>2학년</th>\n",
       "      <td>43</td>\n",
       "      <td>39</td>\n",
       "      <td>37</td>\n",
       "      <td>93</td>\n",
       "      <td>91</td>\n",
       "      <td>52</td>\n",
       "    </tr>\n",
       "  </tbody>\n",
       "</table>\n",
       "</div>"
      ],
      "text/plain": [
       "           0   1   2   3   4   5\n",
       "년도   학년                         \n",
       "2020 1학년  67  42  39  35  94  46\n",
       "     2학년  31  36  55  80  50  48\n",
       "2021 1학년  41  58  59  44  80  98\n",
       "     2학년  43  39  37  93  91  52"
      ]
     },
     "execution_count": 133,
     "metadata": {},
     "output_type": "execute_result"
    }
   ],
   "source": [
    "df.set_index(['년도','학년'])"
   ]
  },
  {
   "cell_type": "code",
   "execution_count": 134,
   "id": "71c897ac",
   "metadata": {},
   "outputs": [
    {
     "name": "stdout",
     "output_type": "stream",
     "text": [
      "<class 'pandas.core.indexes.multi.MultiIndex'>\n"
     ]
    },
    {
     "data": {
      "text/plain": [
       "MultiIndex([(2020, '1학년'),\n",
       "            (2020, '2학년'),\n",
       "            (2021, '1학년'),\n",
       "            (2021, '2학년')],\n",
       "           names=['년도', '학년'])"
      ]
     },
     "execution_count": 134,
     "metadata": {},
     "output_type": "execute_result"
    }
   ],
   "source": [
    "df.index = pd.MultiIndex.from_product([[2020,2021],['1학년','2학년']],\n",
    "                                      names=['년도','학년'])\n",
    "\n",
    "print(type(df.index))\n",
    "df.index"
   ]
  },
  {
   "cell_type": "code",
   "execution_count": 135,
   "id": "2c8a9cb4",
   "metadata": {},
   "outputs": [
    {
     "name": "stdout",
     "output_type": "stream",
     "text": [
      "[[2020, 2021], ['1학년', '2학년']]\n",
      "Int64Index([2020, 2021], dtype='int64', name='년도')\n",
      "Index(['1학년', '2학년'], dtype='object', name='학년')\n"
     ]
    }
   ],
   "source": [
    "# 정렬되어 출력\n",
    "print(df.index.levels)\n",
    "print(df.index.levels[0])\n",
    "print(df.index.levels[1])"
   ]
  },
  {
   "cell_type": "code",
   "execution_count": 136,
   "id": "a221f8ae",
   "metadata": {},
   "outputs": [
    {
     "name": "stdout",
     "output_type": "stream",
     "text": [
      "Int64Index([2020, 2020, 2021, 2021], dtype='int64', name='년도')\n",
      "Int64Index([2020, 2020, 2021, 2021], dtype='int64', name='년도')\n",
      "Index(['1학년', '2학년', '1학년', '2학년'], dtype='object', name='학년')\n"
     ]
    }
   ],
   "source": [
    "print(df.index.get_level_values(0))\n",
    "print(df.index.get_level_values('년도'))\n",
    "print(df.index.get_level_values('학년'))"
   ]
  },
  {
   "cell_type": "code",
   "execution_count": 137,
   "id": "6cde649e",
   "metadata": {},
   "outputs": [
    {
     "name": "stdout",
     "output_type": "stream",
     "text": [
      "Int64Index([2020, 2021], dtype='int64', name='년도')\n",
      "Index(['1학년', '2학년'], dtype='object', name='학년')\n"
     ]
    }
   ],
   "source": [
    "# 정렬되지 않고 선언된 그대로\n",
    "print(df.index.unique(0))\n",
    "print(df.index.unique(1))"
   ]
  },
  {
   "cell_type": "code",
   "execution_count": 138,
   "id": "05c2be6e",
   "metadata": {},
   "outputs": [
    {
     "data": {
      "text/html": [
       "<div>\n",
       "<style scoped>\n",
       "    .dataframe tbody tr th:only-of-type {\n",
       "        vertical-align: middle;\n",
       "    }\n",
       "\n",
       "    .dataframe tbody tr th {\n",
       "        vertical-align: top;\n",
       "    }\n",
       "\n",
       "    .dataframe thead th {\n",
       "        text-align: right;\n",
       "    }\n",
       "</style>\n",
       "<table border=\"1\" class=\"dataframe\">\n",
       "  <thead>\n",
       "    <tr style=\"text-align: right;\">\n",
       "      <th></th>\n",
       "      <th></th>\n",
       "      <th>0</th>\n",
       "      <th>1</th>\n",
       "      <th>2</th>\n",
       "      <th>3</th>\n",
       "      <th>4</th>\n",
       "      <th>5</th>\n",
       "    </tr>\n",
       "    <tr>\n",
       "      <th>년도</th>\n",
       "      <th>학년</th>\n",
       "      <th></th>\n",
       "      <th></th>\n",
       "      <th></th>\n",
       "      <th></th>\n",
       "      <th></th>\n",
       "      <th></th>\n",
       "    </tr>\n",
       "  </thead>\n",
       "  <tbody>\n",
       "    <tr>\n",
       "      <th rowspan=\"2\" valign=\"top\">2020</th>\n",
       "      <th>1학년</th>\n",
       "      <td>67</td>\n",
       "      <td>42</td>\n",
       "      <td>39</td>\n",
       "      <td>35</td>\n",
       "      <td>94</td>\n",
       "      <td>46</td>\n",
       "    </tr>\n",
       "    <tr>\n",
       "      <th>2학년</th>\n",
       "      <td>31</td>\n",
       "      <td>36</td>\n",
       "      <td>55</td>\n",
       "      <td>80</td>\n",
       "      <td>50</td>\n",
       "      <td>48</td>\n",
       "    </tr>\n",
       "    <tr>\n",
       "      <th rowspan=\"2\" valign=\"top\">2021</th>\n",
       "      <th>1학년</th>\n",
       "      <td>41</td>\n",
       "      <td>58</td>\n",
       "      <td>59</td>\n",
       "      <td>44</td>\n",
       "      <td>80</td>\n",
       "      <td>98</td>\n",
       "    </tr>\n",
       "    <tr>\n",
       "      <th>2학년</th>\n",
       "      <td>43</td>\n",
       "      <td>39</td>\n",
       "      <td>37</td>\n",
       "      <td>93</td>\n",
       "      <td>91</td>\n",
       "      <td>52</td>\n",
       "    </tr>\n",
       "  </tbody>\n",
       "</table>\n",
       "</div>"
      ],
      "text/plain": [
       "           0   1   2   3   4   5\n",
       "년도   학년                         \n",
       "2020 1학년  67  42  39  35  94  46\n",
       "     2학년  31  36  55  80  50  48\n",
       "2021 1학년  41  58  59  44  80  98\n",
       "     2학년  43  39  37  93  91  52"
      ]
     },
     "execution_count": 138,
     "metadata": {},
     "output_type": "execute_result"
    }
   ],
   "source": [
    "df.drop(columns=['년도','학년'], inplace=True)\n",
    "df.reset_index()\n",
    "df"
   ]
  },
  {
   "cell_type": "code",
   "execution_count": 139,
   "id": "2b2b6dbb",
   "metadata": {
    "scrolled": true
   },
   "outputs": [
    {
     "name": "stdout",
     "output_type": "stream",
     "text": [
      "<class 'pandas.core.indexes.multi.MultiIndex'>\n",
      "[['이순신', '임꺽정', '홍길동'], ['국어', '영어']]\n"
     ]
    },
    {
     "data": {
      "text/plain": [
       "MultiIndex([('홍길동', '국어'),\n",
       "            ('홍길동', '영어'),\n",
       "            ('이순신', '국어'),\n",
       "            ('이순신', '영어'),\n",
       "            ('임꺽정', '국어'),\n",
       "            ('임꺽정', '영어')],\n",
       "           )"
      ]
     },
     "execution_count": 139,
     "metadata": {},
     "output_type": "execute_result"
    }
   ],
   "source": [
    "df.columns = pd.MultiIndex.from_product([['홍길동','이순신','임꺽정'],['국어','영어']])\n",
    "\n",
    "print(type(df.columns))\n",
    "print(df.columns.levels)\n",
    "df.columns"
   ]
  },
  {
   "cell_type": "code",
   "execution_count": 140,
   "id": "940a8c90",
   "metadata": {},
   "outputs": [
    {
     "data": {
      "text/html": [
       "<div>\n",
       "<style scoped>\n",
       "    .dataframe tbody tr th:only-of-type {\n",
       "        vertical-align: middle;\n",
       "    }\n",
       "\n",
       "    .dataframe tbody tr th {\n",
       "        vertical-align: top;\n",
       "    }\n",
       "\n",
       "    .dataframe thead tr th {\n",
       "        text-align: left;\n",
       "    }\n",
       "\n",
       "    .dataframe thead tr:last-of-type th {\n",
       "        text-align: right;\n",
       "    }\n",
       "</style>\n",
       "<table border=\"1\" class=\"dataframe\">\n",
       "  <thead>\n",
       "    <tr>\n",
       "      <th></th>\n",
       "      <th></th>\n",
       "      <th colspan=\"2\" halign=\"left\">홍길동1</th>\n",
       "      <th colspan=\"2\" halign=\"left\">이순신</th>\n",
       "      <th colspan=\"2\" halign=\"left\">임꺽정1</th>\n",
       "    </tr>\n",
       "    <tr>\n",
       "      <th></th>\n",
       "      <th></th>\n",
       "      <th>국어</th>\n",
       "      <th>영어</th>\n",
       "      <th>국어</th>\n",
       "      <th>영어</th>\n",
       "      <th>국어</th>\n",
       "      <th>영어</th>\n",
       "    </tr>\n",
       "    <tr>\n",
       "      <th>년도</th>\n",
       "      <th>학년</th>\n",
       "      <th></th>\n",
       "      <th></th>\n",
       "      <th></th>\n",
       "      <th></th>\n",
       "      <th></th>\n",
       "      <th></th>\n",
       "    </tr>\n",
       "  </thead>\n",
       "  <tbody>\n",
       "    <tr>\n",
       "      <th rowspan=\"2\" valign=\"top\">2020</th>\n",
       "      <th>1학년</th>\n",
       "      <td>67</td>\n",
       "      <td>42</td>\n",
       "      <td>39</td>\n",
       "      <td>35</td>\n",
       "      <td>94</td>\n",
       "      <td>46</td>\n",
       "    </tr>\n",
       "    <tr>\n",
       "      <th>2학년</th>\n",
       "      <td>31</td>\n",
       "      <td>36</td>\n",
       "      <td>55</td>\n",
       "      <td>80</td>\n",
       "      <td>50</td>\n",
       "      <td>48</td>\n",
       "    </tr>\n",
       "    <tr>\n",
       "      <th rowspan=\"2\" valign=\"top\">2021</th>\n",
       "      <th>1학년</th>\n",
       "      <td>41</td>\n",
       "      <td>58</td>\n",
       "      <td>59</td>\n",
       "      <td>44</td>\n",
       "      <td>80</td>\n",
       "      <td>98</td>\n",
       "    </tr>\n",
       "    <tr>\n",
       "      <th>2학년</th>\n",
       "      <td>43</td>\n",
       "      <td>39</td>\n",
       "      <td>37</td>\n",
       "      <td>93</td>\n",
       "      <td>91</td>\n",
       "      <td>52</td>\n",
       "    </tr>\n",
       "  </tbody>\n",
       "</table>\n",
       "</div>"
      ],
      "text/plain": [
       "         홍길동1     이순신     임꺽정1    \n",
       "           국어  영어  국어  영어   국어  영어\n",
       "년도   학년                           \n",
       "2020 1학년   67  42  39  35   94  46\n",
       "     2학년   31  36  55  80   50  48\n",
       "2021 1학년   41  58  59  44   80  98\n",
       "     2학년   43  39  37  93   91  52"
      ]
     },
     "execution_count": 140,
     "metadata": {},
     "output_type": "execute_result"
    }
   ],
   "source": [
    "df.rename( columns={'홍길동':'홍길동1', '임꺽정':'임꺽정1'} )"
   ]
  },
  {
   "cell_type": "code",
   "execution_count": 141,
   "id": "567fafa6",
   "metadata": {},
   "outputs": [
    {
     "data": {
      "text/plain": [
       "년도    학년 \n",
       "2020  1학년    46.0\n",
       "      2학년    48.0\n",
       "2021  1학년    98.0\n",
       "      2학년    52.0\n",
       "Name: 영어, dtype: float32"
      ]
     },
     "execution_count": 141,
     "metadata": {},
     "output_type": "execute_result"
    }
   ],
   "source": [
    "df['임꺽정']['영어'].astype(np.float32)"
   ]
  },
  {
   "cell_type": "markdown",
   "id": "5a3931a5",
   "metadata": {},
   "source": [
    "## 17. 시계열데이터\n",
    "- 인덱스가 datetime 형\n",
    "- 시계열데이터의 indexing, slicing을 사용 가능"
   ]
  },
  {
   "cell_type": "code",
   "execution_count": 142,
   "id": "3a4eb439",
   "metadata": {},
   "outputs": [],
   "source": [
    "from datetime import datetime"
   ]
  },
  {
   "cell_type": "code",
   "execution_count": 143,
   "id": "aff7f853",
   "metadata": {},
   "outputs": [
    {
     "data": {
      "text/plain": [
       "(2020, 11, 20, 7, 12, 13)"
      ]
     },
     "execution_count": 143,
     "metadata": {},
     "output_type": "execute_result"
    }
   ],
   "source": [
    "dt = datetime(2020,11,20,7,12,13)\n",
    "dt.year, dt.month, dt.day, dt.hour, dt.minute, dt.second"
   ]
  },
  {
   "cell_type": "code",
   "execution_count": 144,
   "id": "a0433bbd",
   "metadata": {},
   "outputs": [
    {
     "data": {
      "text/plain": [
       "datetime.datetime(2021, 10, 9, 20, 3, 41, 743272)"
      ]
     },
     "execution_count": 144,
     "metadata": {},
     "output_type": "execute_result"
    }
   ],
   "source": [
    "cur = datetime.now()\n",
    "cur"
   ]
  },
  {
   "cell_type": "code",
   "execution_count": 145,
   "id": "73a0c027",
   "metadata": {},
   "outputs": [
    {
     "data": {
      "text/plain": [
       "Index(['2019-01-01', '2019-02-01', '2019-03-01', '2019-04-01', '2019-05-01',\n",
       "       '2019-06-01', '2019-07-01', '2019-08-01'],\n",
       "      dtype='object')"
      ]
     },
     "execution_count": 145,
     "metadata": {},
     "output_type": "execute_result"
    }
   ],
   "source": [
    "data1 = [[1,2],[3,4],[5,8],[7,6],[9,12],[11,10],[13,16],[15,20]]\n",
    "df = pd.DataFrame( data1 )\n",
    "df.index=['2019-01-01','2019-02-01','2019-03-01','2019-04-01',\n",
    "          '2019-05-01','2019-06-01','2019-07-01','2019-08-01']\n",
    "df.index   # dtype='object'\n",
    "# df.index=[datetime(2019,1,1),datetime(2019,2,1),datetime(2019,3,1),\n",
    "#           datetime(2019,4,1),datetime(2019,5,1),datetime(2019,6,1),\n",
    "#           datetime(2019,7,1),datetime(2019,8,1) ]\n",
    "# df.index   #  dtype='datetime64[ns]"
   ]
  },
  {
   "cell_type": "code",
   "execution_count": 146,
   "id": "5301804a",
   "metadata": {},
   "outputs": [
    {
     "data": {
      "text/plain": [
       "DatetimeIndex(['2019-01-01', '2019-02-01', '2019-03-01', '2019-04-01',\n",
       "               '2019-05-01', '2019-06-01', '2019-07-01', '2019-08-01'],\n",
       "              dtype='datetime64[ns]', freq=None)"
      ]
     },
     "execution_count": 146,
     "metadata": {},
     "output_type": "execute_result"
    }
   ],
   "source": [
    "# 문자열을 datetime 형으로 형변환\n",
    "# 2019-03-01 11:10:12   /   2019/03/01   /   2019.03.01\n",
    "df.index = pd.to_datetime(df.index)\n",
    "df.index"
   ]
  },
  {
   "cell_type": "code",
   "execution_count": 147,
   "id": "c9ad409f",
   "metadata": {},
   "outputs": [
    {
     "data": {
      "text/plain": [
       "Index(['2019년1월1일', '2019년2월1일', '2019년3월1일', '2019년4월1일', '2019년5월1일',\n",
       "       '2019년6월1일', '2019년7월1일', '2019년8월1일'],\n",
       "      dtype='object')"
      ]
     },
     "execution_count": 147,
     "metadata": {},
     "output_type": "execute_result"
    }
   ],
   "source": [
    "df.index=['2019년1월1일','2019년2월1일','2019년3월1일','2019년4월1일',\n",
    "          '2019년5월1일','2019년6월1일','2019년7월1일','2019년8월1일']\n",
    "df.index    # dtype='object'"
   ]
  },
  {
   "cell_type": "code",
   "execution_count": 148,
   "id": "8d23f97b",
   "metadata": {
    "scrolled": true
   },
   "outputs": [
    {
     "data": {
      "text/plain": [
       "DatetimeIndex(['2019-01-01', '2019-02-01', '2019-03-01', '2019-04-01',\n",
       "               '2019-05-01', '2019-06-01', '2019-07-01', '2019-08-01'],\n",
       "              dtype='datetime64[ns]', freq=None)"
      ]
     },
     "execution_count": 148,
     "metadata": {},
     "output_type": "execute_result"
    }
   ],
   "source": [
    "# df.index = pd.to_datetime(df.index)   # TypeError\n",
    "\n",
    "df.index = pd.to_datetime(df.index, format='%Y년%m월%d일')\n",
    "# https://docs.python.org/3/library/datetime.html#strftime-and-strptime-behavior\n",
    "df.index   # dtype='datetime64[ns]'"
   ]
  },
  {
   "cell_type": "code",
   "execution_count": 149,
   "id": "6504c155",
   "metadata": {},
   "outputs": [
    {
     "data": {
      "text/html": [
       "<div>\n",
       "<style scoped>\n",
       "    .dataframe tbody tr th:only-of-type {\n",
       "        vertical-align: middle;\n",
       "    }\n",
       "\n",
       "    .dataframe tbody tr th {\n",
       "        vertical-align: top;\n",
       "    }\n",
       "\n",
       "    .dataframe thead th {\n",
       "        text-align: right;\n",
       "    }\n",
       "</style>\n",
       "<table border=\"1\" class=\"dataframe\">\n",
       "  <thead>\n",
       "    <tr style=\"text-align: right;\">\n",
       "      <th></th>\n",
       "      <th>A</th>\n",
       "      <th>B</th>\n",
       "    </tr>\n",
       "  </thead>\n",
       "  <tbody>\n",
       "    <tr>\n",
       "      <th>2019-01-01</th>\n",
       "      <td>1</td>\n",
       "      <td>2</td>\n",
       "    </tr>\n",
       "    <tr>\n",
       "      <th>2019-02-01</th>\n",
       "      <td>3</td>\n",
       "      <td>4</td>\n",
       "    </tr>\n",
       "    <tr>\n",
       "      <th>2019-03-01</th>\n",
       "      <td>5</td>\n",
       "      <td>8</td>\n",
       "    </tr>\n",
       "    <tr>\n",
       "      <th>2019-04-01</th>\n",
       "      <td>7</td>\n",
       "      <td>6</td>\n",
       "    </tr>\n",
       "    <tr>\n",
       "      <th>2019-05-01</th>\n",
       "      <td>9</td>\n",
       "      <td>12</td>\n",
       "    </tr>\n",
       "    <tr>\n",
       "      <th>2019-06-01</th>\n",
       "      <td>11</td>\n",
       "      <td>10</td>\n",
       "    </tr>\n",
       "    <tr>\n",
       "      <th>2019-07-01</th>\n",
       "      <td>13</td>\n",
       "      <td>16</td>\n",
       "    </tr>\n",
       "    <tr>\n",
       "      <th>2019-08-01</th>\n",
       "      <td>15</td>\n",
       "      <td>20</td>\n",
       "    </tr>\n",
       "  </tbody>\n",
       "</table>\n",
       "</div>"
      ],
      "text/plain": [
       "             A   B\n",
       "2019-01-01   1   2\n",
       "2019-02-01   3   4\n",
       "2019-03-01   5   8\n",
       "2019-04-01   7   6\n",
       "2019-05-01   9  12\n",
       "2019-06-01  11  10\n",
       "2019-07-01  13  16\n",
       "2019-08-01  15  20"
      ]
     },
     "execution_count": 149,
     "metadata": {},
     "output_type": "execute_result"
    }
   ],
   "source": [
    "df.columns = ['A','B']\n",
    "df"
   ]
  },
  {
   "cell_type": "code",
   "execution_count": 150,
   "id": "2447a856",
   "metadata": {},
   "outputs": [],
   "source": [
    "from pandas_datareader import data"
   ]
  },
  {
   "cell_type": "code",
   "execution_count": 151,
   "id": "1b0522b9",
   "metadata": {},
   "outputs": [
    {
     "data": {
      "text/html": [
       "<div>\n",
       "<style scoped>\n",
       "    .dataframe tbody tr th:only-of-type {\n",
       "        vertical-align: middle;\n",
       "    }\n",
       "\n",
       "    .dataframe tbody tr th {\n",
       "        vertical-align: top;\n",
       "    }\n",
       "\n",
       "    .dataframe thead th {\n",
       "        text-align: right;\n",
       "    }\n",
       "</style>\n",
       "<table border=\"1\" class=\"dataframe\">\n",
       "  <thead>\n",
       "    <tr style=\"text-align: right;\">\n",
       "      <th></th>\n",
       "      <th>High</th>\n",
       "      <th>Low</th>\n",
       "      <th>Open</th>\n",
       "      <th>Close</th>\n",
       "      <th>Volume</th>\n",
       "      <th>Adj Close</th>\n",
       "    </tr>\n",
       "    <tr>\n",
       "      <th>Date</th>\n",
       "      <th></th>\n",
       "      <th></th>\n",
       "      <th></th>\n",
       "      <th></th>\n",
       "      <th></th>\n",
       "      <th></th>\n",
       "    </tr>\n",
       "  </thead>\n",
       "  <tbody>\n",
       "    <tr>\n",
       "      <th>2017-01-02</th>\n",
       "      <td>36240.0</td>\n",
       "      <td>35880.0</td>\n",
       "      <td>35980.0</td>\n",
       "      <td>36100.0</td>\n",
       "      <td>4650600.0</td>\n",
       "      <td>31618.542969</td>\n",
       "    </tr>\n",
       "    <tr>\n",
       "      <th>2017-01-03</th>\n",
       "      <td>36620.0</td>\n",
       "      <td>36020.0</td>\n",
       "      <td>36280.0</td>\n",
       "      <td>36480.0</td>\n",
       "      <td>7357650.0</td>\n",
       "      <td>31951.369141</td>\n",
       "    </tr>\n",
       "    <tr>\n",
       "      <th>2017-01-04</th>\n",
       "      <td>36520.0</td>\n",
       "      <td>36100.0</td>\n",
       "      <td>36500.0</td>\n",
       "      <td>36160.0</td>\n",
       "      <td>7971750.0</td>\n",
       "      <td>31671.093750</td>\n",
       "    </tr>\n",
       "    <tr>\n",
       "      <th>2017-01-05</th>\n",
       "      <td>36060.0</td>\n",
       "      <td>35540.0</td>\n",
       "      <td>36060.0</td>\n",
       "      <td>35560.0</td>\n",
       "      <td>10967450.0</td>\n",
       "      <td>31145.576172</td>\n",
       "    </tr>\n",
       "    <tr>\n",
       "      <th>2017-01-06</th>\n",
       "      <td>36440.0</td>\n",
       "      <td>36040.0</td>\n",
       "      <td>36180.0</td>\n",
       "      <td>36200.0</td>\n",
       "      <td>8880950.0</td>\n",
       "      <td>31706.121094</td>\n",
       "    </tr>\n",
       "    <tr>\n",
       "      <th>...</th>\n",
       "      <td>...</td>\n",
       "      <td>...</td>\n",
       "      <td>...</td>\n",
       "      <td>...</td>\n",
       "      <td>...</td>\n",
       "      <td>...</td>\n",
       "    </tr>\n",
       "    <tr>\n",
       "      <th>2021-10-01</th>\n",
       "      <td>74000.0</td>\n",
       "      <td>72900.0</td>\n",
       "      <td>73900.0</td>\n",
       "      <td>73200.0</td>\n",
       "      <td>15803395.0</td>\n",
       "      <td>73200.000000</td>\n",
       "    </tr>\n",
       "    <tr>\n",
       "      <th>2021-10-05</th>\n",
       "      <td>73000.0</td>\n",
       "      <td>71400.0</td>\n",
       "      <td>73000.0</td>\n",
       "      <td>72200.0</td>\n",
       "      <td>24013921.0</td>\n",
       "      <td>72200.000000</td>\n",
       "    </tr>\n",
       "    <tr>\n",
       "      <th>2021-10-06</th>\n",
       "      <td>72800.0</td>\n",
       "      <td>71200.0</td>\n",
       "      <td>72600.0</td>\n",
       "      <td>71300.0</td>\n",
       "      <td>18956962.0</td>\n",
       "      <td>71300.000000</td>\n",
       "    </tr>\n",
       "    <tr>\n",
       "      <th>2021-10-07</th>\n",
       "      <td>72100.0</td>\n",
       "      <td>71300.0</td>\n",
       "      <td>71600.0</td>\n",
       "      <td>71600.0</td>\n",
       "      <td>13683532.0</td>\n",
       "      <td>71600.000000</td>\n",
       "    </tr>\n",
       "    <tr>\n",
       "      <th>2021-10-08</th>\n",
       "      <td>72400.0</td>\n",
       "      <td>71500.0</td>\n",
       "      <td>72300.0</td>\n",
       "      <td>71500.0</td>\n",
       "      <td>14043287.0</td>\n",
       "      <td>71500.000000</td>\n",
       "    </tr>\n",
       "  </tbody>\n",
       "</table>\n",
       "<p>1164 rows × 6 columns</p>\n",
       "</div>"
      ],
      "text/plain": [
       "               High      Low     Open    Close      Volume     Adj Close\n",
       "Date                                                                    \n",
       "2017-01-02  36240.0  35880.0  35980.0  36100.0   4650600.0  31618.542969\n",
       "2017-01-03  36620.0  36020.0  36280.0  36480.0   7357650.0  31951.369141\n",
       "2017-01-04  36520.0  36100.0  36500.0  36160.0   7971750.0  31671.093750\n",
       "2017-01-05  36060.0  35540.0  36060.0  35560.0  10967450.0  31145.576172\n",
       "2017-01-06  36440.0  36040.0  36180.0  36200.0   8880950.0  31706.121094\n",
       "...             ...      ...      ...      ...         ...           ...\n",
       "2021-10-01  74000.0  72900.0  73900.0  73200.0  15803395.0  73200.000000\n",
       "2021-10-05  73000.0  71400.0  73000.0  72200.0  24013921.0  72200.000000\n",
       "2021-10-06  72800.0  71200.0  72600.0  71300.0  18956962.0  71300.000000\n",
       "2021-10-07  72100.0  71300.0  71600.0  71600.0  13683532.0  71600.000000\n",
       "2021-10-08  72400.0  71500.0  72300.0  71500.0  14043287.0  71500.000000\n",
       "\n",
       "[1164 rows x 6 columns]"
      ]
     },
     "execution_count": 151,
     "metadata": {},
     "output_type": "execute_result"
    }
   ],
   "source": [
    "samsungDF = data.get_data_yahoo('005930.KS','2017-01-01')\n",
    "samsungDF"
   ]
  },
  {
   "cell_type": "code",
   "execution_count": 152,
   "id": "aee58d71",
   "metadata": {},
   "outputs": [
    {
     "data": {
      "text/plain": [
       "DatetimeIndex(['2017-01-02', '2017-01-03', '2017-01-04', '2017-01-05',\n",
       "               '2017-01-06', '2017-01-09', '2017-01-10', '2017-01-11',\n",
       "               '2017-01-12', '2017-01-13',\n",
       "               ...\n",
       "               '2021-09-24', '2021-09-27', '2021-09-28', '2021-09-29',\n",
       "               '2021-09-30', '2021-10-01', '2021-10-05', '2021-10-06',\n",
       "               '2021-10-07', '2021-10-08'],\n",
       "              dtype='datetime64[ns]', name='Date', length=1164, freq=None)"
      ]
     },
     "execution_count": 152,
     "metadata": {},
     "output_type": "execute_result"
    }
   ],
   "source": [
    "samsungDF.index"
   ]
  },
  {
   "cell_type": "code",
   "execution_count": 153,
   "id": "ce7d0ee1",
   "metadata": {},
   "outputs": [
    {
     "data": {
      "image/png": "[encoded data removed]",
      "text/plain": [
       "<Figure size 576x396 with 1 Axes>"
      ]
     },
     "metadata": {},
     "output_type": "display_data"
    }
   ],
   "source": [
    "samsungDF.plot(y='Close')\n",
    "plt.show()"
   ]
  },
  {
   "cell_type": "code",
   "execution_count": 154,
   "id": "72991fc2",
   "metadata": {},
   "outputs": [
    {
     "data": {
      "text/html": [
       "<div>\n",
       "<style scoped>\n",
       "    .dataframe tbody tr th:only-of-type {\n",
       "        vertical-align: middle;\n",
       "    }\n",
       "\n",
       "    .dataframe tbody tr th {\n",
       "        vertical-align: top;\n",
       "    }\n",
       "\n",
       "    .dataframe thead th {\n",
       "        text-align: right;\n",
       "    }\n",
       "</style>\n",
       "<table border=\"1\" class=\"dataframe\">\n",
       "  <thead>\n",
       "    <tr style=\"text-align: right;\">\n",
       "      <th></th>\n",
       "      <th>High</th>\n",
       "      <th>Low</th>\n",
       "      <th>Open</th>\n",
       "      <th>Close</th>\n",
       "      <th>Volume</th>\n",
       "      <th>Adj Close</th>\n",
       "    </tr>\n",
       "    <tr>\n",
       "      <th>Date</th>\n",
       "      <th></th>\n",
       "      <th></th>\n",
       "      <th></th>\n",
       "      <th></th>\n",
       "      <th></th>\n",
       "      <th></th>\n",
       "    </tr>\n",
       "  </thead>\n",
       "  <tbody>\n",
       "    <tr>\n",
       "      <th>2017-01-02</th>\n",
       "      <td>36240.0</td>\n",
       "      <td>35880.0</td>\n",
       "      <td>35980.0</td>\n",
       "      <td>36100.0</td>\n",
       "      <td>4650600.0</td>\n",
       "      <td>31618.542969</td>\n",
       "    </tr>\n",
       "    <tr>\n",
       "      <th>2017-01-03</th>\n",
       "      <td>36620.0</td>\n",
       "      <td>36020.0</td>\n",
       "      <td>36280.0</td>\n",
       "      <td>36480.0</td>\n",
       "      <td>7357650.0</td>\n",
       "      <td>31951.369141</td>\n",
       "    </tr>\n",
       "    <tr>\n",
       "      <th>2017-01-04</th>\n",
       "      <td>36520.0</td>\n",
       "      <td>36100.0</td>\n",
       "      <td>36500.0</td>\n",
       "      <td>36160.0</td>\n",
       "      <td>7971750.0</td>\n",
       "      <td>31671.093750</td>\n",
       "    </tr>\n",
       "    <tr>\n",
       "      <th>2017-01-05</th>\n",
       "      <td>36060.0</td>\n",
       "      <td>35540.0</td>\n",
       "      <td>36060.0</td>\n",
       "      <td>35560.0</td>\n",
       "      <td>10967450.0</td>\n",
       "      <td>31145.576172</td>\n",
       "    </tr>\n",
       "    <tr>\n",
       "      <th>2017-01-06</th>\n",
       "      <td>36440.0</td>\n",
       "      <td>36040.0</td>\n",
       "      <td>36180.0</td>\n",
       "      <td>36200.0</td>\n",
       "      <td>8880950.0</td>\n",
       "      <td>31706.121094</td>\n",
       "    </tr>\n",
       "    <tr>\n",
       "      <th>...</th>\n",
       "      <td>...</td>\n",
       "      <td>...</td>\n",
       "      <td>...</td>\n",
       "      <td>...</td>\n",
       "      <td>...</td>\n",
       "      <td>...</td>\n",
       "    </tr>\n",
       "    <tr>\n",
       "      <th>2017-12-21</th>\n",
       "      <td>51060.0</td>\n",
       "      <td>49100.0</td>\n",
       "      <td>51000.0</td>\n",
       "      <td>49140.0</td>\n",
       "      <td>15624300.0</td>\n",
       "      <td>43429.234375</td>\n",
       "    </tr>\n",
       "    <tr>\n",
       "      <th>2017-12-22</th>\n",
       "      <td>49960.0</td>\n",
       "      <td>49240.0</td>\n",
       "      <td>49400.0</td>\n",
       "      <td>49700.0</td>\n",
       "      <td>11199650.0</td>\n",
       "      <td>43924.148438</td>\n",
       "    </tr>\n",
       "    <tr>\n",
       "      <th>2017-12-26</th>\n",
       "      <td>50100.0</td>\n",
       "      <td>48200.0</td>\n",
       "      <td>49760.0</td>\n",
       "      <td>48200.0</td>\n",
       "      <td>16039850.0</td>\n",
       "      <td>42598.468750</td>\n",
       "    </tr>\n",
       "    <tr>\n",
       "      <th>2017-12-27</th>\n",
       "      <td>49560.0</td>\n",
       "      <td>48460.0</td>\n",
       "      <td>48960.0</td>\n",
       "      <td>49360.0</td>\n",
       "      <td>10743600.0</td>\n",
       "      <td>44016.335938</td>\n",
       "    </tr>\n",
       "    <tr>\n",
       "      <th>2017-12-28</th>\n",
       "      <td>50960.0</td>\n",
       "      <td>49500.0</td>\n",
       "      <td>49560.0</td>\n",
       "      <td>50960.0</td>\n",
       "      <td>8985450.0</td>\n",
       "      <td>45443.128906</td>\n",
       "    </tr>\n",
       "  </tbody>\n",
       "</table>\n",
       "<p>239 rows × 6 columns</p>\n",
       "</div>"
      ],
      "text/plain": [
       "               High      Low     Open    Close      Volume     Adj Close\n",
       "Date                                                                    \n",
       "2017-01-02  36240.0  35880.0  35980.0  36100.0   4650600.0  31618.542969\n",
       "2017-01-03  36620.0  36020.0  36280.0  36480.0   7357650.0  31951.369141\n",
       "2017-01-04  36520.0  36100.0  36500.0  36160.0   7971750.0  31671.093750\n",
       "2017-01-05  36060.0  35540.0  36060.0  35560.0  10967450.0  31145.576172\n",
       "2017-01-06  36440.0  36040.0  36180.0  36200.0   8880950.0  31706.121094\n",
       "...             ...      ...      ...      ...         ...           ...\n",
       "2017-12-21  51060.0  49100.0  51000.0  49140.0  15624300.0  43429.234375\n",
       "2017-12-22  49960.0  49240.0  49400.0  49700.0  11199650.0  43924.148438\n",
       "2017-12-26  50100.0  48200.0  49760.0  48200.0  16039850.0  42598.468750\n",
       "2017-12-27  49560.0  48460.0  48960.0  49360.0  10743600.0  44016.335938\n",
       "2017-12-28  50960.0  49500.0  49560.0  50960.0   8985450.0  45443.128906\n",
       "\n",
       "[239 rows x 6 columns]"
      ]
     },
     "execution_count": 154,
     "metadata": {},
     "output_type": "execute_result"
    }
   ],
   "source": [
    "samsungDF.loc['2017']   # samsungDF['2017']"
   ]
  },
  {
   "cell_type": "code",
   "execution_count": 155,
   "id": "96f89907",
   "metadata": {},
   "outputs": [
    {
     "data": {
      "text/plain": [
       "Int64Index([2017, 2017, 2017, 2017, 2017, 2017, 2017, 2017, 2017, 2017,\n",
       "            ...\n",
       "            2021, 2021, 2021, 2021, 2021, 2021, 2021, 2021, 2021, 2021],\n",
       "           dtype='int64', name='Date', length=1164)"
      ]
     },
     "execution_count": 155,
     "metadata": {},
     "output_type": "execute_result"
    }
   ],
   "source": [
    "samsungDF.loc['2017-01']\n",
    "samsungDF.loc['2017':'2019']\n",
    "samsungDF.loc['2017-02':'2017-08']\n",
    "samsungDF.loc[:'2018']\n",
    "samsungDF.index.year"
   ]
  },
  {
   "cell_type": "code",
   "execution_count": 156,
   "id": "84c185e7",
   "metadata": {
    "scrolled": true
   },
   "outputs": [
    {
     "data": {
      "text/html": [
       "<div>\n",
       "<style scoped>\n",
       "    .dataframe tbody tr th:only-of-type {\n",
       "        vertical-align: middle;\n",
       "    }\n",
       "\n",
       "    .dataframe tbody tr th {\n",
       "        vertical-align: top;\n",
       "    }\n",
       "\n",
       "    .dataframe thead th {\n",
       "        text-align: right;\n",
       "    }\n",
       "</style>\n",
       "<table border=\"1\" class=\"dataframe\">\n",
       "  <thead>\n",
       "    <tr style=\"text-align: right;\">\n",
       "      <th></th>\n",
       "      <th></th>\n",
       "      <th>High</th>\n",
       "      <th>Low</th>\n",
       "      <th>Open</th>\n",
       "      <th>Close</th>\n",
       "      <th>Volume</th>\n",
       "      <th>Adj Close</th>\n",
       "    </tr>\n",
       "    <tr>\n",
       "      <th>Date</th>\n",
       "      <th>Date</th>\n",
       "      <th></th>\n",
       "      <th></th>\n",
       "      <th></th>\n",
       "      <th></th>\n",
       "      <th></th>\n",
       "      <th></th>\n",
       "    </tr>\n",
       "  </thead>\n",
       "  <tbody>\n",
       "    <tr>\n",
       "      <th rowspan=\"12\" valign=\"top\">2017</th>\n",
       "      <th>1</th>\n",
       "      <td>37826.000000</td>\n",
       "      <td>37079.000000</td>\n",
       "      <td>37340.000000</td>\n",
       "      <td>37486.000000</td>\n",
       "      <td>1.102530e+07</td>\n",
       "      <td>32832.483203</td>\n",
       "    </tr>\n",
       "    <tr>\n",
       "      <th>2</th>\n",
       "      <td>38912.000000</td>\n",
       "      <td>38276.000000</td>\n",
       "      <td>38578.000000</td>\n",
       "      <td>38571.000000</td>\n",
       "      <td>1.192612e+07</td>\n",
       "      <td>33782.790430</td>\n",
       "    </tr>\n",
       "    <tr>\n",
       "      <th>3</th>\n",
       "      <td>41447.272727</td>\n",
       "      <td>40740.909091</td>\n",
       "      <td>40890.000000</td>\n",
       "      <td>41166.363636</td>\n",
       "      <td>1.193883e+07</td>\n",
       "      <td>36067.099964</td>\n",
       "    </tr>\n",
       "    <tr>\n",
       "      <th>4</th>\n",
       "      <td>42261.000000</td>\n",
       "      <td>41549.000000</td>\n",
       "      <td>41910.000000</td>\n",
       "      <td>41959.000000</td>\n",
       "      <td>1.191310e+07</td>\n",
       "      <td>36873.766016</td>\n",
       "    </tr>\n",
       "    <tr>\n",
       "      <th>5</th>\n",
       "      <td>46040.000000</td>\n",
       "      <td>45188.421053</td>\n",
       "      <td>45590.526316</td>\n",
       "      <td>45550.526316</td>\n",
       "      <td>1.358061e+07</td>\n",
       "      <td>40030.014391</td>\n",
       "    </tr>\n",
       "    <tr>\n",
       "      <th>6</th>\n",
       "      <td>46869.523810</td>\n",
       "      <td>46216.190476</td>\n",
       "      <td>46460.952381</td>\n",
       "      <td>46574.285714</td>\n",
       "      <td>1.101470e+07</td>\n",
       "      <td>40941.462426</td>\n",
       "    </tr>\n",
       "    <tr>\n",
       "      <th>7</th>\n",
       "      <td>49745.714286</td>\n",
       "      <td>48939.047619</td>\n",
       "      <td>49334.285714</td>\n",
       "      <td>49393.333333</td>\n",
       "      <td>1.058194e+07</td>\n",
       "      <td>43534.866815</td>\n",
       "    </tr>\n",
       "    <tr>\n",
       "      <th>8</th>\n",
       "      <td>47323.636364</td>\n",
       "      <td>46495.454545</td>\n",
       "      <td>47096.363636</td>\n",
       "      <td>46858.181818</td>\n",
       "      <td>1.218491e+07</td>\n",
       "      <td>41300.407493</td>\n",
       "    </tr>\n",
       "    <tr>\n",
       "      <th>9</th>\n",
       "      <td>50516.000000</td>\n",
       "      <td>49716.000000</td>\n",
       "      <td>50023.000000</td>\n",
       "      <td>50214.000000</td>\n",
       "      <td>1.014741e+07</td>\n",
       "      <td>44270.471289</td>\n",
       "    </tr>\n",
       "    <tr>\n",
       "      <th>10</th>\n",
       "      <td>54593.750000</td>\n",
       "      <td>53442.500000</td>\n",
       "      <td>53997.500000</td>\n",
       "      <td>53961.250000</td>\n",
       "      <td>1.062720e+07</td>\n",
       "      <td>47690.181396</td>\n",
       "    </tr>\n",
       "    <tr>\n",
       "      <th>11</th>\n",
       "      <td>56005.000000</td>\n",
       "      <td>54952.000000</td>\n",
       "      <td>55669.000000</td>\n",
       "      <td>55366.000000</td>\n",
       "      <td>1.085584e+07</td>\n",
       "      <td>48931.680859</td>\n",
       "    </tr>\n",
       "    <tr>\n",
       "      <th>12</th>\n",
       "      <td>51328.888889</td>\n",
       "      <td>50258.888889</td>\n",
       "      <td>50790.000000</td>\n",
       "      <td>50733.333333</td>\n",
       "      <td>1.198282e+07</td>\n",
       "      <td>44881.732205</td>\n",
       "    </tr>\n",
       "    <tr>\n",
       "      <th rowspan=\"12\" valign=\"top\">2018</th>\n",
       "      <th>1</th>\n",
       "      <td>50688.571429</td>\n",
       "      <td>49367.619048</td>\n",
       "      <td>50108.571429</td>\n",
       "      <td>49933.333333</td>\n",
       "      <td>1.619405e+07</td>\n",
       "      <td>44527.604353</td>\n",
       "    </tr>\n",
       "    <tr>\n",
       "      <th>2</th>\n",
       "      <td>48043.333333</td>\n",
       "      <td>46793.333333</td>\n",
       "      <td>47413.333333</td>\n",
       "      <td>47248.888889</td>\n",
       "      <td>1.758808e+07</td>\n",
       "      <td>42133.771918</td>\n",
       "    </tr>\n",
       "    <tr>\n",
       "      <th>3</th>\n",
       "      <td>50141.904762</td>\n",
       "      <td>49035.238095</td>\n",
       "      <td>49611.428571</td>\n",
       "      <td>49683.809524</td>\n",
       "      <td>1.257690e+07</td>\n",
       "      <td>44335.646019</td>\n",
       "    </tr>\n",
       "    <tr>\n",
       "      <th>4</th>\n",
       "      <td>50606.666667</td>\n",
       "      <td>49520.000000</td>\n",
       "      <td>50019.047619</td>\n",
       "      <td>50163.809524</td>\n",
       "      <td>1.248579e+07</td>\n",
       "      <td>45060.672619</td>\n",
       "    </tr>\n",
       "    <tr>\n",
       "      <th>5</th>\n",
       "      <td>51835.000000</td>\n",
       "      <td>50647.500000</td>\n",
       "      <td>51407.500000</td>\n",
       "      <td>51102.500000</td>\n",
       "      <td>1.607491e+07</td>\n",
       "      <td>45903.871875</td>\n",
       "    </tr>\n",
       "    <tr>\n",
       "      <th>6</th>\n",
       "      <td>48905.263158</td>\n",
       "      <td>47907.894737</td>\n",
       "      <td>48526.315789</td>\n",
       "      <td>48371.052632</td>\n",
       "      <td>1.328151e+07</td>\n",
       "      <td>43483.152755</td>\n",
       "    </tr>\n",
       "    <tr>\n",
       "      <th>7</th>\n",
       "      <td>46704.545455</td>\n",
       "      <td>45890.909091</td>\n",
       "      <td>46320.454545</td>\n",
       "      <td>46220.454545</td>\n",
       "      <td>9.751796e+06</td>\n",
       "      <td>41827.271129</td>\n",
       "    </tr>\n",
       "    <tr>\n",
       "      <th>8</th>\n",
       "      <td>46229.545455</td>\n",
       "      <td>45431.818182</td>\n",
       "      <td>45763.636364</td>\n",
       "      <td>45947.727273</td>\n",
       "      <td>8.823126e+06</td>\n",
       "      <td>41580.468750</td>\n",
       "    </tr>\n",
       "    <tr>\n",
       "      <th>9</th>\n",
       "      <td>46476.470588</td>\n",
       "      <td>45620.588235</td>\n",
       "      <td>46076.470588</td>\n",
       "      <td>46064.705882</td>\n",
       "      <td>1.164615e+07</td>\n",
       "      <td>41723.958640</td>\n",
       "    </tr>\n",
       "    <tr>\n",
       "      <th>10</th>\n",
       "      <td>44169.047619</td>\n",
       "      <td>43133.333333</td>\n",
       "      <td>43614.285714</td>\n",
       "      <td>43600.000000</td>\n",
       "      <td>1.117359e+07</td>\n",
       "      <td>39752.773810</td>\n",
       "    </tr>\n",
       "    <tr>\n",
       "      <th>11</th>\n",
       "      <td>43807.142857</td>\n",
       "      <td>42857.142857</td>\n",
       "      <td>43366.666667</td>\n",
       "      <td>43390.476190</td>\n",
       "      <td>9.526635e+06</td>\n",
       "      <td>39561.738839</td>\n",
       "    </tr>\n",
       "    <tr>\n",
       "      <th>12</th>\n",
       "      <td>40260.526316</td>\n",
       "      <td>39515.789474</td>\n",
       "      <td>39813.157895</td>\n",
       "      <td>39826.315789</td>\n",
       "      <td>1.318458e+07</td>\n",
       "      <td>36346.480058</td>\n",
       "    </tr>\n",
       "    <tr>\n",
       "      <th rowspan=\"12\" valign=\"top\">2019</th>\n",
       "      <th>1</th>\n",
       "      <td>41902.272727</td>\n",
       "      <td>40970.454545</td>\n",
       "      <td>41415.909091</td>\n",
       "      <td>41600.000000</td>\n",
       "      <td>1.371745e+07</td>\n",
       "      <td>38282.631925</td>\n",
       "    </tr>\n",
       "    <tr>\n",
       "      <th>2</th>\n",
       "      <td>46779.411765</td>\n",
       "      <td>45861.764706</td>\n",
       "      <td>46370.588235</td>\n",
       "      <td>46308.823529</td>\n",
       "      <td>1.146607e+07</td>\n",
       "      <td>42615.951976</td>\n",
       "    </tr>\n",
       "    <tr>\n",
       "      <th>3</th>\n",
       "      <td>45010.000000</td>\n",
       "      <td>44072.500000</td>\n",
       "      <td>44542.500000</td>\n",
       "      <td>44560.000000</td>\n",
       "      <td>1.116303e+07</td>\n",
       "      <td>41038.987891</td>\n",
       "    </tr>\n",
       "    <tr>\n",
       "      <th>4</th>\n",
       "      <td>46490.909091</td>\n",
       "      <td>45611.363636</td>\n",
       "      <td>46088.636364</td>\n",
       "      <td>46061.363636</td>\n",
       "      <td>9.505156e+06</td>\n",
       "      <td>42721.709695</td>\n",
       "    </tr>\n",
       "    <tr>\n",
       "      <th>5</th>\n",
       "      <td>43573.809524</td>\n",
       "      <td>42602.380952</td>\n",
       "      <td>43123.809524</td>\n",
       "      <td>43023.809524</td>\n",
       "      <td>1.293262e+07</td>\n",
       "      <td>39904.393415</td>\n",
       "    </tr>\n",
       "    <tr>\n",
       "      <th>6</th>\n",
       "      <td>45057.894737</td>\n",
       "      <td>44357.894737</td>\n",
       "      <td>44663.157895</td>\n",
       "      <td>44865.789474</td>\n",
       "      <td>1.024570e+07</td>\n",
       "      <td>41648.452303</td>\n",
       "    </tr>\n",
       "    <tr>\n",
       "      <th>7</th>\n",
       "      <td>46619.565217</td>\n",
       "      <td>45865.217391</td>\n",
       "      <td>46276.086957</td>\n",
       "      <td>46215.217391</td>\n",
       "      <td>7.990078e+06</td>\n",
       "      <td>43199.033967</td>\n",
       "    </tr>\n",
       "    <tr>\n",
       "      <th>8</th>\n",
       "      <td>44254.761905</td>\n",
       "      <td>43483.333333</td>\n",
       "      <td>43871.428571</td>\n",
       "      <td>43840.476190</td>\n",
       "      <td>9.774299e+06</td>\n",
       "      <td>40979.278646</td>\n",
       "    </tr>\n",
       "    <tr>\n",
       "      <th>9</th>\n",
       "      <td>47526.315789</td>\n",
       "      <td>46750.000000</td>\n",
       "      <td>47089.473684</td>\n",
       "      <td>47294.736842</td>\n",
       "      <td>1.094544e+07</td>\n",
       "      <td>44242.845395</td>\n",
       "    </tr>\n",
       "    <tr>\n",
       "      <th>10</th>\n",
       "      <td>50376.190476</td>\n",
       "      <td>49516.666667</td>\n",
       "      <td>49933.333333</td>\n",
       "      <td>49880.952381</td>\n",
       "      <td>9.497698e+06</td>\n",
       "      <td>46963.438616</td>\n",
       "    </tr>\n",
       "    <tr>\n",
       "      <th>11</th>\n",
       "      <td>52655.000000</td>\n",
       "      <td>51730.000000</td>\n",
       "      <td>52270.000000</td>\n",
       "      <td>52195.000000</td>\n",
       "      <td>1.059733e+07</td>\n",
       "      <td>49142.138281</td>\n",
       "    </tr>\n",
       "    <tr>\n",
       "      <th>12</th>\n",
       "      <td>53982.500000</td>\n",
       "      <td>53002.500000</td>\n",
       "      <td>53495.000000</td>\n",
       "      <td>53507.500000</td>\n",
       "      <td>1.324037e+07</td>\n",
       "      <td>50411.868359</td>\n",
       "    </tr>\n",
       "    <tr>\n",
       "      <th rowspan=\"12\" valign=\"top\">2020</th>\n",
       "      <th>1</th>\n",
       "      <td>59475.000000</td>\n",
       "      <td>58195.000000</td>\n",
       "      <td>58870.000000</td>\n",
       "      <td>58815.000000</td>\n",
       "      <td>1.599458e+07</td>\n",
       "      <td>55731.052930</td>\n",
       "    </tr>\n",
       "    <tr>\n",
       "      <th>2</th>\n",
       "      <td>59675.000000</td>\n",
       "      <td>58330.000000</td>\n",
       "      <td>58890.000000</td>\n",
       "      <td>59085.000000</td>\n",
       "      <td>1.800036e+07</td>\n",
       "      <td>55986.896094</td>\n",
       "    </tr>\n",
       "    <tr>\n",
       "      <th>3</th>\n",
       "      <td>51440.909091</td>\n",
       "      <td>49325.000000</td>\n",
       "      <td>50381.818182</td>\n",
       "      <td>50331.818182</td>\n",
       "      <td>3.537865e+07</td>\n",
       "      <td>47723.085405</td>\n",
       "    </tr>\n",
       "    <tr>\n",
       "      <th>4</th>\n",
       "      <td>49567.500000</td>\n",
       "      <td>48445.000000</td>\n",
       "      <td>49127.500000</td>\n",
       "      <td>49045.000000</td>\n",
       "      <td>2.120510e+07</td>\n",
       "      <td>46816.465430</td>\n",
       "    </tr>\n",
       "    <tr>\n",
       "      <th>5</th>\n",
       "      <td>49476.315789</td>\n",
       "      <td>48626.315789</td>\n",
       "      <td>49071.052632</td>\n",
       "      <td>49100.000000</td>\n",
       "      <td>1.969814e+07</td>\n",
       "      <td>46868.968133</td>\n",
       "    </tr>\n",
       "    <tr>\n",
       "      <th>6</th>\n",
       "      <td>53768.181818</td>\n",
       "      <td>52218.181818</td>\n",
       "      <td>52950.000000</td>\n",
       "      <td>52986.363636</td>\n",
       "      <td>2.351997e+07</td>\n",
       "      <td>50609.257990</td>\n",
       "    </tr>\n",
       "    <tr>\n",
       "      <th>7</th>\n",
       "      <td>55356.521739</td>\n",
       "      <td>54256.521739</td>\n",
       "      <td>54930.434783</td>\n",
       "      <td>54726.086957</td>\n",
       "      <td>1.901368e+07</td>\n",
       "      <td>52588.686821</td>\n",
       "    </tr>\n",
       "    <tr>\n",
       "      <th>8</th>\n",
       "      <td>57865.000000</td>\n",
       "      <td>56600.000000</td>\n",
       "      <td>57360.000000</td>\n",
       "      <td>56980.000000</td>\n",
       "      <td>2.008490e+07</td>\n",
       "      <td>54754.570508</td>\n",
       "    </tr>\n",
       "    <tr>\n",
       "      <th>9</th>\n",
       "      <td>58761.904762</td>\n",
       "      <td>57709.523810</td>\n",
       "      <td>58176.190476</td>\n",
       "      <td>58176.190476</td>\n",
       "      <td>2.030011e+07</td>\n",
       "      <td>55936.808036</td>\n",
       "    </tr>\n",
       "    <tr>\n",
       "      <th>10</th>\n",
       "      <td>60242.105263</td>\n",
       "      <td>59263.157895</td>\n",
       "      <td>59836.842105</td>\n",
       "      <td>59736.842105</td>\n",
       "      <td>1.723988e+07</td>\n",
       "      <td>57756.865954</td>\n",
       "    </tr>\n",
       "    <tr>\n",
       "      <th>11</th>\n",
       "      <td>64019.047619</td>\n",
       "      <td>62476.190476</td>\n",
       "      <td>63090.476190</td>\n",
       "      <td>63419.047619</td>\n",
       "      <td>2.363959e+07</td>\n",
       "      <td>61317.024554</td>\n",
       "    </tr>\n",
       "    <tr>\n",
       "      <th>12</th>\n",
       "      <td>74233.333333</td>\n",
       "      <td>72600.000000</td>\n",
       "      <td>73066.666667</td>\n",
       "      <td>73619.047619</td>\n",
       "      <td>2.523804e+07</td>\n",
       "      <td>71363.527158</td>\n",
       "    </tr>\n",
       "    <tr>\n",
       "      <th rowspan=\"10\" valign=\"top\">2021</th>\n",
       "      <th>1</th>\n",
       "      <td>88410.000000</td>\n",
       "      <td>85190.000000</td>\n",
       "      <td>86365.000000</td>\n",
       "      <td>86565.000000</td>\n",
       "      <td>3.827356e+07</td>\n",
       "      <td>85802.157422</td>\n",
       "    </tr>\n",
       "    <tr>\n",
       "      <th>2</th>\n",
       "      <td>84177.777778</td>\n",
       "      <td>82400.000000</td>\n",
       "      <td>83272.222222</td>\n",
       "      <td>83127.777778</td>\n",
       "      <td>2.405296e+07</td>\n",
       "      <td>82395.224826</td>\n",
       "    </tr>\n",
       "    <tr>\n",
       "      <th>3</th>\n",
       "      <td>82763.636364</td>\n",
       "      <td>81609.090909</td>\n",
       "      <td>82250.000000</td>\n",
       "      <td>82072.727273</td>\n",
       "      <td>1.761874e+07</td>\n",
       "      <td>81382.226562</td>\n",
       "    </tr>\n",
       "    <tr>\n",
       "      <th>4</th>\n",
       "      <td>84150.000000</td>\n",
       "      <td>83095.454545</td>\n",
       "      <td>83786.363636</td>\n",
       "      <td>83586.363636</td>\n",
       "      <td>1.695174e+07</td>\n",
       "      <td>83217.930398</td>\n",
       "    </tr>\n",
       "    <tr>\n",
       "      <th>5</th>\n",
       "      <td>81105.263158</td>\n",
       "      <td>80015.789474</td>\n",
       "      <td>80547.368421</td>\n",
       "      <td>80521.052632</td>\n",
       "      <td>1.853742e+07</td>\n",
       "      <td>80166.129934</td>\n",
       "    </tr>\n",
       "    <tr>\n",
       "      <th>6</th>\n",
       "      <td>81590.909091</td>\n",
       "      <td>80740.909091</td>\n",
       "      <td>81195.454545</td>\n",
       "      <td>81104.545455</td>\n",
       "      <td>1.514088e+07</td>\n",
       "      <td>80779.448509</td>\n",
       "    </tr>\n",
       "    <tr>\n",
       "      <th>7</th>\n",
       "      <td>79963.636364</td>\n",
       "      <td>79250.000000</td>\n",
       "      <td>79645.454545</td>\n",
       "      <td>79577.272727</td>\n",
       "      <td>1.254028e+07</td>\n",
       "      <td>79577.272727</td>\n",
       "    </tr>\n",
       "    <tr>\n",
       "      <th>8</th>\n",
       "      <td>77914.285714</td>\n",
       "      <td>76428.571429</td>\n",
       "      <td>77204.761905</td>\n",
       "      <td>77023.809524</td>\n",
       "      <td>2.380298e+07</td>\n",
       "      <td>77023.809524</td>\n",
       "    </tr>\n",
       "    <tr>\n",
       "      <th>9</th>\n",
       "      <td>76884.210526</td>\n",
       "      <td>75800.000000</td>\n",
       "      <td>76526.315789</td>\n",
       "      <td>76305.263158</td>\n",
       "      <td>1.480175e+07</td>\n",
       "      <td>76305.263158</td>\n",
       "    </tr>\n",
       "    <tr>\n",
       "      <th>10</th>\n",
       "      <td>72860.000000</td>\n",
       "      <td>71660.000000</td>\n",
       "      <td>72680.000000</td>\n",
       "      <td>71960.000000</td>\n",
       "      <td>1.730022e+07</td>\n",
       "      <td>71960.000000</td>\n",
       "    </tr>\n",
       "  </tbody>\n",
       "</table>\n",
       "</div>"
      ],
      "text/plain": [
       "                   High           Low          Open         Close  \\\n",
       "Date Date                                                           \n",
       "2017 1     37826.000000  37079.000000  37340.000000  37486.000000   \n",
       "     2     38912.000000  38276.000000  38578.000000  38571.000000   \n",
       "     3     41447.272727  40740.909091  40890.000000  41166.363636   \n",
       "     4     42261.000000  41549.000000  41910.000000  41959.000000   \n",
       "     5     46040.000000  45188.421053  45590.526316  45550.526316   \n",
       "     6     46869.523810  46216.190476  46460.952381  46574.285714   \n",
       "     7     49745.714286  48939.047619  49334.285714  49393.333333   \n",
       "     8     47323.636364  46495.454545  47096.363636  46858.181818   \n",
       "     9     50516.000000  49716.000000  50023.000000  50214.000000   \n",
       "     10    54593.750000  53442.500000  53997.500000  53961.250000   \n",
       "     11    56005.000000  54952.000000  55669.000000  55366.000000   \n",
       "     12    51328.888889  50258.888889  50790.000000  50733.333333   \n",
       "2018 1     50688.571429  49367.619048  50108.571429  49933.333333   \n",
       "     2     48043.333333  46793.333333  47413.333333  47248.888889   \n",
       "     3     50141.904762  49035.238095  49611.428571  49683.809524   \n",
       "     4     50606.666667  49520.000000  50019.047619  50163.809524   \n",
       "     5     51835.000000  50647.500000  51407.500000  51102.500000   \n",
       "     6     48905.263158  47907.894737  48526.315789  48371.052632   \n",
       "     7     46704.545455  45890.909091  46320.454545  46220.454545   \n",
       "     8     46229.545455  45431.818182  45763.636364  45947.727273   \n",
       "     9     46476.470588  45620.588235  46076.470588  46064.705882   \n",
       "     10    44169.047619  43133.333333  43614.285714  43600.000000   \n",
       "     11    43807.142857  42857.142857  43366.666667  43390.476190   \n",
       "     12    40260.526316  39515.789474  39813.157895  39826.315789   \n",
       "2019 1     41902.272727  40970.454545  41415.909091  41600.000000   \n",
       "     2     46779.411765  45861.764706  46370.588235  46308.823529   \n",
       "     3     45010.000000  44072.500000  44542.500000  44560.000000   \n",
       "     4     46490.909091  45611.363636  46088.636364  46061.363636   \n",
       "     5     43573.809524  42602.380952  43123.809524  43023.809524   \n",
       "     6     45057.894737  44357.894737  44663.157895  44865.789474   \n",
       "     7     46619.565217  45865.217391  46276.086957  46215.217391   \n",
       "     8     44254.761905  43483.333333  43871.428571  43840.476190   \n",
       "     9     47526.315789  46750.000000  47089.473684  47294.736842   \n",
       "     10    50376.190476  49516.666667  49933.333333  49880.952381   \n",
       "     11    52655.000000  51730.000000  52270.000000  52195.000000   \n",
       "     12    53982.500000  53002.500000  53495.000000  53507.500000   \n",
       "2020 1     59475.000000  58195.000000  58870.000000  58815.000000   \n",
       "     2     59675.000000  58330.000000  58890.000000  59085.000000   \n",
       "     3     51440.909091  49325.000000  50381.818182  50331.818182   \n",
       "     4     49567.500000  48445.000000  49127.500000  49045.000000   \n",
       "     5     49476.315789  48626.315789  49071.052632  49100.000000   \n",
       "     6     53768.181818  52218.181818  52950.000000  52986.363636   \n",
       "     7     55356.521739  54256.521739  54930.434783  54726.086957   \n",
       "     8     57865.000000  56600.000000  57360.000000  56980.000000   \n",
       "     9     58761.904762  57709.523810  58176.190476  58176.190476   \n",
       "     10    60242.105263  59263.157895  59836.842105  59736.842105   \n",
       "     11    64019.047619  62476.190476  63090.476190  63419.047619   \n",
       "     12    74233.333333  72600.000000  73066.666667  73619.047619   \n",
       "2021 1     88410.000000  85190.000000  86365.000000  86565.000000   \n",
       "     2     84177.777778  82400.000000  83272.222222  83127.777778   \n",
       "     3     82763.636364  81609.090909  82250.000000  82072.727273   \n",
       "     4     84150.000000  83095.454545  83786.363636  83586.363636   \n",
       "     5     81105.263158  80015.789474  80547.368421  80521.052632   \n",
       "     6     81590.909091  80740.909091  81195.454545  81104.545455   \n",
       "     7     79963.636364  79250.000000  79645.454545  79577.272727   \n",
       "     8     77914.285714  76428.571429  77204.761905  77023.809524   \n",
       "     9     76884.210526  75800.000000  76526.315789  76305.263158   \n",
       "     10    72860.000000  71660.000000  72680.000000  71960.000000   \n",
       "\n",
       "                 Volume     Adj Close  \n",
       "Date Date                              \n",
       "2017 1     1.102530e+07  32832.483203  \n",
       "     2     1.192612e+07  33782.790430  \n",
       "     3     1.193883e+07  36067.099964  \n",
       "     4     1.191310e+07  36873.766016  \n",
       "     5     1.358061e+07  40030.014391  \n",
       "     6     1.101470e+07  40941.462426  \n",
       "     7     1.058194e+07  43534.866815  \n",
       "     8     1.218491e+07  41300.407493  \n",
       "     9     1.014741e+07  44270.471289  \n",
       "     10    1.062720e+07  47690.181396  \n",
       "     11    1.085584e+07  48931.680859  \n",
       "     12    1.198282e+07  44881.732205  \n",
       "2018 1     1.619405e+07  44527.604353  \n",
       "     2     1.758808e+07  42133.771918  \n",
       "     3     1.257690e+07  44335.646019  \n",
       "     4     1.248579e+07  45060.672619  \n",
       "     5     1.607491e+07  45903.871875  \n",
       "     6     1.328151e+07  43483.152755  \n",
       "     7     9.751796e+06  41827.271129  \n",
       "     8     8.823126e+06  41580.468750  \n",
       "     9     1.164615e+07  41723.958640  \n",
       "     10    1.117359e+07  39752.773810  \n",
       "     11    9.526635e+06  39561.738839  \n",
       "     12    1.318458e+07  36346.480058  \n",
       "2019 1     1.371745e+07  38282.631925  \n",
       "     2     1.146607e+07  42615.951976  \n",
       "     3     1.116303e+07  41038.987891  \n",
       "     4     9.505156e+06  42721.709695  \n",
       "     5     1.293262e+07  39904.393415  \n",
       "     6     1.024570e+07  41648.452303  \n",
       "     7     7.990078e+06  43199.033967  \n",
       "     8     9.774299e+06  40979.278646  \n",
       "     9     1.094544e+07  44242.845395  \n",
       "     10    9.497698e+06  46963.438616  \n",
       "     11    1.059733e+07  49142.138281  \n",
       "     12    1.324037e+07  50411.868359  \n",
       "2020 1     1.599458e+07  55731.052930  \n",
       "     2     1.800036e+07  55986.896094  \n",
       "     3     3.537865e+07  47723.085405  \n",
       "     4     2.120510e+07  46816.465430  \n",
       "     5     1.969814e+07  46868.968133  \n",
       "     6     2.351997e+07  50609.257990  \n",
       "     7     1.901368e+07  52588.686821  \n",
       "     8     2.008490e+07  54754.570508  \n",
       "     9     2.030011e+07  55936.808036  \n",
       "     10    1.723988e+07  57756.865954  \n",
       "     11    2.363959e+07  61317.024554  \n",
       "     12    2.523804e+07  71363.527158  \n",
       "2021 1     3.827356e+07  85802.157422  \n",
       "     2     2.405296e+07  82395.224826  \n",
       "     3     1.761874e+07  81382.226562  \n",
       "     4     1.695174e+07  83217.930398  \n",
       "     5     1.853742e+07  80166.129934  \n",
       "     6     1.514088e+07  80779.448509  \n",
       "     7     1.254028e+07  79577.272727  \n",
       "     8     2.380298e+07  77023.809524  \n",
       "     9     1.480175e+07  76305.263158  \n",
       "     10    1.730022e+07  71960.000000  "
      ]
     },
     "execution_count": 156,
     "metadata": {},
     "output_type": "execute_result"
    }
   ],
   "source": [
    "# samsungDF['year'] = samsungDF.index.year\n",
    "# samsungDF.groupby('year').mean()\n",
    "samsungDF.groupby( samsungDF.index.year ).mean()\n",
    "samsungDF.groupby( [samsungDF.index.year, samsungDF.index.month] ).mean()"
   ]
  },
  {
   "cell_type": "code",
   "execution_count": 157,
   "id": "1ba8bb48",
   "metadata": {},
   "outputs": [
    {
     "data": {
      "text/html": [
       "<div>\n",
       "<style scoped>\n",
       "    .dataframe tbody tr th:only-of-type {\n",
       "        vertical-align: middle;\n",
       "    }\n",
       "\n",
       "    .dataframe tbody tr th {\n",
       "        vertical-align: top;\n",
       "    }\n",
       "\n",
       "    .dataframe thead th {\n",
       "        text-align: right;\n",
       "    }\n",
       "</style>\n",
       "<table border=\"1\" class=\"dataframe\">\n",
       "  <thead>\n",
       "    <tr style=\"text-align: right;\">\n",
       "      <th></th>\n",
       "      <th>High</th>\n",
       "      <th>Low</th>\n",
       "      <th>Open</th>\n",
       "      <th>Close</th>\n",
       "      <th>Volume</th>\n",
       "      <th>Adj Close</th>\n",
       "    </tr>\n",
       "    <tr>\n",
       "      <th>Date</th>\n",
       "      <th></th>\n",
       "      <th></th>\n",
       "      <th></th>\n",
       "      <th></th>\n",
       "      <th></th>\n",
       "      <th></th>\n",
       "    </tr>\n",
       "  </thead>\n",
       "  <tbody>\n",
       "    <tr>\n",
       "      <th>2017-03-31</th>\n",
       "      <td>39461.290323</td>\n",
       "      <td>38764.516129</td>\n",
       "      <td>38999.032258</td>\n",
       "      <td>39141.935484</td>\n",
       "      <td>1.164004e+07</td>\n",
       "      <td>34286.801159</td>\n",
       "    </tr>\n",
       "    <tr>\n",
       "      <th>2017-06-30</th>\n",
       "      <td>45070.666667</td>\n",
       "      <td>44335.000000</td>\n",
       "      <td>44668.333333</td>\n",
       "      <td>44711.666667</td>\n",
       "      <td>1.212670e+07</td>\n",
       "      <td>39296.938411</td>\n",
       "    </tr>\n",
       "    <tr>\n",
       "      <th>2017-09-30</th>\n",
       "      <td>49144.444444</td>\n",
       "      <td>48332.380952</td>\n",
       "      <td>48771.428571</td>\n",
       "      <td>48768.571429</td>\n",
       "      <td>1.100376e+07</td>\n",
       "      <td>42988.104663</td>\n",
       "    </tr>\n",
       "    <tr>\n",
       "      <th>2017-12-31</th>\n",
       "      <td>54028.148148</td>\n",
       "      <td>52940.370370</td>\n",
       "      <td>53547.407407</td>\n",
       "      <td>53405.555556</td>\n",
       "      <td>1.116375e+07</td>\n",
       "      <td>47213.846282</td>\n",
       "    </tr>\n",
       "    <tr>\n",
       "      <th>2018-03-31</th>\n",
       "      <td>49703.666667</td>\n",
       "      <td>48479.000000</td>\n",
       "      <td>49126.000000</td>\n",
       "      <td>49040.666667</td>\n",
       "      <td>1.534626e+07</td>\n",
       "      <td>43742.269206</td>\n",
       "    </tr>\n",
       "    <tr>\n",
       "      <th>2018-06-30</th>\n",
       "      <td>50477.333333</td>\n",
       "      <td>49385.333333</td>\n",
       "      <td>50009.166667</td>\n",
       "      <td>49909.000000</td>\n",
       "      <td>1.393414e+07</td>\n",
       "      <td>44842.191081</td>\n",
       "    </tr>\n",
       "    <tr>\n",
       "      <th>2018-09-30</th>\n",
       "      <td>46469.672131</td>\n",
       "      <td>45650.000000</td>\n",
       "      <td>46051.639344</td>\n",
       "      <td>46078.688525</td>\n",
       "      <td>9.944799e+06</td>\n",
       "      <td>41709.468430</td>\n",
       "    </tr>\n",
       "    <tr>\n",
       "      <th>2018-12-31</th>\n",
       "      <td>42827.049180</td>\n",
       "      <td>41911.475410</td>\n",
       "      <td>42345.081967</td>\n",
       "      <td>42352.459016</td>\n",
       "      <td>1.123298e+07</td>\n",
       "      <td>38626.030930</td>\n",
       "    </tr>\n",
       "    <tr>\n",
       "      <th>2019-03-31</th>\n",
       "      <td>44361.016949</td>\n",
       "      <td>43431.355932</td>\n",
       "      <td>43903.389831</td>\n",
       "      <td>43960.169492</td>\n",
       "      <td>1.220284e+07</td>\n",
       "      <td>40465.573623</td>\n",
       "    </tr>\n",
       "    <tr>\n",
       "      <th>2019-06-30</th>\n",
       "      <td>45063.709677</td>\n",
       "      <td>44208.064516</td>\n",
       "      <td>44647.580645</td>\n",
       "      <td>44666.129032</td>\n",
       "      <td>1.089301e+07</td>\n",
       "      <td>41438.555948</td>\n",
       "    </tr>\n",
       "    <tr>\n",
       "      <th>2019-09-30</th>\n",
       "      <td>46104.761905</td>\n",
       "      <td>45338.095238</td>\n",
       "      <td>45719.841270</td>\n",
       "      <td>45749.206349</td>\n",
       "      <td>9.476117e+06</td>\n",
       "      <td>42773.915799</td>\n",
       "    </tr>\n",
       "    <tr>\n",
       "      <th>2019-12-31</th>\n",
       "      <td>52305.737705</td>\n",
       "      <td>51385.245902</td>\n",
       "      <td>51867.213115</td>\n",
       "      <td>51828.688525</td>\n",
       "      <td>1.108534e+07</td>\n",
       "      <td>48808.399078</td>\n",
       "    </tr>\n",
       "    <tr>\n",
       "      <th>2020-03-31</th>\n",
       "      <td>56688.709677</td>\n",
       "      <td>55091.129032</td>\n",
       "      <td>55864.516129</td>\n",
       "      <td>55891.935484</td>\n",
       "      <td>2.351983e+07</td>\n",
       "      <td>52972.046119</td>\n",
       "    </tr>\n",
       "    <tr>\n",
       "      <th>2020-06-30</th>\n",
       "      <td>51054.098361</td>\n",
       "      <td>49862.295082</td>\n",
       "      <td>50488.524590</td>\n",
       "      <td>50483.606557</td>\n",
       "      <td>2.157059e+07</td>\n",
       "      <td>48200.711130</td>\n",
       "    </tr>\n",
       "    <tr>\n",
       "      <th>2020-09-30</th>\n",
       "      <td>57257.812500</td>\n",
       "      <td>56121.875000</td>\n",
       "      <td>56754.687500</td>\n",
       "      <td>56562.500000</td>\n",
       "      <td>1.977054e+07</td>\n",
       "      <td>54364.127747</td>\n",
       "    </tr>\n",
       "    <tr>\n",
       "      <th>2020-12-31</th>\n",
       "      <td>66359.016393</td>\n",
       "      <td>64960.655738</td>\n",
       "      <td>65511.475410</td>\n",
       "      <td>65783.606557</td>\n",
       "      <td>2.219652e+07</td>\n",
       "      <td>63666.754739</td>\n",
       "    </tr>\n",
       "    <tr>\n",
       "      <th>2021-03-31</th>\n",
       "      <td>85070.000000</td>\n",
       "      <td>83040.000000</td>\n",
       "      <td>83928.333333</td>\n",
       "      <td>83886.666667</td>\n",
       "      <td>2.643395e+07</td>\n",
       "      <td>83159.436328</td>\n",
       "    </tr>\n",
       "    <tr>\n",
       "      <th>2021-06-30</th>\n",
       "      <td>82338.095238</td>\n",
       "      <td>81344.444444</td>\n",
       "      <td>81904.761905</td>\n",
       "      <td>81795.238095</td>\n",
       "      <td>1.679760e+07</td>\n",
       "      <td>81446.012773</td>\n",
       "    </tr>\n",
       "    <tr>\n",
       "      <th>2021-09-30</th>\n",
       "      <td>78325.806452</td>\n",
       "      <td>77237.096774</td>\n",
       "      <td>77862.903226</td>\n",
       "      <td>77709.677419</td>\n",
       "      <td>1.704810e+07</td>\n",
       "      <td>77709.677419</td>\n",
       "    </tr>\n",
       "    <tr>\n",
       "      <th>2021-12-31</th>\n",
       "      <td>72860.000000</td>\n",
       "      <td>71660.000000</td>\n",
       "      <td>72680.000000</td>\n",
       "      <td>71960.000000</td>\n",
       "      <td>1.730022e+07</td>\n",
       "      <td>71960.000000</td>\n",
       "    </tr>\n",
       "  </tbody>\n",
       "</table>\n",
       "</div>"
      ],
      "text/plain": [
       "                    High           Low          Open         Close  \\\n",
       "Date                                                                 \n",
       "2017-03-31  39461.290323  38764.516129  38999.032258  39141.935484   \n",
       "2017-06-30  45070.666667  44335.000000  44668.333333  44711.666667   \n",
       "2017-09-30  49144.444444  48332.380952  48771.428571  48768.571429   \n",
       "2017-12-31  54028.148148  52940.370370  53547.407407  53405.555556   \n",
       "2018-03-31  49703.666667  48479.000000  49126.000000  49040.666667   \n",
       "2018-06-30  50477.333333  49385.333333  50009.166667  49909.000000   \n",
       "2018-09-30  46469.672131  45650.000000  46051.639344  46078.688525   \n",
       "2018-12-31  42827.049180  41911.475410  42345.081967  42352.459016   \n",
       "2019-03-31  44361.016949  43431.355932  43903.389831  43960.169492   \n",
       "2019-06-30  45063.709677  44208.064516  44647.580645  44666.129032   \n",
       "2019-09-30  46104.761905  45338.095238  45719.841270  45749.206349   \n",
       "2019-12-31  52305.737705  51385.245902  51867.213115  51828.688525   \n",
       "2020-03-31  56688.709677  55091.129032  55864.516129  55891.935484   \n",
       "2020-06-30  51054.098361  49862.295082  50488.524590  50483.606557   \n",
       "2020-09-30  57257.812500  56121.875000  56754.687500  56562.500000   \n",
       "2020-12-31  66359.016393  64960.655738  65511.475410  65783.606557   \n",
       "2021-03-31  85070.000000  83040.000000  83928.333333  83886.666667   \n",
       "2021-06-30  82338.095238  81344.444444  81904.761905  81795.238095   \n",
       "2021-09-30  78325.806452  77237.096774  77862.903226  77709.677419   \n",
       "2021-12-31  72860.000000  71660.000000  72680.000000  71960.000000   \n",
       "\n",
       "                  Volume     Adj Close  \n",
       "Date                                    \n",
       "2017-03-31  1.164004e+07  34286.801159  \n",
       "2017-06-30  1.212670e+07  39296.938411  \n",
       "2017-09-30  1.100376e+07  42988.104663  \n",
       "2017-12-31  1.116375e+07  47213.846282  \n",
       "2018-03-31  1.534626e+07  43742.269206  \n",
       "2018-06-30  1.393414e+07  44842.191081  \n",
       "2018-09-30  9.944799e+06  41709.468430  \n",
       "2018-12-31  1.123298e+07  38626.030930  \n",
       "2019-03-31  1.220284e+07  40465.573623  \n",
       "2019-06-30  1.089301e+07  41438.555948  \n",
       "2019-09-30  9.476117e+06  42773.915799  \n",
       "2019-12-31  1.108534e+07  48808.399078  \n",
       "2020-03-31  2.351983e+07  52972.046119  \n",
       "2020-06-30  2.157059e+07  48200.711130  \n",
       "2020-09-30  1.977054e+07  54364.127747  \n",
       "2020-12-31  2.219652e+07  63666.754739  \n",
       "2021-03-31  2.643395e+07  83159.436328  \n",
       "2021-06-30  1.679760e+07  81446.012773  \n",
       "2021-09-30  1.704810e+07  77709.677419  \n",
       "2021-12-31  1.730022e+07  71960.000000  "
      ]
     },
     "execution_count": 157,
     "metadata": {},
     "output_type": "execute_result"
    }
   ],
   "source": [
    "# resample: 시계열데이터 집계전용 함수\n",
    "# http://pandas.pydata.org/pandas-docs/stable/user_guide/timeseries.html\n",
    "samsungDF.resample('Y').mean()\n",
    "samsungDF.resample('M').mean()\n",
    "samsungDF.resample('W').mean()\n",
    "samsungDF.resample('W-MON').mean()\n",
    "samsungDF.resample('Q').mean()"
   ]
  },
  {
   "cell_type": "code",
   "execution_count": 158,
   "id": "fc8789ca",
   "metadata": {},
   "outputs": [
    {
     "data": {
      "text/html": [
       "<div>\n",
       "<style scoped>\n",
       "    .dataframe tbody tr th:only-of-type {\n",
       "        vertical-align: middle;\n",
       "    }\n",
       "\n",
       "    .dataframe tbody tr th {\n",
       "        vertical-align: top;\n",
       "    }\n",
       "\n",
       "    .dataframe thead th {\n",
       "        text-align: right;\n",
       "    }\n",
       "</style>\n",
       "<table border=\"1\" class=\"dataframe\">\n",
       "  <thead>\n",
       "    <tr style=\"text-align: right;\">\n",
       "      <th></th>\n",
       "      <th>High</th>\n",
       "      <th>Low</th>\n",
       "      <th>Open</th>\n",
       "      <th>Close</th>\n",
       "      <th>Volume</th>\n",
       "      <th>Adj Close</th>\n",
       "    </tr>\n",
       "    <tr>\n",
       "      <th>Date</th>\n",
       "      <th></th>\n",
       "      <th></th>\n",
       "      <th></th>\n",
       "      <th></th>\n",
       "      <th></th>\n",
       "      <th></th>\n",
       "    </tr>\n",
       "  </thead>\n",
       "  <tbody>\n",
       "    <tr>\n",
       "      <th>2017-01-02</th>\n",
       "      <td>NaN</td>\n",
       "      <td>NaN</td>\n",
       "      <td>NaN</td>\n",
       "      <td>NaN</td>\n",
       "      <td>NaN</td>\n",
       "      <td>NaN</td>\n",
       "    </tr>\n",
       "    <tr>\n",
       "      <th>2017-01-03</th>\n",
       "      <td>NaN</td>\n",
       "      <td>NaN</td>\n",
       "      <td>NaN</td>\n",
       "      <td>NaN</td>\n",
       "      <td>NaN</td>\n",
       "      <td>NaN</td>\n",
       "    </tr>\n",
       "    <tr>\n",
       "      <th>2017-01-04</th>\n",
       "      <td>NaN</td>\n",
       "      <td>NaN</td>\n",
       "      <td>NaN</td>\n",
       "      <td>NaN</td>\n",
       "      <td>NaN</td>\n",
       "      <td>NaN</td>\n",
       "    </tr>\n",
       "    <tr>\n",
       "      <th>2017-01-05</th>\n",
       "      <td>NaN</td>\n",
       "      <td>NaN</td>\n",
       "      <td>NaN</td>\n",
       "      <td>NaN</td>\n",
       "      <td>NaN</td>\n",
       "      <td>NaN</td>\n",
       "    </tr>\n",
       "    <tr>\n",
       "      <th>2017-01-06</th>\n",
       "      <td>NaN</td>\n",
       "      <td>NaN</td>\n",
       "      <td>NaN</td>\n",
       "      <td>NaN</td>\n",
       "      <td>NaN</td>\n",
       "      <td>NaN</td>\n",
       "    </tr>\n",
       "    <tr>\n",
       "      <th>...</th>\n",
       "      <td>...</td>\n",
       "      <td>...</td>\n",
       "      <td>...</td>\n",
       "      <td>...</td>\n",
       "      <td>...</td>\n",
       "      <td>...</td>\n",
       "    </tr>\n",
       "    <tr>\n",
       "      <th>2021-10-01</th>\n",
       "      <td>76740.0</td>\n",
       "      <td>75655.0</td>\n",
       "      <td>76395.0</td>\n",
       "      <td>76150.0</td>\n",
       "      <td>14851836.60</td>\n",
       "      <td>76150.0</td>\n",
       "    </tr>\n",
       "    <tr>\n",
       "      <th>2021-10-05</th>\n",
       "      <td>76535.0</td>\n",
       "      <td>75430.0</td>\n",
       "      <td>76210.0</td>\n",
       "      <td>75920.0</td>\n",
       "      <td>15246793.90</td>\n",
       "      <td>75920.0</td>\n",
       "    </tr>\n",
       "    <tr>\n",
       "      <th>2021-10-06</th>\n",
       "      <td>76335.0</td>\n",
       "      <td>75205.0</td>\n",
       "      <td>76000.0</td>\n",
       "      <td>75685.0</td>\n",
       "      <td>15427267.70</td>\n",
       "      <td>75685.0</td>\n",
       "    </tr>\n",
       "    <tr>\n",
       "      <th>2021-10-07</th>\n",
       "      <td>76105.0</td>\n",
       "      <td>74970.0</td>\n",
       "      <td>75760.0</td>\n",
       "      <td>75435.0</td>\n",
       "      <td>15506623.35</td>\n",
       "      <td>75435.0</td>\n",
       "    </tr>\n",
       "    <tr>\n",
       "      <th>2021-10-08</th>\n",
       "      <td>75845.0</td>\n",
       "      <td>74715.0</td>\n",
       "      <td>75535.0</td>\n",
       "      <td>75145.0</td>\n",
       "      <td>15565728.70</td>\n",
       "      <td>75145.0</td>\n",
       "    </tr>\n",
       "  </tbody>\n",
       "</table>\n",
       "<p>1164 rows × 6 columns</p>\n",
       "</div>"
      ],
      "text/plain": [
       "               High      Low     Open    Close       Volume  Adj Close\n",
       "Date                                                                  \n",
       "2017-01-02      NaN      NaN      NaN      NaN          NaN        NaN\n",
       "2017-01-03      NaN      NaN      NaN      NaN          NaN        NaN\n",
       "2017-01-04      NaN      NaN      NaN      NaN          NaN        NaN\n",
       "2017-01-05      NaN      NaN      NaN      NaN          NaN        NaN\n",
       "2017-01-06      NaN      NaN      NaN      NaN          NaN        NaN\n",
       "...             ...      ...      ...      ...          ...        ...\n",
       "2021-10-01  76740.0  75655.0  76395.0  76150.0  14851836.60    76150.0\n",
       "2021-10-05  76535.0  75430.0  76210.0  75920.0  15246793.90    75920.0\n",
       "2021-10-06  76335.0  75205.0  76000.0  75685.0  15427267.70    75685.0\n",
       "2021-10-07  76105.0  74970.0  75760.0  75435.0  15506623.35    75435.0\n",
       "2021-10-08  75845.0  74715.0  75535.0  75145.0  15565728.70    75145.0\n",
       "\n",
       "[1164 rows x 6 columns]"
      ]
     },
     "execution_count": 158,
     "metadata": {},
     "output_type": "execute_result"
    }
   ],
   "source": [
    "# 이동 평균\n",
    "df.columns = ['A','B']\n",
    "df.rolling(window=2).mean()   \n",
    "df.rolling(window=3).mean()\n",
    "samsungDF.rolling(window=20).mean()"
   ]
  },
  {
   "cell_type": "code",
   "execution_count": 159,
   "id": "e1aeb578",
   "metadata": {},
   "outputs": [
    {
     "data": {
      "image/png": "[encoded data removed]",
      "text/plain": [
       "<Figure size 576x396 with 1 Axes>"
      ]
     },
     "metadata": {},
     "output_type": "display_data"
    }
   ],
   "source": [
    "m20 = samsungDF.rolling(window=20).mean()['Close']\n",
    "plt.plot(samsungDF.index, samsungDF['Close'])\n",
    "plt.plot(samsungDF.index, m20)\n",
    "plt.legend(['종가','20일'])\n",
    "plt.show()"
   ]
  },
  {
   "cell_type": "code",
   "execution_count": 160,
   "id": "d77eabdc",
   "metadata": {},
   "outputs": [],
   "source": [
    "# 1. 2019년도 2월~ 10월 까지 개장가 종가 데이터를 출력하시요.\n",
    "# 2. 2020년도 주별 집계현황을 구하시요.\n",
    "# 3. 2020년 이후 년및 월별 집계현황을 구하시요.\n",
    "# 4. 2021년도 분기별 집계현활을 구하시요\n",
    "# 5. 2020년도 이동평균(window=10) 을 그래프로 그리시요"
   ]
  },
  {
   "cell_type": "code",
   "execution_count": 161,
   "id": "6876b862",
   "metadata": {
    "scrolled": true
   },
   "outputs": [
    {
     "data": {
      "text/html": [
       "<div>\n",
       "<style scoped>\n",
       "    .dataframe tbody tr th:only-of-type {\n",
       "        vertical-align: middle;\n",
       "    }\n",
       "\n",
       "    .dataframe tbody tr th {\n",
       "        vertical-align: top;\n",
       "    }\n",
       "\n",
       "    .dataframe thead th {\n",
       "        text-align: right;\n",
       "    }\n",
       "</style>\n",
       "<table border=\"1\" class=\"dataframe\">\n",
       "  <thead>\n",
       "    <tr style=\"text-align: right;\">\n",
       "      <th></th>\n",
       "      <th>Open</th>\n",
       "      <th>Close</th>\n",
       "    </tr>\n",
       "    <tr>\n",
       "      <th>Date</th>\n",
       "      <th></th>\n",
       "      <th></th>\n",
       "    </tr>\n",
       "  </thead>\n",
       "  <tbody>\n",
       "    <tr>\n",
       "      <th>2019-02-01</th>\n",
       "      <td>46650.0</td>\n",
       "      <td>46350.0</td>\n",
       "    </tr>\n",
       "    <tr>\n",
       "      <th>2019-02-07</th>\n",
       "      <td>46800.0</td>\n",
       "      <td>46200.0</td>\n",
       "    </tr>\n",
       "    <tr>\n",
       "      <th>2019-02-08</th>\n",
       "      <td>45700.0</td>\n",
       "      <td>44800.0</td>\n",
       "    </tr>\n",
       "    <tr>\n",
       "      <th>2019-02-11</th>\n",
       "      <td>44500.0</td>\n",
       "      <td>45000.0</td>\n",
       "    </tr>\n",
       "    <tr>\n",
       "      <th>2019-02-12</th>\n",
       "      <td>44650.0</td>\n",
       "      <td>46050.0</td>\n",
       "    </tr>\n",
       "    <tr>\n",
       "      <th>...</th>\n",
       "      <td>...</td>\n",
       "      <td>...</td>\n",
       "    </tr>\n",
       "    <tr>\n",
       "      <th>2019-10-25</th>\n",
       "      <td>50800.0</td>\n",
       "      <td>50900.0</td>\n",
       "    </tr>\n",
       "    <tr>\n",
       "      <th>2019-10-28</th>\n",
       "      <td>50700.0</td>\n",
       "      <td>51300.0</td>\n",
       "    </tr>\n",
       "    <tr>\n",
       "      <th>2019-10-29</th>\n",
       "      <td>51400.0</td>\n",
       "      <td>51100.0</td>\n",
       "    </tr>\n",
       "    <tr>\n",
       "      <th>2019-10-30</th>\n",
       "      <td>50700.0</td>\n",
       "      <td>50400.0</td>\n",
       "    </tr>\n",
       "    <tr>\n",
       "      <th>2019-10-31</th>\n",
       "      <td>51000.0</td>\n",
       "      <td>50400.0</td>\n",
       "    </tr>\n",
       "  </tbody>\n",
       "</table>\n",
       "<p>183 rows × 2 columns</p>\n",
       "</div>"
      ],
      "text/plain": [
       "               Open    Close\n",
       "Date                        \n",
       "2019-02-01  46650.0  46350.0\n",
       "2019-02-07  46800.0  46200.0\n",
       "2019-02-08  45700.0  44800.0\n",
       "2019-02-11  44500.0  45000.0\n",
       "2019-02-12  44650.0  46050.0\n",
       "...             ...      ...\n",
       "2019-10-25  50800.0  50900.0\n",
       "2019-10-28  50700.0  51300.0\n",
       "2019-10-29  51400.0  51100.0\n",
       "2019-10-30  50700.0  50400.0\n",
       "2019-10-31  51000.0  50400.0\n",
       "\n",
       "[183 rows x 2 columns]"
      ]
     },
     "execution_count": 161,
     "metadata": {},
     "output_type": "execute_result"
    }
   ],
   "source": [
    "# 1. 2019년도 2월~ 10월 까지 개장가 종가 데이터를 출력하시요.\n",
    "\n",
    "samsungDF.loc['2019-2':'2019-10',['Open','Close']]"
   ]
  },
  {
   "cell_type": "code",
   "execution_count": 162,
   "id": "2bcc2b47",
   "metadata": {
    "scrolled": true
   },
   "outputs": [
    {
     "data": {
      "text/html": [
       "<div>\n",
       "<style scoped>\n",
       "    .dataframe tbody tr th:only-of-type {\n",
       "        vertical-align: middle;\n",
       "    }\n",
       "\n",
       "    .dataframe tbody tr th {\n",
       "        vertical-align: top;\n",
       "    }\n",
       "\n",
       "    .dataframe thead th {\n",
       "        text-align: right;\n",
       "    }\n",
       "</style>\n",
       "<table border=\"1\" class=\"dataframe\">\n",
       "  <thead>\n",
       "    <tr style=\"text-align: right;\">\n",
       "      <th></th>\n",
       "      <th>High</th>\n",
       "      <th>Low</th>\n",
       "      <th>Open</th>\n",
       "      <th>Close</th>\n",
       "      <th>Volume</th>\n",
       "      <th>Adj Close</th>\n",
       "    </tr>\n",
       "    <tr>\n",
       "      <th>Date</th>\n",
       "      <th></th>\n",
       "      <th></th>\n",
       "      <th></th>\n",
       "      <th></th>\n",
       "      <th></th>\n",
       "      <th></th>\n",
       "    </tr>\n",
       "  </thead>\n",
       "  <tbody>\n",
       "    <tr>\n",
       "      <th>2020-01-05</th>\n",
       "      <td>56300.0</td>\n",
       "      <td>54950.000000</td>\n",
       "      <td>55750.0</td>\n",
       "      <td>55350.000000</td>\n",
       "      <td>14207741.50</td>\n",
       "      <td>52447.740234</td>\n",
       "    </tr>\n",
       "    <tr>\n",
       "      <th>2020-01-12</th>\n",
       "      <td>57540.0</td>\n",
       "      <td>56360.000000</td>\n",
       "      <td>56800.0</td>\n",
       "      <td>57240.000000</td>\n",
       "      <td>16778529.80</td>\n",
       "      <td>54238.637500</td>\n",
       "    </tr>\n",
       "    <tr>\n",
       "      <th>2020-01-19</th>\n",
       "      <td>60660.0</td>\n",
       "      <td>59580.000000</td>\n",
       "      <td>60100.0</td>\n",
       "      <td>60200.000000</td>\n",
       "      <td>14594759.40</td>\n",
       "      <td>57043.431250</td>\n",
       "    </tr>\n",
       "    <tr>\n",
       "      <th>2020-01-26</th>\n",
       "      <td>62400.0</td>\n",
       "      <td>61000.000000</td>\n",
       "      <td>61575.0</td>\n",
       "      <td>61725.000000</td>\n",
       "      <td>13481917.00</td>\n",
       "      <td>58488.468750</td>\n",
       "    </tr>\n",
       "    <tr>\n",
       "      <th>2020-02-02</th>\n",
       "      <td>59075.0</td>\n",
       "      <td>57575.000000</td>\n",
       "      <td>58775.0</td>\n",
       "      <td>57875.000000</td>\n",
       "      <td>20170509.75</td>\n",
       "      <td>54840.339844</td>\n",
       "    </tr>\n",
       "    <tr>\n",
       "      <th>2020-02-09</th>\n",
       "      <td>59780.0</td>\n",
       "      <td>58060.000000</td>\n",
       "      <td>58760.0</td>\n",
       "      <td>59420.000000</td>\n",
       "      <td>19240653.80</td>\n",
       "      <td>56304.330469</td>\n",
       "    </tr>\n",
       "    <tr>\n",
       "      <th>2020-02-16</th>\n",
       "      <td>60940.0</td>\n",
       "      <td>59840.000000</td>\n",
       "      <td>60280.0</td>\n",
       "      <td>60520.000000</td>\n",
       "      <td>13761680.20</td>\n",
       "      <td>57346.653125</td>\n",
       "    </tr>\n",
       "    <tr>\n",
       "      <th>2020-02-23</th>\n",
       "      <td>60880.0</td>\n",
       "      <td>59680.000000</td>\n",
       "      <td>60340.0</td>\n",
       "      <td>60140.000000</td>\n",
       "      <td>13347135.00</td>\n",
       "      <td>56986.577344</td>\n",
       "    </tr>\n",
       "    <tr>\n",
       "      <th>2020-03-01</th>\n",
       "      <td>57100.0</td>\n",
       "      <td>55740.000000</td>\n",
       "      <td>56180.0</td>\n",
       "      <td>56260.000000</td>\n",
       "      <td>25651963.00</td>\n",
       "      <td>53310.023438</td>\n",
       "    </tr>\n",
       "    <tr>\n",
       "      <th>2020-03-08</th>\n",
       "      <td>57040.0</td>\n",
       "      <td>55240.000000</td>\n",
       "      <td>55980.0</td>\n",
       "      <td>56420.000000</td>\n",
       "      <td>25183016.20</td>\n",
       "      <td>53461.631250</td>\n",
       "    </tr>\n",
       "    <tr>\n",
       "      <th>2020-03-15</th>\n",
       "      <td>53900.0</td>\n",
       "      <td>52230.000000</td>\n",
       "      <td>52830.0</td>\n",
       "      <td>53050.000000</td>\n",
       "      <td>27455353.60</td>\n",
       "      <td>50268.338281</td>\n",
       "    </tr>\n",
       "    <tr>\n",
       "      <th>2020-03-22</th>\n",
       "      <td>48210.0</td>\n",
       "      <td>45390.000000</td>\n",
       "      <td>47060.0</td>\n",
       "      <td>46030.000000</td>\n",
       "      <td>46273223.20</td>\n",
       "      <td>43616.431250</td>\n",
       "    </tr>\n",
       "    <tr>\n",
       "      <th>2020-03-29</th>\n",
       "      <td>47820.0</td>\n",
       "      <td>45430.000000</td>\n",
       "      <td>46800.0</td>\n",
       "      <td>46840.000000</td>\n",
       "      <td>45264152.60</td>\n",
       "      <td>44383.960156</td>\n",
       "    </tr>\n",
       "    <tr>\n",
       "      <th>2020-04-05</th>\n",
       "      <td>47840.0</td>\n",
       "      <td>46280.000000</td>\n",
       "      <td>47220.0</td>\n",
       "      <td>47040.000000</td>\n",
       "      <td>25823389.20</td>\n",
       "      <td>44902.571094</td>\n",
       "    </tr>\n",
       "    <tr>\n",
       "      <th>2020-04-12</th>\n",
       "      <td>49560.0</td>\n",
       "      <td>48440.000000</td>\n",
       "      <td>49090.0</td>\n",
       "      <td>49050.000000</td>\n",
       "      <td>24079448.60</td>\n",
       "      <td>46821.237500</td>\n",
       "    </tr>\n",
       "    <tr>\n",
       "      <th>2020-04-19</th>\n",
       "      <td>49862.5</td>\n",
       "      <td>48862.500000</td>\n",
       "      <td>49400.0</td>\n",
       "      <td>49425.000000</td>\n",
       "      <td>21007362.75</td>\n",
       "      <td>47179.200195</td>\n",
       "    </tr>\n",
       "    <tr>\n",
       "      <th>2020-04-26</th>\n",
       "      <td>50230.0</td>\n",
       "      <td>49110.000000</td>\n",
       "      <td>49870.0</td>\n",
       "      <td>49680.000000</td>\n",
       "      <td>20452110.00</td>\n",
       "      <td>47422.610156</td>\n",
       "    </tr>\n",
       "    <tr>\n",
       "      <th>2020-05-03</th>\n",
       "      <td>50200.0</td>\n",
       "      <td>49333.333333</td>\n",
       "      <td>49700.0</td>\n",
       "      <td>49983.333333</td>\n",
       "      <td>15249801.00</td>\n",
       "      <td>47712.162760</td>\n",
       "    </tr>\n",
       "    <tr>\n",
       "      <th>2020-05-10</th>\n",
       "      <td>49237.5</td>\n",
       "      <td>48625.000000</td>\n",
       "      <td>49050.0</td>\n",
       "      <td>48825.000000</td>\n",
       "      <td>18339521.25</td>\n",
       "      <td>46606.464844</td>\n",
       "    </tr>\n",
       "    <tr>\n",
       "      <th>2020-05-17</th>\n",
       "      <td>48570.0</td>\n",
       "      <td>47680.000000</td>\n",
       "      <td>48140.0</td>\n",
       "      <td>48140.000000</td>\n",
       "      <td>19556740.40</td>\n",
       "      <td>45952.588281</td>\n",
       "    </tr>\n",
       "    <tr>\n",
       "      <th>2020-05-24</th>\n",
       "      <td>50000.0</td>\n",
       "      <td>49110.000000</td>\n",
       "      <td>49590.0</td>\n",
       "      <td>49560.000000</td>\n",
       "      <td>19040545.00</td>\n",
       "      <td>47308.065625</td>\n",
       "    </tr>\n",
       "    <tr>\n",
       "      <th>2020-05-31</th>\n",
       "      <td>50050.0</td>\n",
       "      <td>49090.000000</td>\n",
       "      <td>49500.0</td>\n",
       "      <td>49820.000000</td>\n",
       "      <td>21584032.20</td>\n",
       "      <td>47556.253125</td>\n",
       "    </tr>\n",
       "    <tr>\n",
       "      <th>2020-06-07</th>\n",
       "      <td>54120.0</td>\n",
       "      <td>52340.000000</td>\n",
       "      <td>52760.0</td>\n",
       "      <td>53440.000000</td>\n",
       "      <td>28683778.60</td>\n",
       "      <td>51011.763281</td>\n",
       "    </tr>\n",
       "    <tr>\n",
       "      <th>2020-06-14</th>\n",
       "      <td>55360.0</td>\n",
       "      <td>53740.000000</td>\n",
       "      <td>54780.0</td>\n",
       "      <td>54480.000000</td>\n",
       "      <td>25433486.20</td>\n",
       "      <td>52004.507031</td>\n",
       "    </tr>\n",
       "    <tr>\n",
       "      <th>2020-06-21</th>\n",
       "      <td>52440.0</td>\n",
       "      <td>51000.000000</td>\n",
       "      <td>51900.0</td>\n",
       "      <td>51880.000000</td>\n",
       "      <td>22278960.40</td>\n",
       "      <td>49522.647656</td>\n",
       "    </tr>\n",
       "    <tr>\n",
       "      <th>2020-06-28</th>\n",
       "      <td>53240.0</td>\n",
       "      <td>51720.000000</td>\n",
       "      <td>52260.0</td>\n",
       "      <td>52300.000000</td>\n",
       "      <td>19304807.60</td>\n",
       "      <td>49923.562500</td>\n",
       "    </tr>\n",
       "    <tr>\n",
       "      <th>2020-07-05</th>\n",
       "      <td>53440.0</td>\n",
       "      <td>52400.000000</td>\n",
       "      <td>52980.0</td>\n",
       "      <td>52860.000000</td>\n",
       "      <td>16334138.20</td>\n",
       "      <td>50795.482812</td>\n",
       "    </tr>\n",
       "    <tr>\n",
       "      <th>2020-07-12</th>\n",
       "      <td>54320.0</td>\n",
       "      <td>53040.000000</td>\n",
       "      <td>53940.0</td>\n",
       "      <td>53380.000000</td>\n",
       "      <td>20210180.60</td>\n",
       "      <td>51295.172656</td>\n",
       "    </tr>\n",
       "    <tr>\n",
       "      <th>2020-07-19</th>\n",
       "      <td>54420.0</td>\n",
       "      <td>53700.000000</td>\n",
       "      <td>54080.0</td>\n",
       "      <td>54020.000000</td>\n",
       "      <td>15487284.60</td>\n",
       "      <td>51910.177344</td>\n",
       "    </tr>\n",
       "    <tr>\n",
       "      <th>2020-07-26</th>\n",
       "      <td>54960.0</td>\n",
       "      <td>54200.000000</td>\n",
       "      <td>54800.0</td>\n",
       "      <td>54500.000000</td>\n",
       "      <td>13779862.80</td>\n",
       "      <td>52371.430469</td>\n",
       "    </tr>\n",
       "    <tr>\n",
       "      <th>2020-08-02</th>\n",
       "      <td>58920.0</td>\n",
       "      <td>57200.000000</td>\n",
       "      <td>58160.0</td>\n",
       "      <td>58020.000000</td>\n",
       "      <td>29438259.40</td>\n",
       "      <td>55753.950781</td>\n",
       "    </tr>\n",
       "    <tr>\n",
       "      <th>2020-08-09</th>\n",
       "      <td>58060.0</td>\n",
       "      <td>56840.000000</td>\n",
       "      <td>57460.0</td>\n",
       "      <td>57300.000000</td>\n",
       "      <td>19739186.20</td>\n",
       "      <td>55062.072656</td>\n",
       "    </tr>\n",
       "    <tr>\n",
       "      <th>2020-08-16</th>\n",
       "      <td>58960.0</td>\n",
       "      <td>57740.000000</td>\n",
       "      <td>58240.0</td>\n",
       "      <td>58340.000000</td>\n",
       "      <td>19803629.00</td>\n",
       "      <td>56061.453906</td>\n",
       "    </tr>\n",
       "    <tr>\n",
       "      <th>2020-08-23</th>\n",
       "      <td>58400.0</td>\n",
       "      <td>56725.000000</td>\n",
       "      <td>57925.0</td>\n",
       "      <td>56875.000000</td>\n",
       "      <td>23441715.25</td>\n",
       "      <td>54653.670898</td>\n",
       "    </tr>\n",
       "    <tr>\n",
       "      <th>2020-08-30</th>\n",
       "      <td>56500.0</td>\n",
       "      <td>55640.000000</td>\n",
       "      <td>56200.0</td>\n",
       "      <td>55980.000000</td>\n",
       "      <td>15509130.00</td>\n",
       "      <td>53793.626563</td>\n",
       "    </tr>\n",
       "    <tr>\n",
       "      <th>2020-09-06</th>\n",
       "      <td>55700.0</td>\n",
       "      <td>54560.000000</td>\n",
       "      <td>55100.0</td>\n",
       "      <td>54920.000000</td>\n",
       "      <td>23892847.20</td>\n",
       "      <td>52775.027344</td>\n",
       "    </tr>\n",
       "    <tr>\n",
       "      <th>2020-09-13</th>\n",
       "      <td>58940.0</td>\n",
       "      <td>57620.000000</td>\n",
       "      <td>58180.0</td>\n",
       "      <td>58360.000000</td>\n",
       "      <td>25348238.00</td>\n",
       "      <td>56080.673438</td>\n",
       "    </tr>\n",
       "    <tr>\n",
       "      <th>2020-09-20</th>\n",
       "      <td>60760.0</td>\n",
       "      <td>59880.000000</td>\n",
       "      <td>60540.0</td>\n",
       "      <td>60240.000000</td>\n",
       "      <td>19911945.40</td>\n",
       "      <td>57887.246094</td>\n",
       "    </tr>\n",
       "    <tr>\n",
       "      <th>2020-09-27</th>\n",
       "      <td>59060.0</td>\n",
       "      <td>57900.000000</td>\n",
       "      <td>58400.0</td>\n",
       "      <td>58340.000000</td>\n",
       "      <td>17018173.80</td>\n",
       "      <td>56061.453125</td>\n",
       "    </tr>\n",
       "    <tr>\n",
       "      <th>2020-10-04</th>\n",
       "      <td>58900.0</td>\n",
       "      <td>58050.000000</td>\n",
       "      <td>58300.0</td>\n",
       "      <td>58200.000000</td>\n",
       "      <td>14058821.50</td>\n",
       "      <td>56270.964844</td>\n",
       "    </tr>\n",
       "    <tr>\n",
       "      <th>2020-10-11</th>\n",
       "      <td>59925.0</td>\n",
       "      <td>58550.000000</td>\n",
       "      <td>59025.0</td>\n",
       "      <td>59325.000000</td>\n",
       "      <td>18535969.25</td>\n",
       "      <td>57358.674805</td>\n",
       "    </tr>\n",
       "    <tr>\n",
       "      <th>2020-10-18</th>\n",
       "      <td>60820.0</td>\n",
       "      <td>59900.000000</td>\n",
       "      <td>60540.0</td>\n",
       "      <td>60340.000000</td>\n",
       "      <td>17158121.20</td>\n",
       "      <td>58340.032031</td>\n",
       "    </tr>\n",
       "    <tr>\n",
       "      <th>2020-10-25</th>\n",
       "      <td>60700.0</td>\n",
       "      <td>59960.000000</td>\n",
       "      <td>60360.0</td>\n",
       "      <td>60420.000000</td>\n",
       "      <td>14624174.00</td>\n",
       "      <td>58417.381250</td>\n",
       "    </tr>\n",
       "    <tr>\n",
       "      <th>2020-11-01</th>\n",
       "      <td>59460.0</td>\n",
       "      <td>58500.000000</td>\n",
       "      <td>59260.0</td>\n",
       "      <td>58780.000000</td>\n",
       "      <td>18900466.80</td>\n",
       "      <td>56831.737500</td>\n",
       "    </tr>\n",
       "    <tr>\n",
       "      <th>2020-11-08</th>\n",
       "      <td>59300.0</td>\n",
       "      <td>57960.000000</td>\n",
       "      <td>58580.0</td>\n",
       "      <td>59020.000000</td>\n",
       "      <td>18941652.20</td>\n",
       "      <td>57063.783594</td>\n",
       "    </tr>\n",
       "    <tr>\n",
       "      <th>2020-11-15</th>\n",
       "      <td>61480.0</td>\n",
       "      <td>60340.000000</td>\n",
       "      <td>60840.0</td>\n",
       "      <td>61180.000000</td>\n",
       "      <td>22380885.00</td>\n",
       "      <td>59152.190625</td>\n",
       "    </tr>\n",
       "    <tr>\n",
       "      <th>2020-11-22</th>\n",
       "      <td>65980.0</td>\n",
       "      <td>64400.000000</td>\n",
       "      <td>64940.0</td>\n",
       "      <td>65220.000000</td>\n",
       "      <td>24236237.00</td>\n",
       "      <td>63058.283594</td>\n",
       "    </tr>\n",
       "    <tr>\n",
       "      <th>2020-11-29</th>\n",
       "      <td>68400.0</td>\n",
       "      <td>66360.000000</td>\n",
       "      <td>66940.0</td>\n",
       "      <td>67600.000000</td>\n",
       "      <td>24965291.00</td>\n",
       "      <td>65359.398438</td>\n",
       "    </tr>\n",
       "    <tr>\n",
       "      <th>2020-12-06</th>\n",
       "      <td>69880.0</td>\n",
       "      <td>68300.000000</td>\n",
       "      <td>68880.0</td>\n",
       "      <td>69040.000000</td>\n",
       "      <td>29530130.60</td>\n",
       "      <td>66751.671875</td>\n",
       "    </tr>\n",
       "    <tr>\n",
       "      <th>2020-12-13</th>\n",
       "      <td>73580.0</td>\n",
       "      <td>72220.000000</td>\n",
       "      <td>72580.0</td>\n",
       "      <td>72960.000000</td>\n",
       "      <td>27187686.00</td>\n",
       "      <td>70541.746875</td>\n",
       "    </tr>\n",
       "    <tr>\n",
       "      <th>2020-12-20</th>\n",
       "      <td>74100.0</td>\n",
       "      <td>73100.000000</td>\n",
       "      <td>73640.0</td>\n",
       "      <td>73540.000000</td>\n",
       "      <td>20358482.00</td>\n",
       "      <td>71102.517187</td>\n",
       "    </tr>\n",
       "    <tr>\n",
       "      <th>2020-12-27</th>\n",
       "      <td>74850.0</td>\n",
       "      <td>72600.000000</td>\n",
       "      <td>73025.0</td>\n",
       "      <td>74250.000000</td>\n",
       "      <td>22146615.25</td>\n",
       "      <td>71788.986328</td>\n",
       "    </tr>\n",
       "    <tr>\n",
       "      <th>2021-01-03</th>\n",
       "      <td>80100.0</td>\n",
       "      <td>77600.000000</td>\n",
       "      <td>78400.0</td>\n",
       "      <td>79333.333333</td>\n",
       "      <td>33280638.00</td>\n",
       "      <td>77995.893229</td>\n",
       "    </tr>\n",
       "  </tbody>\n",
       "</table>\n",
       "</div>"
      ],
      "text/plain": [
       "               High           Low     Open         Close       Volume  \\\n",
       "Date                                                                    \n",
       "2020-01-05  56300.0  54950.000000  55750.0  55350.000000  14207741.50   \n",
       "2020-01-12  57540.0  56360.000000  56800.0  57240.000000  16778529.80   \n",
       "2020-01-19  60660.0  59580.000000  60100.0  60200.000000  14594759.40   \n",
       "2020-01-26  62400.0  61000.000000  61575.0  61725.000000  13481917.00   \n",
       "2020-02-02  59075.0  57575.000000  58775.0  57875.000000  20170509.75   \n",
       "2020-02-09  59780.0  58060.000000  58760.0  59420.000000  19240653.80   \n",
       "2020-02-16  60940.0  59840.000000  60280.0  60520.000000  13761680.20   \n",
       "2020-02-23  60880.0  59680.000000  60340.0  60140.000000  13347135.00   \n",
       "2020-03-01  57100.0  55740.000000  56180.0  56260.000000  25651963.00   \n",
       "2020-03-08  57040.0  55240.000000  55980.0  56420.000000  25183016.20   \n",
       "2020-03-15  53900.0  52230.000000  52830.0  53050.000000  27455353.60   \n",
       "2020-03-22  48210.0  45390.000000  47060.0  46030.000000  46273223.20   \n",
       "2020-03-29  47820.0  45430.000000  46800.0  46840.000000  45264152.60   \n",
       "2020-04-05  47840.0  46280.000000  47220.0  47040.000000  25823389.20   \n",
       "2020-04-12  49560.0  48440.000000  49090.0  49050.000000  24079448.60   \n",
       "2020-04-19  49862.5  48862.500000  49400.0  49425.000000  21007362.75   \n",
       "2020-04-26  50230.0  49110.000000  49870.0  49680.000000  20452110.00   \n",
       "2020-05-03  50200.0  49333.333333  49700.0  49983.333333  15249801.00   \n",
       "2020-05-10  49237.5  48625.000000  49050.0  48825.000000  18339521.25   \n",
       "2020-05-17  48570.0  47680.000000  48140.0  48140.000000  19556740.40   \n",
       "2020-05-24  50000.0  49110.000000  49590.0  49560.000000  19040545.00   \n",
       "2020-05-31  50050.0  49090.000000  49500.0  49820.000000  21584032.20   \n",
       "2020-06-07  54120.0  52340.000000  52760.0  53440.000000  28683778.60   \n",
       "2020-06-14  55360.0  53740.000000  54780.0  54480.000000  25433486.20   \n",
       "2020-06-21  52440.0  51000.000000  51900.0  51880.000000  22278960.40   \n",
       "2020-06-28  53240.0  51720.000000  52260.0  52300.000000  19304807.60   \n",
       "2020-07-05  53440.0  52400.000000  52980.0  52860.000000  16334138.20   \n",
       "2020-07-12  54320.0  53040.000000  53940.0  53380.000000  20210180.60   \n",
       "2020-07-19  54420.0  53700.000000  54080.0  54020.000000  15487284.60   \n",
       "2020-07-26  54960.0  54200.000000  54800.0  54500.000000  13779862.80   \n",
       "2020-08-02  58920.0  57200.000000  58160.0  58020.000000  29438259.40   \n",
       "2020-08-09  58060.0  56840.000000  57460.0  57300.000000  19739186.20   \n",
       "2020-08-16  58960.0  57740.000000  58240.0  58340.000000  19803629.00   \n",
       "2020-08-23  58400.0  56725.000000  57925.0  56875.000000  23441715.25   \n",
       "2020-08-30  56500.0  55640.000000  56200.0  55980.000000  15509130.00   \n",
       "2020-09-06  55700.0  54560.000000  55100.0  54920.000000  23892847.20   \n",
       "2020-09-13  58940.0  57620.000000  58180.0  58360.000000  25348238.00   \n",
       "2020-09-20  60760.0  59880.000000  60540.0  60240.000000  19911945.40   \n",
       "2020-09-27  59060.0  57900.000000  58400.0  58340.000000  17018173.80   \n",
       "2020-10-04  58900.0  58050.000000  58300.0  58200.000000  14058821.50   \n",
       "2020-10-11  59925.0  58550.000000  59025.0  59325.000000  18535969.25   \n",
       "2020-10-18  60820.0  59900.000000  60540.0  60340.000000  17158121.20   \n",
       "2020-10-25  60700.0  59960.000000  60360.0  60420.000000  14624174.00   \n",
       "2020-11-01  59460.0  58500.000000  59260.0  58780.000000  18900466.80   \n",
       "2020-11-08  59300.0  57960.000000  58580.0  59020.000000  18941652.20   \n",
       "2020-11-15  61480.0  60340.000000  60840.0  61180.000000  22380885.00   \n",
       "2020-11-22  65980.0  64400.000000  64940.0  65220.000000  24236237.00   \n",
       "2020-11-29  68400.0  66360.000000  66940.0  67600.000000  24965291.00   \n",
       "2020-12-06  69880.0  68300.000000  68880.0  69040.000000  29530130.60   \n",
       "2020-12-13  73580.0  72220.000000  72580.0  72960.000000  27187686.00   \n",
       "2020-12-20  74100.0  73100.000000  73640.0  73540.000000  20358482.00   \n",
       "2020-12-27  74850.0  72600.000000  73025.0  74250.000000  22146615.25   \n",
       "2021-01-03  80100.0  77600.000000  78400.0  79333.333333  33280638.00   \n",
       "\n",
       "               Adj Close  \n",
       "Date                      \n",
       "2020-01-05  52447.740234  \n",
       "2020-01-12  54238.637500  \n",
       "2020-01-19  57043.431250  \n",
       "2020-01-26  58488.468750  \n",
       "2020-02-02  54840.339844  \n",
       "2020-02-09  56304.330469  \n",
       "2020-02-16  57346.653125  \n",
       "2020-02-23  56986.577344  \n",
       "2020-03-01  53310.023438  \n",
       "2020-03-08  53461.631250  \n",
       "2020-03-15  50268.338281  \n",
       "2020-03-22  43616.431250  \n",
       "2020-03-29  44383.960156  \n",
       "2020-04-05  44902.571094  \n",
       "2020-04-12  46821.237500  \n",
       "2020-04-19  47179.200195  \n",
       "2020-04-26  47422.610156  \n",
       "2020-05-03  47712.162760  \n",
       "2020-05-10  46606.464844  \n",
       "2020-05-17  45952.588281  \n",
       "2020-05-24  47308.065625  \n",
       "2020-05-31  47556.253125  \n",
       "2020-06-07  51011.763281  \n",
       "2020-06-14  52004.507031  \n",
       "2020-06-21  49522.647656  \n",
       "2020-06-28  49923.562500  \n",
       "2020-07-05  50795.482812  \n",
       "2020-07-12  51295.172656  \n",
       "2020-07-19  51910.177344  \n",
       "2020-07-26  52371.430469  \n",
       "2020-08-02  55753.950781  \n",
       "2020-08-09  55062.072656  \n",
       "2020-08-16  56061.453906  \n",
       "2020-08-23  54653.670898  \n",
       "2020-08-30  53793.626563  \n",
       "2020-09-06  52775.027344  \n",
       "2020-09-13  56080.673438  \n",
       "2020-09-20  57887.246094  \n",
       "2020-09-27  56061.453125  \n",
       "2020-10-04  56270.964844  \n",
       "2020-10-11  57358.674805  \n",
       "2020-10-18  58340.032031  \n",
       "2020-10-25  58417.381250  \n",
       "2020-11-01  56831.737500  \n",
       "2020-11-08  57063.783594  \n",
       "2020-11-15  59152.190625  \n",
       "2020-11-22  63058.283594  \n",
       "2020-11-29  65359.398438  \n",
       "2020-12-06  66751.671875  \n",
       "2020-12-13  70541.746875  \n",
       "2020-12-20  71102.517187  \n",
       "2020-12-27  71788.986328  \n",
       "2021-01-03  77995.893229  "
      ]
     },
     "execution_count": 162,
     "metadata": {},
     "output_type": "execute_result"
    }
   ],
   "source": [
    "# 2. 2020년도 주별 집계현황을 구하시요.\n",
    "\n",
    "samsungDF.loc['2020'].resample('W').mean()"
   ]
  },
  {
   "cell_type": "code",
   "execution_count": 163,
   "id": "621b859f",
   "metadata": {
    "scrolled": true
   },
   "outputs": [
    {
     "data": {
      "text/html": [
       "<div>\n",
       "<style scoped>\n",
       "    .dataframe tbody tr th:only-of-type {\n",
       "        vertical-align: middle;\n",
       "    }\n",
       "\n",
       "    .dataframe tbody tr th {\n",
       "        vertical-align: top;\n",
       "    }\n",
       "\n",
       "    .dataframe thead th {\n",
       "        text-align: right;\n",
       "    }\n",
       "</style>\n",
       "<table border=\"1\" class=\"dataframe\">\n",
       "  <thead>\n",
       "    <tr style=\"text-align: right;\">\n",
       "      <th></th>\n",
       "      <th></th>\n",
       "      <th>High</th>\n",
       "      <th>Low</th>\n",
       "      <th>Open</th>\n",
       "      <th>Close</th>\n",
       "      <th>Volume</th>\n",
       "      <th>Adj Close</th>\n",
       "    </tr>\n",
       "    <tr>\n",
       "      <th>Date</th>\n",
       "      <th>Date</th>\n",
       "      <th></th>\n",
       "      <th></th>\n",
       "      <th></th>\n",
       "      <th></th>\n",
       "      <th></th>\n",
       "      <th></th>\n",
       "    </tr>\n",
       "  </thead>\n",
       "  <tbody>\n",
       "    <tr>\n",
       "      <th rowspan=\"12\" valign=\"top\">2020</th>\n",
       "      <th>1</th>\n",
       "      <td>59475.000000</td>\n",
       "      <td>58195.000000</td>\n",
       "      <td>58870.000000</td>\n",
       "      <td>58815.000000</td>\n",
       "      <td>1.599458e+07</td>\n",
       "      <td>55731.052930</td>\n",
       "    </tr>\n",
       "    <tr>\n",
       "      <th>2</th>\n",
       "      <td>59675.000000</td>\n",
       "      <td>58330.000000</td>\n",
       "      <td>58890.000000</td>\n",
       "      <td>59085.000000</td>\n",
       "      <td>1.800036e+07</td>\n",
       "      <td>55986.896094</td>\n",
       "    </tr>\n",
       "    <tr>\n",
       "      <th>3</th>\n",
       "      <td>51440.909091</td>\n",
       "      <td>49325.000000</td>\n",
       "      <td>50381.818182</td>\n",
       "      <td>50331.818182</td>\n",
       "      <td>3.537865e+07</td>\n",
       "      <td>47723.085405</td>\n",
       "    </tr>\n",
       "    <tr>\n",
       "      <th>4</th>\n",
       "      <td>49567.500000</td>\n",
       "      <td>48445.000000</td>\n",
       "      <td>49127.500000</td>\n",
       "      <td>49045.000000</td>\n",
       "      <td>2.120510e+07</td>\n",
       "      <td>46816.465430</td>\n",
       "    </tr>\n",
       "    <tr>\n",
       "      <th>5</th>\n",
       "      <td>49476.315789</td>\n",
       "      <td>48626.315789</td>\n",
       "      <td>49071.052632</td>\n",
       "      <td>49100.000000</td>\n",
       "      <td>1.969814e+07</td>\n",
       "      <td>46868.968133</td>\n",
       "    </tr>\n",
       "    <tr>\n",
       "      <th>6</th>\n",
       "      <td>53768.181818</td>\n",
       "      <td>52218.181818</td>\n",
       "      <td>52950.000000</td>\n",
       "      <td>52986.363636</td>\n",
       "      <td>2.351997e+07</td>\n",
       "      <td>50609.257990</td>\n",
       "    </tr>\n",
       "    <tr>\n",
       "      <th>7</th>\n",
       "      <td>55356.521739</td>\n",
       "      <td>54256.521739</td>\n",
       "      <td>54930.434783</td>\n",
       "      <td>54726.086957</td>\n",
       "      <td>1.901368e+07</td>\n",
       "      <td>52588.686821</td>\n",
       "    </tr>\n",
       "    <tr>\n",
       "      <th>8</th>\n",
       "      <td>57865.000000</td>\n",
       "      <td>56600.000000</td>\n",
       "      <td>57360.000000</td>\n",
       "      <td>56980.000000</td>\n",
       "      <td>2.008490e+07</td>\n",
       "      <td>54754.570508</td>\n",
       "    </tr>\n",
       "    <tr>\n",
       "      <th>9</th>\n",
       "      <td>58761.904762</td>\n",
       "      <td>57709.523810</td>\n",
       "      <td>58176.190476</td>\n",
       "      <td>58176.190476</td>\n",
       "      <td>2.030011e+07</td>\n",
       "      <td>55936.808036</td>\n",
       "    </tr>\n",
       "    <tr>\n",
       "      <th>10</th>\n",
       "      <td>60242.105263</td>\n",
       "      <td>59263.157895</td>\n",
       "      <td>59836.842105</td>\n",
       "      <td>59736.842105</td>\n",
       "      <td>1.723988e+07</td>\n",
       "      <td>57756.865954</td>\n",
       "    </tr>\n",
       "    <tr>\n",
       "      <th>11</th>\n",
       "      <td>64019.047619</td>\n",
       "      <td>62476.190476</td>\n",
       "      <td>63090.476190</td>\n",
       "      <td>63419.047619</td>\n",
       "      <td>2.363959e+07</td>\n",
       "      <td>61317.024554</td>\n",
       "    </tr>\n",
       "    <tr>\n",
       "      <th>12</th>\n",
       "      <td>74233.333333</td>\n",
       "      <td>72600.000000</td>\n",
       "      <td>73066.666667</td>\n",
       "      <td>73619.047619</td>\n",
       "      <td>2.523804e+07</td>\n",
       "      <td>71363.527158</td>\n",
       "    </tr>\n",
       "    <tr>\n",
       "      <th rowspan=\"10\" valign=\"top\">2021</th>\n",
       "      <th>1</th>\n",
       "      <td>88410.000000</td>\n",
       "      <td>85190.000000</td>\n",
       "      <td>86365.000000</td>\n",
       "      <td>86565.000000</td>\n",
       "      <td>3.827356e+07</td>\n",
       "      <td>85802.157422</td>\n",
       "    </tr>\n",
       "    <tr>\n",
       "      <th>2</th>\n",
       "      <td>84177.777778</td>\n",
       "      <td>82400.000000</td>\n",
       "      <td>83272.222222</td>\n",
       "      <td>83127.777778</td>\n",
       "      <td>2.405296e+07</td>\n",
       "      <td>82395.224826</td>\n",
       "    </tr>\n",
       "    <tr>\n",
       "      <th>3</th>\n",
       "      <td>82763.636364</td>\n",
       "      <td>81609.090909</td>\n",
       "      <td>82250.000000</td>\n",
       "      <td>82072.727273</td>\n",
       "      <td>1.761874e+07</td>\n",
       "      <td>81382.226562</td>\n",
       "    </tr>\n",
       "    <tr>\n",
       "      <th>4</th>\n",
       "      <td>84150.000000</td>\n",
       "      <td>83095.454545</td>\n",
       "      <td>83786.363636</td>\n",
       "      <td>83586.363636</td>\n",
       "      <td>1.695174e+07</td>\n",
       "      <td>83217.930398</td>\n",
       "    </tr>\n",
       "    <tr>\n",
       "      <th>5</th>\n",
       "      <td>81105.263158</td>\n",
       "      <td>80015.789474</td>\n",
       "      <td>80547.368421</td>\n",
       "      <td>80521.052632</td>\n",
       "      <td>1.853742e+07</td>\n",
       "      <td>80166.129934</td>\n",
       "    </tr>\n",
       "    <tr>\n",
       "      <th>6</th>\n",
       "      <td>81590.909091</td>\n",
       "      <td>80740.909091</td>\n",
       "      <td>81195.454545</td>\n",
       "      <td>81104.545455</td>\n",
       "      <td>1.514088e+07</td>\n",
       "      <td>80779.448509</td>\n",
       "    </tr>\n",
       "    <tr>\n",
       "      <th>7</th>\n",
       "      <td>79963.636364</td>\n",
       "      <td>79250.000000</td>\n",
       "      <td>79645.454545</td>\n",
       "      <td>79577.272727</td>\n",
       "      <td>1.254028e+07</td>\n",
       "      <td>79577.272727</td>\n",
       "    </tr>\n",
       "    <tr>\n",
       "      <th>8</th>\n",
       "      <td>77914.285714</td>\n",
       "      <td>76428.571429</td>\n",
       "      <td>77204.761905</td>\n",
       "      <td>77023.809524</td>\n",
       "      <td>2.380298e+07</td>\n",
       "      <td>77023.809524</td>\n",
       "    </tr>\n",
       "    <tr>\n",
       "      <th>9</th>\n",
       "      <td>76884.210526</td>\n",
       "      <td>75800.000000</td>\n",
       "      <td>76526.315789</td>\n",
       "      <td>76305.263158</td>\n",
       "      <td>1.480175e+07</td>\n",
       "      <td>76305.263158</td>\n",
       "    </tr>\n",
       "    <tr>\n",
       "      <th>10</th>\n",
       "      <td>72860.000000</td>\n",
       "      <td>71660.000000</td>\n",
       "      <td>72680.000000</td>\n",
       "      <td>71960.000000</td>\n",
       "      <td>1.730022e+07</td>\n",
       "      <td>71960.000000</td>\n",
       "    </tr>\n",
       "  </tbody>\n",
       "</table>\n",
       "</div>"
      ],
      "text/plain": [
       "                   High           Low          Open         Close  \\\n",
       "Date Date                                                           \n",
       "2020 1     59475.000000  58195.000000  58870.000000  58815.000000   \n",
       "     2     59675.000000  58330.000000  58890.000000  59085.000000   \n",
       "     3     51440.909091  49325.000000  50381.818182  50331.818182   \n",
       "     4     49567.500000  48445.000000  49127.500000  49045.000000   \n",
       "     5     49476.315789  48626.315789  49071.052632  49100.000000   \n",
       "     6     53768.181818  52218.181818  52950.000000  52986.363636   \n",
       "     7     55356.521739  54256.521739  54930.434783  54726.086957   \n",
       "     8     57865.000000  56600.000000  57360.000000  56980.000000   \n",
       "     9     58761.904762  57709.523810  58176.190476  58176.190476   \n",
       "     10    60242.105263  59263.157895  59836.842105  59736.842105   \n",
       "     11    64019.047619  62476.190476  63090.476190  63419.047619   \n",
       "     12    74233.333333  72600.000000  73066.666667  73619.047619   \n",
       "2021 1     88410.000000  85190.000000  86365.000000  86565.000000   \n",
       "     2     84177.777778  82400.000000  83272.222222  83127.777778   \n",
       "     3     82763.636364  81609.090909  82250.000000  82072.727273   \n",
       "     4     84150.000000  83095.454545  83786.363636  83586.363636   \n",
       "     5     81105.263158  80015.789474  80547.368421  80521.052632   \n",
       "     6     81590.909091  80740.909091  81195.454545  81104.545455   \n",
       "     7     79963.636364  79250.000000  79645.454545  79577.272727   \n",
       "     8     77914.285714  76428.571429  77204.761905  77023.809524   \n",
       "     9     76884.210526  75800.000000  76526.315789  76305.263158   \n",
       "     10    72860.000000  71660.000000  72680.000000  71960.000000   \n",
       "\n",
       "                 Volume     Adj Close  \n",
       "Date Date                              \n",
       "2020 1     1.599458e+07  55731.052930  \n",
       "     2     1.800036e+07  55986.896094  \n",
       "     3     3.537865e+07  47723.085405  \n",
       "     4     2.120510e+07  46816.465430  \n",
       "     5     1.969814e+07  46868.968133  \n",
       "     6     2.351997e+07  50609.257990  \n",
       "     7     1.901368e+07  52588.686821  \n",
       "     8     2.008490e+07  54754.570508  \n",
       "     9     2.030011e+07  55936.808036  \n",
       "     10    1.723988e+07  57756.865954  \n",
       "     11    2.363959e+07  61317.024554  \n",
       "     12    2.523804e+07  71363.527158  \n",
       "2021 1     3.827356e+07  85802.157422  \n",
       "     2     2.405296e+07  82395.224826  \n",
       "     3     1.761874e+07  81382.226562  \n",
       "     4     1.695174e+07  83217.930398  \n",
       "     5     1.853742e+07  80166.129934  \n",
       "     6     1.514088e+07  80779.448509  \n",
       "     7     1.254028e+07  79577.272727  \n",
       "     8     2.380298e+07  77023.809524  \n",
       "     9     1.480175e+07  76305.263158  \n",
       "     10    1.730022e+07  71960.000000  "
      ]
     },
     "execution_count": 163,
     "metadata": {},
     "output_type": "execute_result"
    }
   ],
   "source": [
    "# 3. 2020년 이후 년및 월별 집계현황을 구하시요.\n",
    "\n",
    "samsungDF['2020':].groupby([samsungDF.loc['2020':].index.year,\n",
    "                            samsungDF.loc['2020':].index.month]).mean()"
   ]
  },
  {
   "cell_type": "code",
   "execution_count": 164,
   "id": "d6c048e2",
   "metadata": {},
   "outputs": [
    {
     "data": {
      "text/html": [
       "<div>\n",
       "<style scoped>\n",
       "    .dataframe tbody tr th:only-of-type {\n",
       "        vertical-align: middle;\n",
       "    }\n",
       "\n",
       "    .dataframe tbody tr th {\n",
       "        vertical-align: top;\n",
       "    }\n",
       "\n",
       "    .dataframe thead th {\n",
       "        text-align: right;\n",
       "    }\n",
       "</style>\n",
       "<table border=\"1\" class=\"dataframe\">\n",
       "  <thead>\n",
       "    <tr style=\"text-align: right;\">\n",
       "      <th></th>\n",
       "      <th>High</th>\n",
       "      <th>Low</th>\n",
       "      <th>Open</th>\n",
       "      <th>Close</th>\n",
       "      <th>Volume</th>\n",
       "      <th>Adj Close</th>\n",
       "    </tr>\n",
       "    <tr>\n",
       "      <th>Date</th>\n",
       "      <th></th>\n",
       "      <th></th>\n",
       "      <th></th>\n",
       "      <th></th>\n",
       "      <th></th>\n",
       "      <th></th>\n",
       "    </tr>\n",
       "  </thead>\n",
       "  <tbody>\n",
       "    <tr>\n",
       "      <th>2021-03-31</th>\n",
       "      <td>85070.000000</td>\n",
       "      <td>83040.000000</td>\n",
       "      <td>83928.333333</td>\n",
       "      <td>83886.666667</td>\n",
       "      <td>2.643395e+07</td>\n",
       "      <td>83159.436328</td>\n",
       "    </tr>\n",
       "    <tr>\n",
       "      <th>2021-06-30</th>\n",
       "      <td>82338.095238</td>\n",
       "      <td>81344.444444</td>\n",
       "      <td>81904.761905</td>\n",
       "      <td>81795.238095</td>\n",
       "      <td>1.679760e+07</td>\n",
       "      <td>81446.012773</td>\n",
       "    </tr>\n",
       "    <tr>\n",
       "      <th>2021-09-30</th>\n",
       "      <td>78325.806452</td>\n",
       "      <td>77237.096774</td>\n",
       "      <td>77862.903226</td>\n",
       "      <td>77709.677419</td>\n",
       "      <td>1.704810e+07</td>\n",
       "      <td>77709.677419</td>\n",
       "    </tr>\n",
       "    <tr>\n",
       "      <th>2021-12-31</th>\n",
       "      <td>72860.000000</td>\n",
       "      <td>71660.000000</td>\n",
       "      <td>72680.000000</td>\n",
       "      <td>71960.000000</td>\n",
       "      <td>1.730022e+07</td>\n",
       "      <td>71960.000000</td>\n",
       "    </tr>\n",
       "  </tbody>\n",
       "</table>\n",
       "</div>"
      ],
      "text/plain": [
       "                    High           Low          Open         Close  \\\n",
       "Date                                                                 \n",
       "2021-03-31  85070.000000  83040.000000  83928.333333  83886.666667   \n",
       "2021-06-30  82338.095238  81344.444444  81904.761905  81795.238095   \n",
       "2021-09-30  78325.806452  77237.096774  77862.903226  77709.677419   \n",
       "2021-12-31  72860.000000  71660.000000  72680.000000  71960.000000   \n",
       "\n",
       "                  Volume     Adj Close  \n",
       "Date                                    \n",
       "2021-03-31  2.643395e+07  83159.436328  \n",
       "2021-06-30  1.679760e+07  81446.012773  \n",
       "2021-09-30  1.704810e+07  77709.677419  \n",
       "2021-12-31  1.730022e+07  71960.000000  "
      ]
     },
     "execution_count": 164,
     "metadata": {},
     "output_type": "execute_result"
    }
   ],
   "source": [
    "# 4. 2021년도 분기별 집계현활을 구하시요\n",
    "\n",
    "samsungDF.loc['2021'].resample('Q').mean()"
   ]
  },
  {
   "cell_type": "code",
   "execution_count": 165,
   "id": "2e361e2f",
   "metadata": {},
   "outputs": [
    {
     "data": {
      "image/png": "[encoded data removed]",
      "text/plain": [
       "<Figure size 576x396 with 1 Axes>"
      ]
     },
     "metadata": {},
     "output_type": "display_data"
    }
   ],
   "source": [
    "# 5. 2020년도 이동평균(window=10) 을 그래프로 그리시요\n",
    "\n",
    "samsungDF.loc['2020'].rolling(window=10).mean().plot(y=['Open','Close'])\n",
    "plt.show()"
   ]
  }
 ],
 "metadata": {
  "kernelspec": {
   "display_name": "Python 3 (ipykernel)",
   "language": "python",
   "name": "python3"
  },
  "language_info": {
   "codemirror_mode": {
    "name": "ipython",
    "version": 3
   },
   "file_extension": ".py",
   "mimetype": "text/x-python",
   "name": "python",
   "nbconvert_exporter": "python",
   "pygments_lexer": "ipython3",
   "version": "3.9.7"
  },
  "toc": {
   "base_numbering": 1,
   "nav_menu": {},
   "number_sections": true,
   "sideBar": true,
   "skip_h1_title": false,
   "title_cell": "Table of Contents",
   "title_sidebar": "Contents",
   "toc_cell": false,
   "toc_position": {},
   "toc_section_display": true,
   "toc_window_display": true
  }
 },
 "nbformat": 4,
 "nbformat_minor": 5
}
